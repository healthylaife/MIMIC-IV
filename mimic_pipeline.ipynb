{
 "cells": [
  {
   "cell_type": "code",
   "execution_count": 1,
   "metadata": {},
   "outputs": [],
   "source": [
    "import ipywidgets as widgets\n",
    "from pathlib import Path\n",
    "\n",
    "from pipeline.cohort_extractor import CohortExtractor\n",
    "from pipeline.prediction_task import TargetType, PredictionTask, DiseaseCode\n",
    "from pipeline.features_extractor import FeatureExtractor"
   ]
  },
  {
   "cell_type": "markdown",
   "metadata": {},
   "source": [
    "# Welcome to MIMIC-IV Project"
   ]
  },
  {
   "cell_type": "code",
   "execution_count": 2,
   "metadata": {},
   "outputs": [],
   "source": [
    "Path(\"raw_data\").mkdir(parents=True, exist_ok=True)"
   ]
  },
  {
   "cell_type": "markdown",
   "metadata": {},
   "source": [
    "This repository explains the steps to download and clean MIMIC-IV dataset for analysis.\n",
    "The repository is compatible with MIMIC-IV v2.0\n",
    "\n",
    "Please go to:\n",
    "- https://physionet.org/content/mimiciv/2.0/ \n",
    "\n",
    "Follow instructions to get access to MIMIC-IV dataset.\n",
    "\n",
    "\n",
    "Save downloaded files in the fikder raw_data\n",
    "\n",
    "The structure should look like below\n",
    "- raw_data/mimiciv_2_0/hosp\n",
    "- raw_data/mimiciv_2_0/icu"
   ]
  },
  {
   "cell_type": "markdown",
   "metadata": {},
   "source": [
    "## 1. DATA EXTRACTION"
   ]
  },
  {
   "cell_type": "code",
   "execution_count": 3,
   "metadata": {},
   "outputs": [
    {
     "name": "stdout",
     "output_type": "stream",
     "text": [
      "Please select what prediction task you want to perform ?\n"
     ]
    },
    {
     "data": {
      "application/vnd.jupyter.widget-view+json": {
       "model_id": "4380137ad15a41a7bb2c71dab9ebfae8",
       "version_major": 2,
       "version_minor": 0
      },
      "text/plain": [
       "RadioButtons(options=('Mortality', 'Length of Stay', 'Readmission', 'Phenotype'), value='Mortality')"
      ]
     },
     "metadata": {},
     "output_type": "display_data"
    }
   ],
   "source": [
    "print(\"Please select what prediction task you want to perform ?\")\n",
    "task_ratio = widgets.RadioButtons(options=['Mortality','Length of Stay','Readmission','Phenotype'],value='Mortality')\n",
    "display(task_ratio)"
   ]
  },
  {
   "cell_type": "markdown",
   "metadata": {},
   "source": [
    "### Refining Cohort and Prediction Task Definition\n",
    "\n",
    "Based on your current selection following block will provide option to further refine prediction task and cohort associated with it:\n",
    "\n",
    "- First you will refine the prediction task choosing from following options -\n",
    "    - **Length of Stay** - You can select from two predefined options or enter custom number of days to predict length os stay greater than number of days.\n",
    "\n",
    "    - **Readmission** - You can select from two predefined options or enter custom number of days to predict readmission after \"number of days\" after previous admission.\n",
    "\n",
    "    - **Phenotype Prediction** - You can select from four major chronic diseases to predict its future outcome\n",
    "\n",
    "        - Heart failure\n",
    "        - CAD (Coronary Artery Disease)\n",
    "        - CKD (Chronic Kidney Disease)\n",
    "        - COPD (Chronic obstructive pulmonary disease)\n",
    "\n",
    "- Second, you will choode whether to perfom above task using ICU or non-ICU admissions data\n",
    "\n",
    "- Third, you can refine the refine the cohort selection for any of the above choosen prediction tasks by including the admission samples admitted with particular chronic disease - \n",
    "    - Heart failure\n",
    "    - CAD (Coronary Artery Disease)\n",
    "    - CKD (Chronic Kidney Disease)\n",
    "    - COPD (Chronic obstructive pulmonary disease)\n",
    "    "
   ]
  },
  {
   "cell_type": "code",
   "execution_count": 4,
   "metadata": {},
   "outputs": [
    {
     "name": "stdout",
     "output_type": "stream",
     "text": [
      "Please select below if you want to work with ICU or Non-ICU data:\n"
     ]
    },
    {
     "data": {
      "application/vnd.jupyter.widget-view+json": {
       "model_id": "2753dae2c46f49abb5c8623756c319b0",
       "version_major": 2,
       "version_minor": 0
      },
      "text/plain": [
       "RadioButtons(options=('ICU', 'Non-ICU'), value='ICU')"
      ]
     },
     "metadata": {},
     "output_type": "display_data"
    },
    {
     "name": "stdout",
     "output_type": "stream",
     "text": [
      "Please select if you want to perform the chosen prediction task for a specific disease.\n"
     ]
    },
    {
     "data": {
      "application/vnd.jupyter.widget-view+json": {
       "model_id": "f53d7dd969044115bedd712be0ba9a5f",
       "version_major": 2,
       "version_minor": 0
      },
      "text/plain": [
       "RadioButtons(options=('No Disease Filter', 'Heart Failure', 'CKD', 'CAD', 'COPD'), value='No Disease Filter')"
      ]
     },
     "metadata": {},
     "output_type": "display_data"
    }
   ],
   "source": [
    "def create_length_of_stay_widgets():\n",
    "    radio_options = ['Length of Stay ≥ 3', 'Length of Stay ≥ 7', 'Custom']\n",
    "    radio_input = widgets.RadioButtons(options=radio_options, value='Length of Stay ≥ 3')\n",
    "    slider = widgets.IntSlider(value=3, min=1, max=10, step=1, continuous_update=False)\n",
    "    display(radio_input, widgets.HBox([widgets.Label('Length of stay ≥ (days):', layout={'width': '180px'}), slider]))\n",
    "    return radio_input, slider\n",
    "\n",
    "def create_readmission_widgets():\n",
    "    radio_options = ['30 Day Readmission', '60 Day Readmission', '90 Day Readmission', '120 Day Readmission', 'Custom']\n",
    "    radio_input = widgets.RadioButtons(options=radio_options, value='30 Day Readmission')\n",
    "    slider = widgets.IntSlider(value=30, min=10, max=150, step=10)\n",
    "    display(radio_input, widgets.HBox([widgets.Label('Readmission after (days):', layout={'width': '180px'}), slider]))\n",
    "    return radio_input, slider\n",
    "\n",
    "def create_phenotype_widgets():\n",
    "    radio_options = ['Heart Failure in 30 days', 'CAD in 30 days', 'CKD in 30 days', 'COPD in 30 days']\n",
    "    radio_input = widgets.RadioButtons(options=radio_options, value='Heart Failure in 30 days')\n",
    "    display(radio_input)\n",
    "    return radio_input\n",
    "\n",
    "def create_mortality_widgets():\n",
    "    radio_input = widgets.RadioButtons(options=['Mortality'], value='Mortality')\n",
    "    return radio_input\n",
    "\n",
    "if task_ratio.value != 'Mortality':\n",
    "    print(\"Please select to precise the prediction task \")\n",
    "if task_ratio.value == 'Length of Stay':\n",
    "    los_radio, los_slider = create_length_of_stay_widgets()\n",
    "elif task_ratio.value == 'Readmission':\n",
    "    readmission_radio, readmission_slider = create_readmission_widgets()\n",
    "elif task_ratio.value == 'Phenotype':\n",
    "    phenotype_radio = create_phenotype_widgets()\n",
    "elif task_ratio.value == 'Mortality':\n",
    "    mortality_radio = create_mortality_widgets()\n",
    "\n",
    "print(\"Please select below if you want to work with ICU or Non-ICU data:\")\n",
    "icu_type_input = widgets.RadioButtons(options=['ICU', 'Non-ICU'], value='ICU')\n",
    "display(icu_type_input)\n",
    "\n",
    "print(\"Please select if you want to perform the chosen prediction task for a specific disease.\")\n",
    "disease_filter_input = widgets.RadioButtons(options=['No Disease Filter', 'Heart Failure', 'CKD', 'CAD', 'COPD'], value='No Disease Filter')\n",
    "display(disease_filter_input)\n"
   ]
  },
  {
   "cell_type": "code",
   "execution_count": 5,
   "metadata": {},
   "outputs": [],
   "source": [
    "def get_time_from_input():\n",
    "    task_type = task_ratio.value\n",
    "    if task_type == 'Length of Stay' and los_radio.value == 'Custom':\n",
    "        return los_slider.value\n",
    "    elif task_type == 'Readmission' and readmission_radio.value == 'Custom':\n",
    "        return readmission_slider.value\n",
    "    elif task_type == 'Readmission':\n",
    "        return int(readmission_radio.value.split()[0])\n",
    "    elif task_type == 'Length of Stay':\n",
    "        return int(los_radio.value.split()[4])\n",
    "    elif task_type == 'Phenotype':\n",
    "        return 30\n",
    "    return 0\n",
    "\n",
    "def get_disease_label():\n",
    "    if task_ratio.value != 'Phenotype':\n",
    "        return None\n",
    "    task_type = phenotype_radio.value\n",
    "    disease_mapping = {\n",
    "        'Heart Failure in 30 days': DiseaseCode.HEARTH_FAILURE,\n",
    "        'CAD in 30 days': DiseaseCode.CAD,\n",
    "        'CKD in 30 days': DiseaseCode.CKD,\n",
    "        'COPD in 30 days': DiseaseCode.COPD\n",
    "    }\n",
    "    return disease_mapping.get(task_type, \"\")\n",
    "\n",
    "def convert_to_icd_code(disease):\n",
    "    if (disease==\"Heart Failure\"):\n",
    "        icd_code=DiseaseCode.HEARTH_FAILURE\n",
    "    elif (disease==\"CKD\"):\n",
    "        icd_code=DiseaseCode.CKD\n",
    "    elif (disease==\"COPD\"):\n",
    "        icd_code=DiseaseCode.COPD\n",
    "    elif (disease==\"CAD\"):\n",
    "        icd_code=DiseaseCode.CAD\n",
    "    else:\n",
    "        icd_code=None\n",
    "    return icd_code \n",
    "\n",
    "def convert_to_prediction_task(task_text):\n",
    "    if task_text == 'Length of Stay':\n",
    "        return TargetType.LOS\n",
    "    elif task_text == 'Mortality':  \n",
    "        return TargetType.MORTALITY\n",
    "    else:\n",
    "        return TargetType.READMISSION"
   ]
  },
  {
   "cell_type": "code",
   "execution_count": 6,
   "metadata": {},
   "outputs": [
    {
     "data": {
      "text/plain": [
       "(<TargetType.MORTALITY: 'Mortality'>, None, None, 0, True)"
      ]
     },
     "execution_count": 6,
     "metadata": {},
     "output_type": "execute_result"
    }
   ],
   "source": [
    "# DEBUG\n",
    "(convert_to_prediction_task(task_ratio.value), \n",
    "get_disease_label() if task_ratio.value == 'Phenotype' else None, \n",
    "convert_to_icd_code(disease_filter_input.value) ,\n",
    "get_time_from_input(), \n",
    "(icu_type_input.value==\"ICU\"))"
   ]
  },
  {
   "cell_type": "code",
   "execution_count": 7,
   "metadata": {},
   "outputs": [
    {
     "name": "stderr",
     "output_type": "stream",
     "text": [
      "INFO:root:===========MIMIC-IV v2.0============\n",
      "INFO:root:EXTRACTING FOR: ICU | MORTALITY | 0 |\n",
      "INFO:root:[ MORTALITY LABELS FINISHED: 10 Mortality Cases ]\n",
      "INFO:root:[SUCCESSFULLY SAVED COHORT DATA]\n"
     ]
    }
   ],
   "source": [
    "prediction_task = PredictionTask(\n",
    "    target_type = convert_to_prediction_task(task_ratio.value), \n",
    "    disease_readmission= get_disease_label() if task_ratio.value == 'Phenotype' else None, \n",
    "    disease_selection=convert_to_icd_code(disease_filter_input.value) ,\n",
    "    nb_days=get_time_from_input(), \n",
    "    use_icu=(icu_type_input.value==\"ICU\")\n",
    ")\n",
    "cohort_extractor = CohortExtractor(prediction_task=prediction_task)\n",
    "cohort = cohort_extractor.extract()"
   ]
  },
  {
   "cell_type": "markdown",
   "metadata": {},
   "source": [
    "## 2. FEATURE EXTRACTION\n",
    "Features available for ICU data -\n",
    "- Diagnosis (https://mimic.mit.edu/docs/iv/modules/hosp/diagnoses_icd/)\n",
    "- Procedures (https://mimic.mit.edu/docs/iv/modules/icu/procedureevents/)\n",
    "- Medications (https://mimic.mit.edu/docs/iv/modules/icu/inputevents/)\n",
    "- Output Events (https://mimic.mit.edu/docs/iv/modules/icu/outputevents/)\n",
    "- Chart Events (https://mimic.mit.edu/docs/iv/modules/icu/chartevents/)\n",
    "\n",
    "Features available for ICU data -\n",
    "- Diagnosis (https://mimic.mit.edu/docs/iv/modules/hosp/diagnoses_icd/)\n",
    "- Procedures (https://mimic.mit.edu/docs/iv/modules/hosp/procedures_icd/)\n",
    "- Medications (https://mimic.mit.edu/docs/iv/modules/hosp/prescriptions/)\n",
    "- Lab Events (https://mimic.mit.edu/docs/iv/modules/hosp/labevents/)\n",
    "\n",
    "All features will be saved in **./preproc_data/features/**"
   ]
  },
  {
   "cell_type": "code",
   "execution_count": 8,
   "metadata": {},
   "outputs": [
    {
     "name": "stdout",
     "output_type": "stream",
     "text": [
      "Feature Selection\n",
      "Which Features you want to include for cohort?\n"
     ]
    },
    {
     "data": {
      "application/vnd.jupyter.widget-view+json": {
       "model_id": "dafe8aa61f444b1aba9538b6a4553f20",
       "version_major": 2,
       "version_minor": 0
      },
      "text/plain": [
       "Checkbox(value=False, description='Diagnosis')"
      ]
     },
     "metadata": {},
     "output_type": "display_data"
    },
    {
     "data": {
      "application/vnd.jupyter.widget-view+json": {
       "model_id": "9fb3415c769f4211a8280fdb19fbfb18",
       "version_major": 2,
       "version_minor": 0
      },
      "text/plain": [
       "Checkbox(value=False, description='Output Events')"
      ]
     },
     "metadata": {},
     "output_type": "display_data"
    },
    {
     "data": {
      "application/vnd.jupyter.widget-view+json": {
       "model_id": "5393df8a9da34b7d8bfea88681bd3b74",
       "version_major": 2,
       "version_minor": 0
      },
      "text/plain": [
       "Checkbox(value=False, description='Chart Events(Labs and Vitals)')"
      ]
     },
     "metadata": {},
     "output_type": "display_data"
    },
    {
     "data": {
      "application/vnd.jupyter.widget-view+json": {
       "model_id": "4b99ad904e8a4650b8d19a237801bcaf",
       "version_major": 2,
       "version_minor": 0
      },
      "text/plain": [
       "Checkbox(value=False, description='Procedures')"
      ]
     },
     "metadata": {},
     "output_type": "display_data"
    },
    {
     "data": {
      "application/vnd.jupyter.widget-view+json": {
       "model_id": "c558b62a4d2f49ff9e6c9290c7f9c359",
       "version_major": 2,
       "version_minor": 0
      },
      "text/plain": [
       "Checkbox(value=False, description='Medications')"
      ]
     },
     "metadata": {},
     "output_type": "display_data"
    },
    {
     "name": "stdout",
     "output_type": "stream",
     "text": [
      "**Please run below cell to extract selected features**\n"
     ]
    },
    {
     "name": "stderr",
     "output_type": "stream",
     "text": [
      "DEBUG:Comm:handle_msg[dafe8aa61f444b1aba9538b6a4553f20]({'header': {'date': datetime.datetime(2023, 12, 11, 15, 33, 25, 713000, tzinfo=tzutc()), 'msg_id': '0676aaaf-830a-4a7d-a54b-b74545f800bd', 'msg_type': 'comm_msg', 'session': 'e8845a06-cb7d-41e1-bf48-372172e275ed', 'username': '6b58c396-60d8-4f33-b913-49b4b6a7dd8b', 'version': '5.2'}, 'msg_id': '0676aaaf-830a-4a7d-a54b-b74545f800bd', 'msg_type': 'comm_msg', 'parent_header': {}, 'metadata': {}, 'content': {'comm_id': 'dafe8aa61f444b1aba9538b6a4553f20', 'data': {'method': 'update', 'state': {'value': True}, 'buffer_paths': []}}, 'buffers': []})\n",
      "DEBUG:Comm:handle_msg[9fb3415c769f4211a8280fdb19fbfb18]({'header': {'date': datetime.datetime(2023, 12, 11, 15, 33, 26, 741000, tzinfo=tzutc()), 'msg_id': '731bbc8f-b3c6-4552-a23e-ecda79ee3a18', 'msg_type': 'comm_msg', 'session': 'e8845a06-cb7d-41e1-bf48-372172e275ed', 'username': '6b58c396-60d8-4f33-b913-49b4b6a7dd8b', 'version': '5.2'}, 'msg_id': '731bbc8f-b3c6-4552-a23e-ecda79ee3a18', 'msg_type': 'comm_msg', 'parent_header': {}, 'metadata': {}, 'content': {'comm_id': '9fb3415c769f4211a8280fdb19fbfb18', 'data': {'method': 'update', 'state': {'value': True}, 'buffer_paths': []}}, 'buffers': []})\n",
      "DEBUG:Comm:handle_msg[5393df8a9da34b7d8bfea88681bd3b74]({'header': {'date': datetime.datetime(2023, 12, 11, 15, 33, 27, 168000, tzinfo=tzutc()), 'msg_id': '8d3a1d76-0688-4e55-b964-5bf7cbbb3a30', 'msg_type': 'comm_msg', 'session': 'e8845a06-cb7d-41e1-bf48-372172e275ed', 'username': '6b58c396-60d8-4f33-b913-49b4b6a7dd8b', 'version': '5.2'}, 'msg_id': '8d3a1d76-0688-4e55-b964-5bf7cbbb3a30', 'msg_type': 'comm_msg', 'parent_header': {}, 'metadata': {}, 'content': {'comm_id': '5393df8a9da34b7d8bfea88681bd3b74', 'data': {'method': 'update', 'state': {'value': True}, 'buffer_paths': []}}, 'buffers': []})\n",
      "DEBUG:Comm:handle_msg[4b99ad904e8a4650b8d19a237801bcaf]({'header': {'date': datetime.datetime(2023, 12, 11, 15, 33, 27, 739000, tzinfo=tzutc()), 'msg_id': '0eea441a-3aaa-4672-98c2-9122d73b851e', 'msg_type': 'comm_msg', 'session': 'e8845a06-cb7d-41e1-bf48-372172e275ed', 'username': '6b58c396-60d8-4f33-b913-49b4b6a7dd8b', 'version': '5.2'}, 'msg_id': '0eea441a-3aaa-4672-98c2-9122d73b851e', 'msg_type': 'comm_msg', 'parent_header': {}, 'metadata': {}, 'content': {'comm_id': '4b99ad904e8a4650b8d19a237801bcaf', 'data': {'method': 'update', 'state': {'value': True}, 'buffer_paths': []}}, 'buffers': []})\n",
      "DEBUG:Comm:handle_msg[c558b62a4d2f49ff9e6c9290c7f9c359]({'header': {'date': datetime.datetime(2023, 12, 11, 15, 33, 28, 631000, tzinfo=tzutc()), 'msg_id': 'bc2a646c-bb26-40dc-af86-87e2db4d4c79', 'msg_type': 'comm_msg', 'session': 'e8845a06-cb7d-41e1-bf48-372172e275ed', 'username': '6b58c396-60d8-4f33-b913-49b4b6a7dd8b', 'version': '5.2'}, 'msg_id': 'bc2a646c-bb26-40dc-af86-87e2db4d4c79', 'msg_type': 'comm_msg', 'parent_header': {}, 'metadata': {}, 'content': {'comm_id': 'c558b62a4d2f49ff9e6c9290c7f9c359', 'data': {'method': 'update', 'state': {'value': True}, 'buffer_paths': []}}, 'buffers': []})\n"
     ]
    }
   ],
   "source": [
    "print(\"Feature Selection\")\n",
    "if cohort_extractor.prediction_task.use_icu:\n",
    "    print(\"Which Features you want to include for cohort?\")\n",
    "    dia_input = widgets.Checkbox(description='Diagnosis')\n",
    "    display(dia_input)\n",
    "    out_input = widgets.Checkbox(description='Output Events')\n",
    "    display(out_input)\n",
    "    chart_input = widgets.Checkbox(description='Chart Events(Labs and Vitals)')\n",
    "    display(chart_input)\n",
    "    proc_input = widgets.Checkbox(description='Procedures')\n",
    "    display(proc_input)\n",
    "    med_input = widgets.Checkbox(description='Medications')\n",
    "    display(med_input)\n",
    "else:\n",
    "    print(\"Which Features you want to include for cohort?\")\n",
    "    dia_input = widgets.Checkbox(description='Diagnosis')\n",
    "    display(dia_input)\n",
    "    lab_input = widgets.Checkbox(description='Labs')\n",
    "    display(lab_input)\n",
    "    proc_input = widgets.Checkbox(description='Procedures')\n",
    "    display(proc_input)\n",
    "    med_input = widgets.Checkbox(description='Medications')\n",
    "    display(med_input)\n",
    "print(\"**Please run below cell to extract selected features**\")"
   ]
  },
  {
   "cell_type": "code",
   "execution_count": 9,
   "metadata": {},
   "outputs": [
    {
     "data": {
      "text/plain": [
       "('cohort_ICU_mortality_0_', True, True, False, True, True, True, True)"
      ]
     },
     "execution_count": 9,
     "metadata": {},
     "output_type": "execute_result"
    }
   ],
   "source": [
    "#DEBUG\n",
    "(\n",
    "    cohort_extractor.cohort_output,\n",
    "    prediction_task.use_icu,\n",
    "    dia_input.value,\n",
    "    not prediction_task.use_icu and lab_input.value,\n",
    "    prediction_task.use_icu and chart_input.value,\n",
    "    med_input.value,\n",
    "\n",
    "    prediction_task.use_icu and out_input.value,\n",
    "    proc_input.value,\n",
    ")"
   ]
  },
  {
   "cell_type": "code",
   "execution_count": 10,
   "metadata": {},
   "outputs": [
    {
     "name": "stderr",
     "output_type": "stream",
     "text": [
      "INFO:root:[EXTRACTING DIAGNOSIS DATA]\n"
     ]
    },
    {
     "name": "stderr",
     "output_type": "stream",
     "text": [
      "INFO:root:[SUCCESSFULLY SAVED DIAGNOSES DATA]\n",
      "INFO:root:[EXTRACTING PROCEDURES DATA]\n",
      "INFO:root:# Unique Events: 82\n",
      "INFO:root:# Admissions:   138\n",
      "INFO:root:Total rows: 1435\n",
      "INFO:root:[SUCCESSFULLY SAVED PROCEDURES DATA]\n",
      "INFO:root:[EXTRACTING MEDICATIONS DATA]\n",
      "INFO:root:Number of unique types of drugs: 76\n",
      "INFO:root:Number of admissions: 136\n",
      "INFO:root:Total number of rows: 11038\n",
      "INFO:root:[SUCCESSFULLY SAVED MEDICATIONS DATA]\n",
      "INFO:root:[EXTRACTING OUTPUT EVENTS DATA]\n",
      "INFO:root:# Unique Events: 39\n",
      "INFO:root:# Admissions: 137\n",
      "INFO:root:Total rows: 9362\n",
      "INFO:root:[SUCCESSFULLY SAVED OUTPUT EVENTS DATA]\n",
      "INFO:root:[EXTRACTING CHART EVENTS DATA]\n",
      "1it [00:00,  1.02it/s]\n",
      "INFO:root:# Unique Events: 298\n",
      "INFO:root:# Admissions: 140\n",
      "INFO:root:Total rows: 162571\n",
      "INFO:root:# Unique Events: 298\n",
      "INFO:root:# Admissions: 140\n",
      "INFO:root:Total rows: 162571\n",
      "INFO:root:[SUCCESSFULLY SAVED CHART EVENTS DATA]\n"
     ]
    }
   ],
   "source": [
    "feature_extractor= FeatureExtractor(\n",
    "    cohort_output=cohort_extractor.cohort_output,\n",
    "    use_icu=prediction_task.use_icu,\n",
    "    for_diagnoses=dia_input.value,\n",
    "    for_labs= not prediction_task.use_icu and lab_input.value,\n",
    "    for_output_events= prediction_task.use_icu and out_input.value,\n",
    "    for_chart_events=prediction_task.use_icu and chart_input.value,\n",
    "    for_procedures=proc_input.value,\n",
    "    for_medications= med_input.value,\n",
    ")\n",
    "\n",
    "features = feature_extractor.save_features()"
   ]
  },
  {
   "cell_type": "markdown",
   "metadata": {},
   "source": [
    "## 3. CLINICAL GROUPING\n",
    "Grouping medical codes will reduce dimensional space of features.\n",
    "\n",
    "Default options selected below will group medical codes to reduce feature dimension space.\n"
   ]
  },
  {
   "cell_type": "code",
   "execution_count": 11,
   "metadata": {},
   "outputs": [
    {
     "name": "stdout",
     "output_type": "stream",
     "text": [
      "Do you want to group ICD 10 DIAG codes ?\n"
     ]
    },
    {
     "data": {
      "application/vnd.jupyter.widget-view+json": {
       "model_id": "2910dfea5a8a4e118722900171948a66",
       "version_major": 2,
       "version_minor": 0
      },
      "text/plain": [
       "RadioButtons(index=2, layout=Layout(width='100%'), options=('Keep both ICD-9 and ICD-10 codes', 'Convert ICD-9…"
      ]
     },
     "metadata": {},
     "output_type": "display_data"
    },
    {
     "name": "stdout",
     "output_type": "stream",
     "text": [
      "**Please run below cell to perform feature preprocessing**\n"
     ]
    }
   ],
   "source": [
    "if feature_extractor.for_diagnoses:\n",
    "    print(\"Do you want to group ICD 10 DIAG codes ?\")\n",
    "    group_dia_icd_input = widgets.RadioButtons(options=['Keep both ICD-9 and ICD-10 codes','Convert ICD-9 to ICD-10 codes','Convert ICD-9 to ICD-10 and group ICD-10 codes'],value='Convert ICD-9 to ICD-10 and group ICD-10 codes',layout={'width': '100%'})\n",
    "    display(group_dia_icd_input)   \n",
    "\n",
    "if not prediction_task.use_icu:\n",
    "    if feature_extractor.for_medications:\n",
    "        print(\"Do you want to group Medication codes to use Non propietary names?\")\n",
    "        group_med_code_input = widgets.RadioButtons(options=['Yes','No'],value='Yes',layout={'width': '100%'})\n",
    "        display(group_med_code_input)\n",
    "    if feature_extractor.for_procedures:\n",
    "        print(\"Which ICD codes for Procedures you want to keep in data?\")\n",
    "        group_proc_icd_input = widgets.RadioButtons(options=['ICD-9 and ICD-10','ICD-10'],value='ICD-10',layout={'width': '100%'})\n",
    "        display(group_proc_icd_input)\n",
    "print(\"**Please run below cell to perform feature preprocessing**\")"
   ]
  },
  {
   "cell_type": "code",
   "execution_count": 12,
   "metadata": {},
   "outputs": [],
   "source": [
    "from pipeline.feature.diagnoses import IcdGroupOption\n",
    "\n",
    "group_diag_icd = IcdGroupOption.KEEP\n",
    "if feature_extractor.for_diagnoses:\n",
    "    if group_dia_icd_input.value == \"Keep both ICD-9 and ICD-10 codes\":\n",
    "        group_dia_icd_input = IcdGroupOption.KEEP\n",
    "    elif group_dia_icd_input.value == \"Convert ICD-9 to ICD-10 codes\":\n",
    "        group_dia_icd_input = IcdGroupOption.CONVERT\n",
    "    elif group_dia_icd_input.value == \"Convert ICD-9 to ICD-10 and group ICD-10 codes\":\n",
    "        group_dia_icd_input = IcdGroupOption.GROUP\n",
    "\n",
    "\n",
    "group_med_code = feature_extractor.for_medications and (not prediction_task.use_icu) and (group_med_code_input.value==\"Yes\")\n",
    "keep_proc_icd9 =  prediction_task.use_icu or not(feature_extractor.for_procedures and (group_proc_icd_input.value==\"ICD-10\"))"
   ]
  },
  {
   "cell_type": "code",
   "execution_count": 15,
   "metadata": {},
   "outputs": [
    {
     "data": {
      "text/plain": [
       "(<IcdGroupOption.KEEP: 'Keep both ICD-9 and ICD-10 codes'>,\n",
       " True,\n",
       " True,\n",
       " False,\n",
       " False,\n",
       " False,\n",
       " False)"
      ]
     },
     "execution_count": 15,
     "metadata": {},
     "output_type": "execute_result"
    }
   ],
   "source": [
    "(group_diag_icd, \n",
    "group_med_code,\n",
    "keep_proc_icd9,\n",
    "False,\n",
    "False,\n",
    "False,\n",
    "False,\n",
    ")"
   ]
  },
  {
   "cell_type": "code",
   "execution_count": 13,
   "metadata": {},
   "outputs": [
    {
     "name": "stderr",
     "output_type": "stream",
     "text": [
      "INFO:root:[PROCESSING DIAGNOSIS DATA]\n",
      "INFO:root:Total number of rows: 2647\n",
      "INFO:root:[SUCCESSFULLY SAVED DIAGNOSES DATA]\n"
     ]
    }
   ],
   "source": [
    "from pipeline.features_preprocessor import FeaturePreprocessor\n",
    "feat_preproc = FeaturePreprocessor(feature_extractor=feature_extractor, \n",
    "                                   group_diag_icd=group_diag_icd, \n",
    "                                   group_med_code=group_med_code,\n",
    "                                   keep_proc_icd9=keep_proc_icd9,\n",
    "                                   clean_chart=False,\n",
    "                                   impute_outlier_chart=False,\n",
    "                                   clean_labs=False,\n",
    "                                   impute_labs=False,\n",
    "                                   )\n",
    "preproc = feat_preproc.preprocess_no_event_features()"
   ]
  },
  {
   "cell_type": "code",
   "execution_count": 23,
   "metadata": {},
   "outputs": [
    {
     "data": {
      "text/plain": [
       "(<IcdGroupOption.KEEP: 'Keep both ICD-9 and ICD-10 codes'>,\n",
       " True,\n",
       " True,\n",
       " False,\n",
       " False,\n",
       " False,\n",
       " False)"
      ]
     },
     "execution_count": 23,
     "metadata": {},
     "output_type": "execute_result"
    }
   ],
   "source": [
    "(group_diag_icd, group_med_code,keep_proc_icd9,False,False,False,False,\n",
    "                                   )"
   ]
  },
  {
   "cell_type": "markdown",
   "metadata": {},
   "source": [
    "### 4. SUMMARY OF FEATURES\n",
    "\n",
    "This step will generate summary of all features extracted so far.<br>\n",
    "It will save summary files in **./preproc_data/summary/**<br>\n",
    "- These files provide summary about **mean frequency** of medical codes per admission.<br>\n",
    "- It also provides **total occurrence count** of each medical code.<br>\n",
    "- For labs and chart events it will also provide <br>**missing %** which tells how many rows for a certain medical code has missing value.\n",
    "\n",
    "Please use this information to further refine your cohort by selecting <br>which medical codes in each feature you want to keep and <br>which codes you would like to remove for downstream analysis tasks.\n",
    "\n",
    "**Please run below cell to generate summary files**"
   ]
  },
  {
   "cell_type": "code",
   "execution_count": 13,
   "metadata": {},
   "outputs": [],
   "source": [
    "summaries = feat_preproc.save_summaries()"
   ]
  },
  {
   "cell_type": "markdown",
   "metadata": {},
   "source": [
    "## 5. Feature Selection\n",
    "\n",
    "based on the files generated in previous step and other infromation gathered by you,<br>\n",
    "Please select which medical codes you want to include in this study.\n",
    "\n",
    "Please run below cell to to select options for which features you want to perform feature selection.\n",
    "\n",
    "- Select **Yes** if you want to select a subset of medical codes for that feature and<br> **edit** the corresponding feature file for it.\n",
    "- Select **No** if you want to keep all the codes in a feature."
   ]
  },
  {
   "cell_type": "code",
   "execution_count": 14,
   "metadata": {},
   "outputs": [
    {
     "name": "stdout",
     "output_type": "stream",
     "text": [
      "Do you want to do Feature Selection for Diagnoses \n",
      " (If yes, please edit list of codes in ./data/summary/diag_features.csv)\n"
     ]
    },
    {
     "data": {
      "application/vnd.jupyter.widget-view+json": {
       "model_id": "a7269594cc614e42a5419a18686a8cd5",
       "version_major": 2,
       "version_minor": 0
      },
      "text/plain": [
       "RadioButtons(index=1, options=('Yes', 'No'), value='No')"
      ]
     },
     "metadata": {},
     "output_type": "display_data"
    },
    {
     "name": "stdout",
     "output_type": "stream",
     "text": [
      "Do you want to do Feature Selection for Medications \n",
      " (If yes, please edit list of codes in ./data/summary/med_features.csv)\n"
     ]
    },
    {
     "data": {
      "application/vnd.jupyter.widget-view+json": {
       "model_id": "99ec2392121145e199ee5514747f0e9a",
       "version_major": 2,
       "version_minor": 0
      },
      "text/plain": [
       "RadioButtons(index=1, options=('Yes', 'No'), value='No')"
      ]
     },
     "metadata": {},
     "output_type": "display_data"
    },
    {
     "name": "stdout",
     "output_type": "stream",
     "text": [
      "Do you want to do Feature Selection for Procedures \n",
      " (If yes, please edit list of codes in ./data/summary/proc_features.csv)\n"
     ]
    },
    {
     "data": {
      "application/vnd.jupyter.widget-view+json": {
       "model_id": "97c98f43d03345958b51265d37173fea",
       "version_major": 2,
       "version_minor": 0
      },
      "text/plain": [
       "RadioButtons(index=1, options=('Yes', 'No'), value='No')"
      ]
     },
     "metadata": {},
     "output_type": "display_data"
    },
    {
     "name": "stdout",
     "output_type": "stream",
     "text": [
      "Do you want to do Feature Selection for Output event \n",
      " (If yes, please edit list of codes in ./data/summary/out_features.csv)\n"
     ]
    },
    {
     "data": {
      "application/vnd.jupyter.widget-view+json": {
       "model_id": "180e3da541a241e3bb680e2096173230",
       "version_major": 2,
       "version_minor": 0
      },
      "text/plain": [
       "RadioButtons(index=1, options=('Yes', 'No'), value='No')"
      ]
     },
     "metadata": {},
     "output_type": "display_data"
    },
    {
     "name": "stdout",
     "output_type": "stream",
     "text": [
      "Do you want to do Feature Selection for Chart events \n",
      " (If yes, please edit list of codes in ./data/summary/chart_features.csv)\n"
     ]
    },
    {
     "data": {
      "application/vnd.jupyter.widget-view+json": {
       "model_id": "b88c35d877374ae6a7ed61d8c58fc55b",
       "version_major": 2,
       "version_minor": 0
      },
      "text/plain": [
       "RadioButtons(index=1, options=('Yes', 'No'), value='No')"
      ]
     },
     "metadata": {},
     "output_type": "display_data"
    },
    {
     "name": "stderr",
     "output_type": "stream",
     "text": [
      "DEBUG:Comm:handle_msg[a7269594cc614e42a5419a18686a8cd5]({'header': {'date': datetime.datetime(2023, 12, 11, 15, 33, 51, 698000, tzinfo=tzutc()), 'msg_id': '65b9c316-a36d-4bdf-b1c0-85ea90cb52dc', 'msg_type': 'comm_msg', 'session': 'e8845a06-cb7d-41e1-bf48-372172e275ed', 'username': '6b58c396-60d8-4f33-b913-49b4b6a7dd8b', 'version': '5.2'}, 'msg_id': '65b9c316-a36d-4bdf-b1c0-85ea90cb52dc', 'msg_type': 'comm_msg', 'parent_header': {}, 'metadata': {}, 'content': {'comm_id': 'a7269594cc614e42a5419a18686a8cd5', 'data': {'method': 'update', 'state': {'index': 0}, 'buffer_paths': []}}, 'buffers': []})\n",
      "DEBUG:Comm:handle_msg[99ec2392121145e199ee5514747f0e9a]({'header': {'date': datetime.datetime(2023, 12, 11, 15, 33, 52, 759000, tzinfo=tzutc()), 'msg_id': '6cb9e6ed-a5cf-4c38-beaf-5caec1e950c2', 'msg_type': 'comm_msg', 'session': 'e8845a06-cb7d-41e1-bf48-372172e275ed', 'username': '6b58c396-60d8-4f33-b913-49b4b6a7dd8b', 'version': '5.2'}, 'msg_id': '6cb9e6ed-a5cf-4c38-beaf-5caec1e950c2', 'msg_type': 'comm_msg', 'parent_header': {}, 'metadata': {}, 'content': {'comm_id': '99ec2392121145e199ee5514747f0e9a', 'data': {'method': 'update', 'state': {'index': 0}, 'buffer_paths': []}}, 'buffers': []})\n",
      "DEBUG:Comm:handle_msg[97c98f43d03345958b51265d37173fea]({'header': {'date': datetime.datetime(2023, 12, 11, 15, 33, 53, 682000, tzinfo=tzutc()), 'msg_id': '6bf5c215-49dc-470e-9596-6ac8c782350e', 'msg_type': 'comm_msg', 'session': 'e8845a06-cb7d-41e1-bf48-372172e275ed', 'username': '6b58c396-60d8-4f33-b913-49b4b6a7dd8b', 'version': '5.2'}, 'msg_id': '6bf5c215-49dc-470e-9596-6ac8c782350e', 'msg_type': 'comm_msg', 'parent_header': {}, 'metadata': {}, 'content': {'comm_id': '97c98f43d03345958b51265d37173fea', 'data': {'method': 'update', 'state': {'index': 0}, 'buffer_paths': []}}, 'buffers': []})\n",
      "DEBUG:Comm:handle_msg[180e3da541a241e3bb680e2096173230]({'header': {'date': datetime.datetime(2023, 12, 11, 15, 33, 54, 860000, tzinfo=tzutc()), 'msg_id': '19a3da7e-0a9b-4599-8f01-4ff6464cecdb', 'msg_type': 'comm_msg', 'session': 'e8845a06-cb7d-41e1-bf48-372172e275ed', 'username': '6b58c396-60d8-4f33-b913-49b4b6a7dd8b', 'version': '5.2'}, 'msg_id': '19a3da7e-0a9b-4599-8f01-4ff6464cecdb', 'msg_type': 'comm_msg', 'parent_header': {}, 'metadata': {}, 'content': {'comm_id': '180e3da541a241e3bb680e2096173230', 'data': {'method': 'update', 'state': {'index': 0}, 'buffer_paths': []}}, 'buffers': []})\n",
      "DEBUG:Comm:handle_msg[b88c35d877374ae6a7ed61d8c58fc55b]({'header': {'date': datetime.datetime(2023, 12, 11, 15, 33, 55, 463000, tzinfo=tzutc()), 'msg_id': '27b76f35-1cd4-48f8-b45c-ba1c01464494', 'msg_type': 'comm_msg', 'session': 'e8845a06-cb7d-41e1-bf48-372172e275ed', 'username': '6b58c396-60d8-4f33-b913-49b4b6a7dd8b', 'version': '5.2'}, 'msg_id': '27b76f35-1cd4-48f8-b45c-ba1c01464494', 'msg_type': 'comm_msg', 'parent_header': {}, 'metadata': {}, 'content': {'comm_id': 'b88c35d877374ae6a7ed61d8c58fc55b', 'data': {'method': 'update', 'state': {'index': 0}, 'buffer_paths': []}}, 'buffers': []})\n"
     ]
    }
   ],
   "source": [
    "if feature_extractor.for_diagnoses:\n",
    "    print(\"Do you want to do Feature Selection for Diagnoses \\n (If yes, please edit list of codes in ./data/summary/diag_features.csv)\")\n",
    "    select_dia_input = widgets.RadioButtons(options=['Yes','No'],value='No')\n",
    "    display(select_dia_input)   \n",
    "if feature_extractor.for_medications:\n",
    "    print(\"Do you want to do Feature Selection for Medications \\n (If yes, please edit list of codes in ./data/summary/med_features.csv)\")\n",
    "    select_med_input = widgets.RadioButtons(options=['Yes','No'],value='No')\n",
    "    display(select_med_input)   \n",
    "if feature_extractor.for_procedures:\n",
    "    print(\"Do you want to do Feature Selection for Procedures \\n (If yes, please edit list of codes in ./data/summary/proc_features.csv)\")\n",
    "    select_proc_input = widgets.RadioButtons(options=['Yes','No'],value='No')\n",
    "    display(select_proc_input)   \n",
    "if prediction_task.use_icu and feature_extractor.for_output_events:\n",
    "    print(\"Do you want to do Feature Selection for Output event \\n (If yes, please edit list of codes in ./data/summary/out_features.csv)\")\n",
    "    select_out_input = widgets.RadioButtons(options=['Yes','No'],value='No')\n",
    "    display(select_out_input)  \n",
    "if prediction_task.use_icu and feature_extractor.for_chart_events:\n",
    "    print(\"Do you want to do Feature Selection for Chart events \\n (If yes, please edit list of codes in ./data/summary/chart_features.csv)\")\n",
    "    select_chart_input = widgets.RadioButtons(options=['Yes','No'],value='No')\n",
    "    display(select_chart_input)  \n",
    "if not(prediction_task.use_icu) and feature_extractor.for_labs:\n",
    "    print(\"Do you want to do Feature Selection for Labs \\n (If yes, please edit list of codes in ./data/summary/lab_features.csv)\")\n",
    "    select_lab_input = widgets.RadioButtons(options=['Yes','No'],value='No')\n",
    "    display(select_lab_input)  "
   ]
  },
  {
   "cell_type": "code",
   "execution_count": 24,
   "metadata": {},
   "outputs": [
    {
     "data": {
      "text/plain": [
       "(False, True, True, True, True, False, False)"
      ]
     },
     "execution_count": 24,
     "metadata": {},
     "output_type": "execute_result"
    }
   ],
   "source": [
    "(prediction_task.use_icu, select_diag, select_med,select_proc, select_lab,select_chart, select_out)"
   ]
  },
  {
   "cell_type": "code",
   "execution_count": 15,
   "metadata": {},
   "outputs": [],
   "source": [
    "from pipeline.feature_selector import FeatureSelector\n",
    "\n",
    "\n",
    "select_diag=select_dia_input.value == 'Yes' if feature_extractor.for_diagnoses else False\n",
    "select_med=select_med_input.value == 'Yes' if feature_extractor.for_medications else False\n",
    "select_proc=select_proc_input.value == 'Yes' if feature_extractor.for_procedures else False\n",
    "select_out=select_out_input.value == 'Yes' if prediction_task.use_icu and feature_extractor.for_output_events else False\n",
    "select_chart=select_chart_input.value == 'Yes' if prediction_task.use_icu and feature_extractor.for_chart_events else False\n",
    "select_lab=select_lab_input.value == 'Yes' if not (prediction_task.use_icu) and feature_extractor.for_labs else False\n",
    "\n",
    "feature_selector = FeatureSelector(prediction_task.use_icu, select_diag, select_med,select_proc, select_lab,select_chart, select_out)"
   ]
  },
  {
   "cell_type": "markdown",
   "metadata": {},
   "source": [
    "## 6. CLEANING OF FEATURES\n",
    "Below you will have option to to clean lab and chart events by performing outlier removal and unit conversion.\n",
    "\n",
    "Outlier removal is performed to remove values higher than selected **right threshold** percentile and lower than selected **left threshold** percentile among all values for each itemid. \n",
    "\n",
    "**Please run below cell to select preprocessing for diferent features**"
   ]
  },
  {
   "cell_type": "code",
   "execution_count": 16,
   "metadata": {},
   "outputs": [
    {
     "name": "stdout",
     "output_type": "stream",
     "text": [
      "Outlier removal in values of chart events ?\n"
     ]
    },
    {
     "data": {
      "application/vnd.jupyter.widget-view+json": {
       "model_id": "25076133c50e48afbfe25fc07ac0e8db",
       "version_major": 2,
       "version_minor": 0
      },
      "text/plain": [
       "RadioButtons(layout=Layout(height='40px', width='100%'), options=('No outlier detection', 'Impute Outlier (def…"
      ]
     },
     "metadata": {},
     "output_type": "display_data"
    },
    {
     "data": {
      "application/vnd.jupyter.widget-view+json": {
       "model_id": "6161acba75304c98be6eeda34e3934e2",
       "version_major": 2,
       "version_minor": 0
      },
      "text/plain": [
       "HBox(children=(Label(value='Right Outlier Threshold', layout=Layout(width='150px')), IntSlider(value=98, layou…"
      ]
     },
     "metadata": {},
     "output_type": "display_data"
    },
    {
     "data": {
      "application/vnd.jupyter.widget-view+json": {
       "model_id": "3e23f6ab80974a0ba8b8da7853818794",
       "version_major": 2,
       "version_minor": 0
      },
      "text/plain": [
       "HBox(children=(Label(value='Left Outlier Threshold', layout=Layout(width='150px')), IntSlider(value=0, layout=…"
      ]
     },
     "metadata": {},
     "output_type": "display_data"
    }
   ],
   "source": [
    "if (prediction_task.use_icu and select_chart) or (not(prediction_task.use_icu) and select_lab):\n",
    "    event_name = \"chart\" if prediction_task.use_icu else \"lab\"\n",
    "    print(f\"Outlier removal in values of {event_name} events ?\")\n",
    "    layout = widgets.Layout(width='100%', height='40px') #set width and height\n",
    "\n",
    "    outlier_input = widgets.RadioButtons(options=['No outlier detection','Impute Outlier (default:98)','Remove outliers (default:98)'],value='No outlier detection',layout=layout)\n",
    "    display(outlier_input)\n",
    "    right_outlier=widgets.IntSlider(\n",
    "    value=98,\n",
    "    min=90,\n",
    "    max=99,\n",
    "    step=1,\n",
    "    disabled=False,layout={'width': '100%'}\n",
    "    )\n",
    "    left_outlier=widgets.IntSlider(\n",
    "    value=0,\n",
    "    min=0,\n",
    "    max=10,\n",
    "    step=1,\n",
    "    disabled=False,layout={'width': '100%'}\n",
    "    )\n",
    "    display(widgets.HBox([widgets.Label('Right Outlier Threshold',layout={'width': '150px'}), right_outlier]))\n",
    "    display(widgets.HBox([widgets.Label('Left Outlier Threshold',layout={'width': '150px'}), left_outlier]))\n"
   ]
  },
  {
   "cell_type": "code",
   "execution_count": 27,
   "metadata": {},
   "outputs": [
    {
     "data": {
      "text/plain": [
       "True"
      ]
     },
     "execution_count": 27,
     "metadata": {},
     "output_type": "execute_result"
    }
   ],
   "source": [
    "not(prediction_task.use_icu) and select_lab"
   ]
  },
  {
   "cell_type": "code",
   "execution_count": 63,
   "metadata": {},
   "outputs": [
    {
     "data": {
      "text/plain": [
       "98"
      ]
     },
     "execution_count": 63,
     "metadata": {},
     "output_type": "execute_result"
    }
   ],
   "source": [
    "right_outlier.value"
   ]
  },
  {
   "cell_type": "code",
   "execution_count": 17,
   "metadata": {},
   "outputs": [],
   "source": [
    "right_thresh=100\n",
    "left_thresh = 0\n",
    "clean_chart = False\n",
    "clean_lab = False\n",
    "if (prediction_task.use_icu and select_chart):\n",
    "    clean_chart=outlier_input.value!='No outlier detection'\n",
    "    right_thresh = right_outlier.value\n",
    "    left_thresh = left_outlier.value\n",
    "if (not(prediction_task.use_icu) and select_lab):\n",
    "    clean_lab=outlier_input.value!='No outlier detection'\n",
    "    right_thresh = right_outlier.value\n",
    "    left_thresh = left_outlier.value\n",
    "\n"
   ]
  },
  {
   "cell_type": "code",
   "execution_count": 41,
   "metadata": {},
   "outputs": [
    {
     "data": {
      "text/plain": [
       "(None, False, False, False, False, True, True, 98, 0)"
      ]
     },
     "execution_count": 41,
     "metadata": {},
     "output_type": "execute_result"
    }
   ],
   "source": [
    "(None,False,False,clean_chart,clean_chart,clean_lab, clean_lab,right_thresh,left_thresh)"
   ]
  },
  {
   "cell_type": "code",
   "execution_count": 18,
   "metadata": {},
   "outputs": [],
   "source": [
    "feat_preproc = FeaturePreprocessor(feature_extractor=feature_extractor, \n",
    "                                   group_diag_icd=None,\n",
    "                                   group_med_code=False,\n",
    "                                   keep_proc_icd9=False,\n",
    "                            \n",
    "\n",
    "                                   clean_chart=clean_chart,\n",
    "                                   impute_outlier_chart = clean_chart,\n",
    "                                   clean_labs=clean_lab,\n",
    "                                   impute_labs = clean_lab,\n",
    "\n",
    "                                   thresh = right_thresh,\n",
    "                                   left_thresh=left_thresh\n",
    "                                   )\n",
    "preproc = feat_preproc.preproc_events_features()"
   ]
  },
  {
   "cell_type": "markdown",
   "metadata": {},
   "source": [
    "## 7. Time-Series Representation\n",
    "In this section, please choose how you want to process and represent time-series data.\n",
    "\n",
    "- First option is to select the length of time-series data you want to include for this study. (Default is 72 hours)\n",
    "\n",
    "- Second option is to select bucket size which tells in what size time windows you want to divide your time-series.<br>\n",
    "For example, if you select **2** bucket size, it wil aggregate data for every 2 hours and <br>a time-series of length 24 hours will be represented as time-series with 12 time-windows <br>where data for every 2 hours is agggregated from original raw time-series.\n",
    "\n",
    "During this step, we will also save the time-series data in data dictionaries in the format that can be directly used for following deep learning analysis.\n",
    "\n",
    "### Imputation\n",
    "You can also choose if you want to impute lab/chart values. The imputation will be done by froward fill and mean or median imputation.<br>\n",
    "Values will be forward fill first and if no value exists for that admission we will use mean or median value for the patient.\n",
    "\n",
    "The data dictionaries will be saved in **./data/dict/**\n",
    "\n",
    "Please refer the readme to know the structure of data dictionaries.\n"
   ]
  },
  {
   "cell_type": "code",
   "execution_count": 44,
   "metadata": {},
   "outputs": [
    {
     "data": {
      "text/plain": [
       "<TargetType.READMISSION: 'Readmission'>"
      ]
     },
     "execution_count": 44,
     "metadata": {},
     "output_type": "execute_result"
    }
   ],
   "source": [
    "prediction_task.target_type"
   ]
  },
  {
   "cell_type": "code",
   "execution_count": 19,
   "metadata": {},
   "outputs": [
    {
     "name": "stdout",
     "output_type": "stream",
     "text": [
      "=======Time-series Data Represenation=======\n",
      "Length of data to be included for time-series prediction ?\n"
     ]
    },
    {
     "data": {
      "application/vnd.jupyter.widget-view+json": {
       "model_id": "cd267a86fa524e31a387d158d70173ae",
       "version_major": 2,
       "version_minor": 0
      },
      "text/plain": [
       "RadioButtons(options=('First 72 hours', 'First 48 hours', 'First 24 hours', 'Custom'), value='First 72 hours')"
      ]
     },
     "metadata": {},
     "output_type": "display_data"
    },
    {
     "data": {
      "application/vnd.jupyter.widget-view+json": {
       "model_id": "6a93b3e471a74c40bd3733aa658f0bd5",
       "version_major": 2,
       "version_minor": 0
      },
      "text/plain": [
       "HBox(children=(Label(value='Fisrt (in hours):', layout=Layout(width='150px')), IntSlider(value=72, description…"
      ]
     },
     "metadata": {},
     "output_type": "display_data"
    },
    {
     "name": "stdout",
     "output_type": "stream",
     "text": [
      "What time bucket size you want to choose ?\n"
     ]
    },
    {
     "data": {
      "application/vnd.jupyter.widget-view+json": {
       "model_id": "592e8e287214438ba539ed045574b03b",
       "version_major": 2,
       "version_minor": 0
      },
      "text/plain": [
       "RadioButtons(options=('1 hour', '2 hour', '3 hour', '4 hour', '5 hour', 'Custom'), value='1 hour')"
      ]
     },
     "metadata": {},
     "output_type": "display_data"
    },
    {
     "data": {
      "application/vnd.jupyter.widget-view+json": {
       "model_id": "6ddba3d30a92453e9ac4989f4a35336c",
       "version_major": 2,
       "version_minor": 0
      },
      "text/plain": [
       "HBox(children=(Label(value='Bucket Size (in hours):', layout=Layout(width='150px')), IntSlider(value=1, max=6,…"
      ]
     },
     "metadata": {},
     "output_type": "display_data"
    },
    {
     "name": "stdout",
     "output_type": "stream",
     "text": [
      "Do you want to forward fill and mean or median impute lab/chart values to form continuous data signal?\n"
     ]
    },
    {
     "data": {
      "application/vnd.jupyter.widget-view+json": {
       "model_id": "0a303ac3c4514203bcd9107e717f57c0",
       "version_major": 2,
       "version_minor": 0
      },
      "text/plain": [
       "RadioButtons(options=('No Imputation', 'forward fill and mean', 'forward fill and median'), value='No Imputati…"
      ]
     },
     "metadata": {},
     "output_type": "display_data"
    },
    {
     "name": "stdout",
     "output_type": "stream",
     "text": [
      "If you have choosen mortality prediction task, then what prediction window length you want to keep?\n"
     ]
    },
    {
     "data": {
      "application/vnd.jupyter.widget-view+json": {
       "model_id": "4ac0e3cd00184c0e8f51d2017695856b",
       "version_major": 2,
       "version_minor": 0
      },
      "text/plain": [
       "RadioButtons(options=('2 hours', '4 hours', '6 hours', '8 hours', 'Custom'), value='2 hours')"
      ]
     },
     "metadata": {},
     "output_type": "display_data"
    },
    {
     "data": {
      "application/vnd.jupyter.widget-view+json": {
       "model_id": "58f7f0b018aa4a5bb32243376d6a21d7",
       "version_major": 2,
       "version_minor": 0
      },
      "text/plain": [
       "HBox(children=(Label(value='Prediction window (in hours)', layout=Layout(width='180px')), IntSlider(value=2, m…"
      ]
     },
     "metadata": {},
     "output_type": "display_data"
    },
    {
     "name": "stdout",
     "output_type": "stream",
     "text": [
      "**Please run below cell to perform time-series represenation and save in data dictionaries**\n"
     ]
    }
   ],
   "source": [
    "print(\"=======Time-series Data Represenation=======\")\n",
    "\n",
    "print(\"Length of data to be included for time-series prediction ?\")\n",
    "if(prediction_task.target_type== TargetType.MORTALITY):\n",
    "    radio_input8 = widgets.RadioButtons(options=['First 72 hours','First 48 hours','First 24 hours','Custom'],value='First 72 hours')\n",
    "    display(radio_input8)\n",
    "    text2=widgets.IntSlider(\n",
    "    value=72,\n",
    "    min=24,\n",
    "    max=72,\n",
    "    step=1,\n",
    "    description='Fisrt',\n",
    "    disabled=False\n",
    "    )\n",
    "    display(widgets.HBox([widgets.Label('Fisrt (in hours):',layout={'width': '150px'}), text2]))\n",
    "elif(prediction_task.target_type== TargetType.READMISSION):\n",
    "    radio_input8 = widgets.RadioButtons(options=['Last 72 hours','Last 48 hours','Last 24 hours','Custom'],value='Last 72 hours')\n",
    "    display(radio_input8)\n",
    "    text2=widgets.IntSlider(\n",
    "    value=72,\n",
    "    min=24,\n",
    "    max=72,\n",
    "    step=1,\n",
    "    description='Last',\n",
    "    disabled=False\n",
    "    )\n",
    "    display(widgets.HBox([widgets.Label('Last (in hours):',layout={'width': '150px'}), text2]))\n",
    "elif(prediction_task.target_type== TargetType.LOS):\n",
    "    radio_input8 = widgets.RadioButtons(options=['First 12 hours','First 24 hours','Custom'],value='First 24 hours')\n",
    "    display(radio_input8)\n",
    "    text2=widgets.IntSlider(\n",
    "    value=72,\n",
    "    min=12,\n",
    "    max=72,\n",
    "    step=1,\n",
    "    description='First',\n",
    "    disabled=False\n",
    "    )\n",
    "    display(widgets.HBox([widgets.Label('Fisrt (in hours):',layout={'width': '150px'}), text2]))\n",
    "    \n",
    "    \n",
    "print(\"What time bucket size you want to choose ?\")\n",
    "radio_input7 = widgets.RadioButtons(options=['1 hour','2 hour','3 hour','4 hour','5 hour','Custom'],value='1 hour')\n",
    "display(radio_input7)\n",
    "text1=widgets.IntSlider(\n",
    "    value=1,\n",
    "    min=1,\n",
    "    max=6,\n",
    "    step=1,\n",
    "    disabled=False\n",
    "    )\n",
    "#display(text1)\n",
    "display(widgets.HBox([widgets.Label('Bucket Size (in hours):',layout={'width': '150px'}), text1]))\n",
    "print(\"Do you want to forward fill and mean or median impute lab/chart values to form continuous data signal?\")\n",
    "radio_impute = widgets.RadioButtons(options=['No Imputation', 'forward fill and mean','forward fill and median'],value='No Imputation')\n",
    "display(radio_impute)   \n",
    "\n",
    "radio_input6 = widgets.RadioButtons(options=['0 hours','2 hours','4 hours','6 hours'],value='0 hours')\n",
    "if(prediction_task.target_type== TargetType.MORTALITY):\n",
    "    print(\"If you have choosen mortality prediction task, then what prediction window length you want to keep?\")\n",
    "    radio_input6 = widgets.RadioButtons(options=['2 hours','4 hours','6 hours','8 hours','Custom'],value='2 hours')\n",
    "    display(radio_input6)\n",
    "    text3=widgets.IntSlider(\n",
    "    value=2,\n",
    "    min=2,\n",
    "    max=8,\n",
    "    step=1,\n",
    "    disabled=False\n",
    "    )\n",
    "    display(widgets.HBox([widgets.Label('Prediction window (in hours)',layout={'width': '180px'}), text3]))\n",
    "print(\"**Please run below cell to perform time-series represenation and save in data dictionaries**\")"
   ]
  },
  {
   "cell_type": "code",
   "execution_count": 20,
   "metadata": {},
   "outputs": [],
   "source": [
    "if (radio_input6.value=='Custom'):\n",
    "    predW=int(text3.value)\n",
    "else:\n",
    "    predW=int(radio_input6.value[0].strip())\n",
    "if (radio_input7.value=='Custom'):\n",
    "    bucket=int(text1.value)\n",
    "else:\n",
    "    bucket=int(radio_input7.value[0].strip())\n",
    "if (radio_input8.value=='Custom'):\n",
    "    include=int(text2.value)\n",
    "else:\n",
    "    include=int(radio_input8.value.split()[1])\n",
    "if (radio_impute.value=='forward fill and mean'):\n",
    "    impute='Mean'\n",
    "elif (radio_impute.value=='forward fill and median'):\n",
    "    impute='Median'\n",
    "else:\n",
    "    impute=False\n",
    "\n",
    "# if data_icu:\n",
    "#     gen=data_generation_icu.Generator(cohort_output,data_mort,data_admn,data_los,diag_flag,proc_flag,out_flag,chart_flag,med_flag,impute,include,bucket,predW)\n",
    "#     #gen=data_generation_icu.Generator(cohort_output,data_mort,diag_flag,False,False,chart_flag,False,impute,include,bucket,predW)\n",
    "#     #if chart_flag:\n",
    "#     #    gen=data_generation_icu.Generator(cohort_output,data_mort,False,False,False,chart_flag,False,impute,include,bucket,predW)\n",
    "# else:\n",
    "#     gen=data_generation.Generator(cohort_output,data_mort,data_admn,data_los,diag_flag,lab_flag,proc_flag,med_flag,impute,include,bucket,predW)"
   ]
  },
  {
   "cell_type": "code",
   "execution_count": 50,
   "metadata": {},
   "outputs": [
    {
     "data": {
      "text/plain": [
       "'cohort_Non-ICU_readmission_30_I25'"
      ]
     },
     "execution_count": 50,
     "metadata": {},
     "output_type": "execute_result"
    }
   ],
   "source": [
    "cohort_extractor.cohort_output"
   ]
  },
  {
   "cell_type": "code",
   "execution_count": 22,
   "metadata": {},
   "outputs": [],
   "source": [
    "from pipeline.data_generator import DataGenerator\n",
    "#DataGenerator()\n",
    "\n",
    "#cohort = generate_admission_cohort(cohort_extractor.cohort_output)"
   ]
  },
  {
   "cell_type": "code",
   "execution_count": 52,
   "metadata": {},
   "outputs": [],
   "source": [
    "import pandas as pd\n",
    "\n",
    "from pipeline.file_info.preproc.cohort import COHORT_PATH, CohortHeader, NonIcuCohortHeader\n",
    "\n",
    "data = pd.read_csv(\n",
    "    COHORT_PATH / f\"{cohort_extractor.cohort_output}.csv.gz\",\n",
    "    compression=\"gzip\",\n",
    ")"
   ]
  },
  {
   "cell_type": "markdown",
   "metadata": {},
   "source": [
    "## 8. Machine Learning Models\n",
    "\n",
    "Below we provide options to select -\n",
    "- Type of machine learning model\n",
    "- Wheteher to concatenate or aggregate time-series features.\n",
    "    For example, if the EHR data has collected value for Blood Pressure for one year over 4 time windows of 3 months each then,\n",
    "    - **Conactenate** will concatenate all four values resulting in 4 different features for blood pressure,\n",
    "    - **Aggregate** will aggreagte(mean) over four tiem windows resulting in one feature for blood pressure."
   ]
  },
  {
   "cell_type": "code",
   "execution_count": 47,
   "metadata": {},
   "outputs": [
    {
     "name": "stdout",
     "output_type": "stream",
     "text": [
      "=======Machine :earning Models=======\n"
     ]
    },
    {
     "data": {
      "application/vnd.jupyter.widget-view+json": {
       "model_id": "dd967624cad24063913264116696f534",
       "version_major": 2,
       "version_minor": 0
      },
      "text/plain": [
       "RadioButtons(index=2, options=('Logistic Regression', 'Random Forest', 'Gradient Bossting', 'Xgboost'), value=…"
      ]
     },
     "metadata": {},
     "output_type": "display_data"
    },
    {
     "name": "stdout",
     "output_type": "stream",
     "text": [
      "Do you wnat to conactenate the time-series feature\n"
     ]
    },
    {
     "data": {
      "application/vnd.jupyter.widget-view+json": {
       "model_id": "b246493882164e79acdd545e94a40342",
       "version_major": 2,
       "version_minor": 0
      },
      "text/plain": [
       "RadioButtons(options=('Conactenate', 'Aggregate'), value='Conactenate')"
      ]
     },
     "metadata": {},
     "output_type": "display_data"
    },
    {
     "name": "stdout",
     "output_type": "stream",
     "text": [
      "Please select below option for cross-validation\n"
     ]
    },
    {
     "data": {
      "application/vnd.jupyter.widget-view+json": {
       "model_id": "71e68d480e9742deacce186515771a75",
       "version_major": 2,
       "version_minor": 0
      },
      "text/plain": [
       "RadioButtons(index=1, options=('No CV', '5-fold CV', '10-fold CV'), value='5-fold CV')"
      ]
     },
     "metadata": {},
     "output_type": "display_data"
    },
    {
     "name": "stdout",
     "output_type": "stream",
     "text": [
      "Do you want to do oversampling for minority calss ?\n"
     ]
    },
    {
     "data": {
      "application/vnd.jupyter.widget-view+json": {
       "model_id": "545a474ddd31435392b099cfb0420b17",
       "version_major": 2,
       "version_minor": 0
      },
      "text/plain": [
       "RadioButtons(options=('True', 'False'), value='True')"
      ]
     },
     "metadata": {},
     "output_type": "display_data"
    }
   ],
   "source": [
    "print(\"=======Machine :earning Models=======\")\n",
    "radio_input5 = widgets.RadioButtons(options=['Logistic Regression','Random Forest','Gradient Bossting','Xgboost'],value='Gradient Bossting')\n",
    "display(radio_input5)\n",
    "print(\"Do you wnat to conactenate the time-series feature\")\n",
    "radio_input6 = widgets.RadioButtons(options=['Conactenate','Aggregate'],value='Conactenate')\n",
    "display(radio_input6)\n",
    "print(\"Please select below option for cross-validation\")\n",
    "radio_input7 = widgets.RadioButtons(options=['No CV','5-fold CV','10-fold CV'],value='5-fold CV')\n",
    "display(radio_input7)\n",
    "print(\"Do you want to do oversampling for minority calss ?\")\n",
    "radio_input8 = widgets.RadioButtons(options=['True','False'],value='True')\n",
    "display(radio_input8)"
   ]
  }
 ],
 "metadata": {
  "kernelspec": {
   "display_name": "venv",
   "language": "python",
   "name": "python3"
  },
  "language_info": {
   "codemirror_mode": {
    "name": "ipython",
    "version": 3
   },
   "file_extension": ".py",
   "mimetype": "text/x-python",
   "name": "python",
   "nbconvert_exporter": "python",
   "pygments_lexer": "ipython3",
   "version": "3.11.7"
  }
 },
 "nbformat": 4,
 "nbformat_minor": 2
}
