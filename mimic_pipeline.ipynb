{
 "cells": [
  {
   "cell_type": "code",
   "execution_count": 1,
   "metadata": {},
   "outputs": [],
   "source": [
    "import ipywidgets as widgets\n",
    "from pathlib import Path"
   ]
  },
  {
   "cell_type": "code",
   "execution_count": 2,
   "metadata": {},
   "outputs": [],
   "source": [
    "from my_preprocessing.cohort_extractor import CohortExtractor\n",
    "from my_preprocessing.prediction_task import TargetType, PredictionTask, DiseaseCode\n",
    "\n"
   ]
  },
  {
   "cell_type": "markdown",
   "metadata": {},
   "source": [
    "# Welcome to MIMIC-IV Project"
   ]
  },
  {
   "cell_type": "code",
   "execution_count": 3,
   "metadata": {},
   "outputs": [],
   "source": [
    "Path(\"raw_data\").mkdir(parents=True, exist_ok=True)"
   ]
  },
  {
   "cell_type": "markdown",
   "metadata": {},
   "source": [
    "This repository explains the steps to download and clean MIMIC-IV dataset for analysis.\n",
    "The repository is compatible with MIMIC-IV v2.0\n",
    "\n",
    "Please go to:\n",
    "- https://physionet.org/content/mimiciv/2.0/ \n",
    "\n",
    "Follow instructions to get access to MIMIC-IV dataset.\n",
    "\n",
    "\n",
    "Save downloaded files in the fikder raw_data\n",
    "\n",
    "The structure should look like below\n",
    "- raw_data/mimiciv_2_0/hosp\n",
    "- raw_data/mimiciv_2_0/icu"
   ]
  },
  {
   "cell_type": "markdown",
   "metadata": {},
   "source": [
    "## 1. DATA EXTRACTION"
   ]
  },
  {
   "cell_type": "code",
   "execution_count": 3,
   "metadata": {},
   "outputs": [
    {
     "name": "stdout",
     "output_type": "stream",
     "text": [
      "Please select what prediction task you want to perform ?\n"
     ]
    },
    {
     "data": {
      "application/vnd.jupyter.widget-view+json": {
       "model_id": "21421bb347724385ae7ee235f918b47c",
       "version_major": 2,
       "version_minor": 0
      },
      "text/plain": [
       "RadioButtons(options=('Mortality', 'Length of Stay', 'Readmission', 'Phenotype'), value='Mortality')"
      ]
     },
     "metadata": {},
     "output_type": "display_data"
    },
    {
     "name": "stderr",
     "output_type": "stream",
     "text": [
      "DEBUG:Comm:handle_msg[21421bb347724385ae7ee235f918b47c]({'header': {'date': datetime.datetime(2023, 12, 5, 13, 8, 48, 701000, tzinfo=tzutc()), 'msg_id': 'ef9ba017-4201-4139-9bfa-3380c0635ed6', 'msg_type': 'comm_msg', 'session': 'e419a1ed-71d0-440b-9c20-10b124493871', 'username': '382850c6-4afc-4077-b57d-6a67deffc5c7', 'version': '5.2'}, 'msg_id': 'ef9ba017-4201-4139-9bfa-3380c0635ed6', 'msg_type': 'comm_msg', 'parent_header': {}, 'metadata': {}, 'content': {'comm_id': '21421bb347724385ae7ee235f918b47c', 'data': {'method': 'update', 'state': {'index': 1}, 'buffer_paths': []}}, 'buffers': []})\n"
     ]
    }
   ],
   "source": [
    "print(\"Please select what prediction task you want to perform ?\")\n",
    "task_ratio = widgets.RadioButtons(options=['Mortality','Length of Stay','Readmission','Phenotype'],value='Mortality')\n",
    "display(task_ratio)"
   ]
  },
  {
   "cell_type": "markdown",
   "metadata": {},
   "source": [
    "### Refining Cohort and Prediction Task Definition\n",
    "\n",
    "Based on your current selection following block will provide option to further refine prediction task and cohort associated with it:\n",
    "\n",
    "- First you will refine the prediction task choosing from following options -\n",
    "    - **Length of Stay** - You can select from two predefined options or enter custom number of days to predict length os stay greater than number of days.\n",
    "\n",
    "    - **Readmission** - You can select from two predefined options or enter custom number of days to predict readmission after \"number of days\" after previous admission.\n",
    "\n",
    "    - **Phenotype Prediction** - You can select from four major chronic diseases to predict its future outcome\n",
    "\n",
    "        - Heart failure\n",
    "        - CAD (Coronary Artery Disease)\n",
    "        - CKD (Chronic Kidney Disease)\n",
    "        - COPD (Chronic obstructive pulmonary disease)\n",
    "\n",
    "- Second, you will choode whether to perfom above task using ICU or non-ICU admissions data\n",
    "\n",
    "- Third, you can refine the refine the cohort selection for any of the above choosen prediction tasks by including the admission samples admitted with particular chronic disease - \n",
    "    - Heart failure\n",
    "    - CAD (Coronary Artery Disease)\n",
    "    - CKD (Chronic Kidney Disease)\n",
    "    - COPD (Chronic obstructive pulmonary disease)\n",
    "    "
   ]
  },
  {
   "cell_type": "code",
   "execution_count": 4,
   "metadata": {},
   "outputs": [],
   "source": [
    "def create_length_of_stay_widgets():\n",
    "    radio_options = ['Length of Stay ≥ 3', 'Length of Stay ≥ 7', 'Custom']\n",
    "    radio_input = widgets.RadioButtons(options=radio_options, value='Length of Stay ≥ 3')\n",
    "    slider = widgets.IntSlider(value=3, min=1, max=10, step=1, continuous_update=False)\n",
    "    display(radio_input, widgets.HBox([widgets.Label('Length of stay ≥ (days):', layout={'width': '180px'}), slider]))\n",
    "    return radio_input, slider\n",
    "\n",
    "def create_readmission_widgets():\n",
    "    radio_options = ['30 Day Readmission', '60 Day Readmission', '90 Day Readmission', '120 Day Readmission', 'Custom']\n",
    "    radio_input = widgets.RadioButtons(options=radio_options, value='30 Day Readmission')\n",
    "    slider = widgets.IntSlider(value=30, min=10, max=150, step=10)\n",
    "    display(radio_input, widgets.HBox([widgets.Label('Readmission after (days):', layout={'width': '180px'}), slider]))\n",
    "    return radio_input, slider\n",
    "\n",
    "def create_phenotype_widgets():\n",
    "    radio_options = ['Heart Failure in 30 days', 'CAD in 30 days', 'CKD in 30 days', 'COPD in 30 days']\n",
    "    radio_input = widgets.RadioButtons(options=radio_options, value='Heart Failure in 30 days')\n",
    "    display(radio_input)\n",
    "    return radio_input\n",
    "\n",
    "def create_mortality_widgets():\n",
    "    radio_input = widgets.RadioButtons(options=['Mortality'], value='Mortality')\n",
    "    return radio_input\n"
   ]
  },
  {
   "cell_type": "code",
   "execution_count": 10,
   "metadata": {},
   "outputs": [
    {
     "name": "stdout",
     "output_type": "stream",
     "text": [
      "Please select to precise the prediction task \n"
     ]
    },
    {
     "data": {
      "application/vnd.jupyter.widget-view+json": {
       "model_id": "ed8192e0315a4ae1a1e423e662f561b5",
       "version_major": 2,
       "version_minor": 0
      },
      "text/plain": [
       "RadioButtons(options=('Length of Stay ≥ 3', 'Length of Stay ≥ 7', 'Custom'), value='Length of Stay ≥ 3')"
      ]
     },
     "metadata": {},
     "output_type": "display_data"
    },
    {
     "data": {
      "application/vnd.jupyter.widget-view+json": {
       "model_id": "b8725a60cd2344a68ff670851451e0c8",
       "version_major": 2,
       "version_minor": 0
      },
      "text/plain": [
       "HBox(children=(Label(value='Length of stay ≥ (days):', layout=Layout(width='180px')), IntSlider(value=3, conti…"
      ]
     },
     "metadata": {},
     "output_type": "display_data"
    },
    {
     "name": "stdout",
     "output_type": "stream",
     "text": [
      "Please select below if you want to work with ICU or Non-ICU data:\n"
     ]
    },
    {
     "data": {
      "application/vnd.jupyter.widget-view+json": {
       "model_id": "1c51e262966f4e559bdcc7bef82c2ca1",
       "version_major": 2,
       "version_minor": 0
      },
      "text/plain": [
       "RadioButtons(options=('ICU', 'Non-ICU'), value='ICU')"
      ]
     },
     "metadata": {},
     "output_type": "display_data"
    },
    {
     "name": "stdout",
     "output_type": "stream",
     "text": [
      "Please select if you want to perform the chosen prediction task for a specific disease.\n"
     ]
    },
    {
     "data": {
      "application/vnd.jupyter.widget-view+json": {
       "model_id": "6896727d453247e5a62a85226248bc94",
       "version_major": 2,
       "version_minor": 0
      },
      "text/plain": [
       "RadioButtons(options=('No Disease Filter', 'Heart Failure', 'CKD', 'CAD', 'COPD'), value='No Disease Filter')"
      ]
     },
     "metadata": {},
     "output_type": "display_data"
    },
    {
     "name": "stderr",
     "output_type": "stream",
     "text": [
      "DEBUG:Comm:handle_msg[1c51e262966f4e559bdcc7bef82c2ca1]({'header': {'date': datetime.datetime(2023, 12, 5, 13, 10, 18, 395000, tzinfo=tzutc()), 'msg_id': '66f1980f-2c5d-428b-a61f-397b7ddb06b2', 'msg_type': 'comm_msg', 'session': 'e419a1ed-71d0-440b-9c20-10b124493871', 'username': '382850c6-4afc-4077-b57d-6a67deffc5c7', 'version': '5.2'}, 'msg_id': '66f1980f-2c5d-428b-a61f-397b7ddb06b2', 'msg_type': 'comm_msg', 'parent_header': {}, 'metadata': {}, 'content': {'comm_id': '1c51e262966f4e559bdcc7bef82c2ca1', 'data': {'method': 'update', 'state': {'index': 1}, 'buffer_paths': []}}, 'buffers': []})\n",
      "DEBUG:Comm:handle_msg[ed8192e0315a4ae1a1e423e662f561b5]({'header': {'date': datetime.datetime(2023, 12, 5, 13, 10, 19, 226000, tzinfo=tzutc()), 'msg_id': '4cf4ed06-6fa7-4793-b212-f6e76ecfd30e', 'msg_type': 'comm_msg', 'session': 'e419a1ed-71d0-440b-9c20-10b124493871', 'username': '382850c6-4afc-4077-b57d-6a67deffc5c7', 'version': '5.2'}, 'msg_id': '4cf4ed06-6fa7-4793-b212-f6e76ecfd30e', 'msg_type': 'comm_msg', 'parent_header': {}, 'metadata': {}, 'content': {'comm_id': 'ed8192e0315a4ae1a1e423e662f561b5', 'data': {'method': 'update', 'state': {'index': 1}, 'buffer_paths': []}}, 'buffers': []})\n",
      "DEBUG:Comm:handle_msg[6896727d453247e5a62a85226248bc94]({'header': {'date': datetime.datetime(2023, 12, 5, 13, 10, 20, 517000, tzinfo=tzutc()), 'msg_id': '17057055-ac01-486f-bd30-783d99ca1ff5', 'msg_type': 'comm_msg', 'session': 'e419a1ed-71d0-440b-9c20-10b124493871', 'username': '382850c6-4afc-4077-b57d-6a67deffc5c7', 'version': '5.2'}, 'msg_id': '17057055-ac01-486f-bd30-783d99ca1ff5', 'msg_type': 'comm_msg', 'parent_header': {}, 'metadata': {}, 'content': {'comm_id': '6896727d453247e5a62a85226248bc94', 'data': {'method': 'update', 'state': {'index': 3}, 'buffer_paths': []}}, 'buffers': []})\n"
     ]
    }
   ],
   "source": [
    "if task_ratio.value != 'Mortality':\n",
    "    print(\"Please select to precise the prediction task \")\n",
    "if task_ratio.value == 'Length of Stay':\n",
    "    los_radio, los_slider = create_length_of_stay_widgets()\n",
    "elif task_ratio.value == 'Readmission':\n",
    "    readmission_radio, readmission_slider = create_readmission_widgets()\n",
    "elif task_ratio.value == 'Phenotype':\n",
    "    phenotype_radio = create_phenotype_widgets()\n",
    "elif task_ratio.value == 'Mortality':\n",
    "    mortality_radio = create_mortality_widgets()\n",
    "\n",
    "print(\"Please select below if you want to work with ICU or Non-ICU data:\")\n",
    "icu_type_input = widgets.RadioButtons(options=['ICU', 'Non-ICU'], value='ICU')\n",
    "display(icu_type_input)\n",
    "\n",
    "print(\"Please select if you want to perform the chosen prediction task for a specific disease.\")\n",
    "disease_filter_input = widgets.RadioButtons(options=['No Disease Filter', 'Heart Failure', 'CKD', 'CAD', 'COPD'], value='No Disease Filter')\n",
    "display(disease_filter_input)\n",
    "\n"
   ]
  },
  {
   "cell_type": "code",
   "execution_count": 12,
   "metadata": {},
   "outputs": [],
   "source": [
    "def get_time_from_input():\n",
    "    task_type = task_ratio.value\n",
    "    if task_type == 'Length of Stay' and los_radio.value == 'Custom':\n",
    "        return los_slider.value\n",
    "    elif task_type == 'Readmission' and readmission_radio.value == 'Custom':\n",
    "        return readmission_slider.value\n",
    "    elif task_type == 'Readmission':\n",
    "        return int(los_radio.value.split()[0])\n",
    "    elif task_type == 'Length of Stay':\n",
    "        return int(los_radio.value.split()[4])\n",
    "    elif task_type == 'Phenotype':\n",
    "        return 30\n",
    "    return 0\n",
    "\n",
    "def get_disease_label():\n",
    "    if task_ratio.value != 'Phenotype':\n",
    "        return None\n",
    "    task_type = phenotype_radio.value\n",
    "    disease_mapping = {\n",
    "        'Heart Failure in 30 days': DiseaseCode.HEARTH_FAILURE,\n",
    "        'CAD in 30 days': DiseaseCode.CAD,\n",
    "        'CKD in 30 days': DiseaseCode.CKD,\n",
    "        'COPD in 30 days': DiseaseCode.COPD\n",
    "    }\n",
    "    return disease_mapping.get(task_type, \"\")\n",
    "\n",
    "def convert_to_icd_code(disease):\n",
    "    if (disease==\"Heart Failure\"):\n",
    "        icd_code=DiseaseCode.HEARTH_FAILURE\n",
    "    elif (disease==\"CKD\"):\n",
    "        icd_code=DiseaseCode.CKD\n",
    "    elif (disease==\"COPD\"):\n",
    "        icd_code=DiseaseCode.COPD\n",
    "    elif (disease==\"CAD\"):\n",
    "        icd_code=DiseaseCode.CAD\n",
    "    else:\n",
    "        icd_code=None\n",
    "    return icd_code \n",
    "\n",
    "def convert_to_prediction_task(task_text):\n",
    "    if task_text == 'Length of Stay':\n",
    "        return TargetType.LOS\n",
    "    elif task_text == 'Mortality':  \n",
    "        return TargetType.MORTALITY\n",
    "    else:\n",
    "        return TargetType.READMISSION"
   ]
  },
  {
   "cell_type": "code",
   "execution_count": 13,
   "metadata": {},
   "outputs": [
    {
     "name": "stderr",
     "output_type": "stream",
     "text": [
      "INFO:root:===========MIMIC-IV v2.0============\n",
      "INFO:root:EXTRACTING FOR: NON-ICU | LENGHTH OF STAY ADMITTED DUE TO I25 | 7 |\n",
      "INFO:root:[ LOS LABELS FINISHED: 21 LOS Cases ]\n",
      "INFO:root:[ COHORT cohort_Non-ICU_lenghth_of_stay_7__I25 SAVED ]\n",
      "INFO:root:[ COHORT SUCCESSFULLY SAVED ]\n",
      "INFO:root:cohort_Non-ICU_lenghth_of_stay_7__I25\n",
      "INFO:root:[ SUMMARY SUCCESSFULLY SAVED ]\n"
     ]
    }
   ],
   "source": [
    "prediction_task = PredictionTask(\n",
    "    target_type = convert_to_prediction_task(task_ratio.value), \n",
    "    disease_readmission= get_disease_label() if task_ratio.value == 'Phenotype' else None, \n",
    "    disease_selection=convert_to_icd_code(disease_filter_input.value) ,\n",
    "    nb_days=get_time_from_input(), \n",
    "    use_icu=(icu_type_input.value==\"ICU\")\n",
    ")\n",
    "cohort_extractor = CohortExtractor(prediction_task=prediction_task)\n",
    "cohort = cohort_extractor.extract()"
   ]
  },
  {
   "cell_type": "markdown",
   "metadata": {},
   "source": [
    "## 2. FEATURE SELECTION\n",
    "Features available for ICU data -\n",
    "- Diagnosis (https://mimic.mit.edu/docs/iv/modules/hosp/diagnoses_icd/)\n",
    "- Procedures (https://mimic.mit.edu/docs/iv/modules/icu/procedureevents/)\n",
    "- Medications (https://mimic.mit.edu/docs/iv/modules/icu/inputevents/)\n",
    "- Output Events (https://mimic.mit.edu/docs/iv/modules/icu/outputevents/)\n",
    "- Chart Events (https://mimic.mit.edu/docs/iv/modules/icu/chartevents/)\n",
    "\n",
    "Features available for ICU data -\n",
    "- Diagnosis (https://mimic.mit.edu/docs/iv/modules/hosp/diagnoses_icd/)\n",
    "- Procedures (https://mimic.mit.edu/docs/iv/modules/hosp/procedures_icd/)\n",
    "- Medications (https://mimic.mit.edu/docs/iv/modules/hosp/prescriptions/)\n",
    "- Lab Events (https://mimic.mit.edu/docs/iv/modules/hosp/labevents/)\n",
    "\n",
    "All features will be saved in **./preproc_data/features/**"
   ]
  },
  {
   "cell_type": "code",
   "execution_count": 16,
   "metadata": {},
   "outputs": [
    {
     "name": "stdout",
     "output_type": "stream",
     "text": [
      "Feature Selection\n",
      "Which Features you want to include for cohort?\n"
     ]
    },
    {
     "data": {
      "application/vnd.jupyter.widget-view+json": {
       "model_id": "aaebdd6403734e0db4d111937c0752ca",
       "version_major": 2,
       "version_minor": 0
      },
      "text/plain": [
       "Checkbox(value=False, description='Diagnosis')"
      ]
     },
     "metadata": {},
     "output_type": "display_data"
    },
    {
     "data": {
      "application/vnd.jupyter.widget-view+json": {
       "model_id": "703868ec7c52421fbac529a1ccae84d6",
       "version_major": 2,
       "version_minor": 0
      },
      "text/plain": [
       "Checkbox(value=False, description='Labs')"
      ]
     },
     "metadata": {},
     "output_type": "display_data"
    },
    {
     "data": {
      "application/vnd.jupyter.widget-view+json": {
       "model_id": "11591651593243618aa171f78eebb86f",
       "version_major": 2,
       "version_minor": 0
      },
      "text/plain": [
       "Checkbox(value=False, description='Procedures')"
      ]
     },
     "metadata": {},
     "output_type": "display_data"
    },
    {
     "data": {
      "application/vnd.jupyter.widget-view+json": {
       "model_id": "e4e3bda9f5114c84b5df3218466c039c",
       "version_major": 2,
       "version_minor": 0
      },
      "text/plain": [
       "Checkbox(value=False, description='Medications')"
      ]
     },
     "metadata": {},
     "output_type": "display_data"
    },
    {
     "name": "stdout",
     "output_type": "stream",
     "text": [
      "**Please run below cell to extract selected features**\n"
     ]
    },
    {
     "name": "stderr",
     "output_type": "stream",
     "text": [
      "DEBUG:Comm:handle_msg[aaebdd6403734e0db4d111937c0752ca]({'header': {'date': datetime.datetime(2023, 12, 5, 13, 11, 14, 463000, tzinfo=tzutc()), 'msg_id': '49c3eea1-a570-4308-84cf-056f4d8897ee', 'msg_type': 'comm_msg', 'session': 'e419a1ed-71d0-440b-9c20-10b124493871', 'username': '382850c6-4afc-4077-b57d-6a67deffc5c7', 'version': '5.2'}, 'msg_id': '49c3eea1-a570-4308-84cf-056f4d8897ee', 'msg_type': 'comm_msg', 'parent_header': {}, 'metadata': {}, 'content': {'comm_id': 'aaebdd6403734e0db4d111937c0752ca', 'data': {'method': 'update', 'state': {'value': True}, 'buffer_paths': []}}, 'buffers': []})\n",
      "DEBUG:Comm:handle_msg[703868ec7c52421fbac529a1ccae84d6]({'header': {'date': datetime.datetime(2023, 12, 5, 13, 11, 14, 936000, tzinfo=tzutc()), 'msg_id': '8d0a2e72-d080-4000-b602-ac0007d2b1ab', 'msg_type': 'comm_msg', 'session': 'e419a1ed-71d0-440b-9c20-10b124493871', 'username': '382850c6-4afc-4077-b57d-6a67deffc5c7', 'version': '5.2'}, 'msg_id': '8d0a2e72-d080-4000-b602-ac0007d2b1ab', 'msg_type': 'comm_msg', 'parent_header': {}, 'metadata': {}, 'content': {'comm_id': '703868ec7c52421fbac529a1ccae84d6', 'data': {'method': 'update', 'state': {'value': True}, 'buffer_paths': []}}, 'buffers': []})\n",
      "DEBUG:Comm:handle_msg[11591651593243618aa171f78eebb86f]({'header': {'date': datetime.datetime(2023, 12, 5, 13, 11, 15, 387000, tzinfo=tzutc()), 'msg_id': 'f81f4471-5c3e-4fc0-b00d-bc1fa654541b', 'msg_type': 'comm_msg', 'session': 'e419a1ed-71d0-440b-9c20-10b124493871', 'username': '382850c6-4afc-4077-b57d-6a67deffc5c7', 'version': '5.2'}, 'msg_id': 'f81f4471-5c3e-4fc0-b00d-bc1fa654541b', 'msg_type': 'comm_msg', 'parent_header': {}, 'metadata': {}, 'content': {'comm_id': '11591651593243618aa171f78eebb86f', 'data': {'method': 'update', 'state': {'value': True}, 'buffer_paths': []}}, 'buffers': []})\n",
      "DEBUG:Comm:handle_msg[e4e3bda9f5114c84b5df3218466c039c]({'header': {'date': datetime.datetime(2023, 12, 5, 13, 11, 15, 892000, tzinfo=tzutc()), 'msg_id': 'a38ccc64-96a8-40bd-97e4-93629e987c1d', 'msg_type': 'comm_msg', 'session': 'e419a1ed-71d0-440b-9c20-10b124493871', 'username': '382850c6-4afc-4077-b57d-6a67deffc5c7', 'version': '5.2'}, 'msg_id': 'a38ccc64-96a8-40bd-97e4-93629e987c1d', 'msg_type': 'comm_msg', 'parent_header': {}, 'metadata': {}, 'content': {'comm_id': 'e4e3bda9f5114c84b5df3218466c039c', 'data': {'method': 'update', 'state': {'value': True}, 'buffer_paths': []}}, 'buffers': []})\n"
     ]
    }
   ],
   "source": [
    "print(\"Feature Selection\")\n",
    "if cohort_extractor.prediction_task.use_icu:\n",
    "    print(\"Which Features you want to include for cohort?\")\n",
    "    dia_input = widgets.Checkbox(description='Diagnosis')\n",
    "    display(dia_input)\n",
    "    out_input = widgets.Checkbox(description='Output Events')\n",
    "    display(out_input)\n",
    "    chart_input = widgets.Checkbox(description='Chart Events(Labs and Vitals)')\n",
    "    display(chart_input)\n",
    "    proc_input = widgets.Checkbox(description='Procedures')\n",
    "    display(proc_input)\n",
    "    med_input = widgets.Checkbox(description='Medications')\n",
    "    display(med_input)\n",
    "else:\n",
    "    print(\"Which Features you want to include for cohort?\")\n",
    "    dia_input = widgets.Checkbox(description='Diagnosis')\n",
    "    display(dia_input)\n",
    "    lab_input = widgets.Checkbox(description='Labs')\n",
    "    display(lab_input)\n",
    "    proc_input = widgets.Checkbox(description='Procedures')\n",
    "    display(proc_input)\n",
    "    med_input = widgets.Checkbox(description='Medications')\n",
    "    display(med_input)\n",
    "print(\"**Please run below cell to extract selected features**\")"
   ]
  },
  {
   "cell_type": "code",
   "execution_count": 20,
   "metadata": {},
   "outputs": [
    {
     "data": {
      "text/plain": [
       "False"
      ]
     },
     "execution_count": 20,
     "metadata": {},
     "output_type": "execute_result"
    }
   ],
   "source": [
    "prediction_task.use_icu"
   ]
  },
  {
   "cell_type": "code",
   "execution_count": 17,
   "metadata": {},
   "outputs": [
    {
     "data": {
      "text/plain": [
       "True"
      ]
     },
     "execution_count": 17,
     "metadata": {},
     "output_type": "execute_result"
    }
   ],
   "source": [
    "dia_input.value"
   ]
  },
  {
   "cell_type": "code",
   "execution_count": 21,
   "metadata": {},
   "outputs": [],
   "source": [
    "from my_preprocessing.features_extractor import FeatureExtractor\n",
    "feature_extractor= FeatureExtractor(\n",
    "    cohort_output=cohort_extractor.cohort_output,\n",
    "    use_icu=prediction_task.use_icu,\n",
    "    for_diagnoses=dia_input.value,\n",
    "    for_output_events= prediction_task.use_icu and out_input.value,\n",
    "    for_chart_events=prediction_task.use_icu and chart_input.value,\n",
    "    for_procedures=proc_input.value,\n",
    "    for_medications= med_input.value,\n",
    "    for_labs= not prediction_task.use_icu and lab_input.value\n",
    ")\n",
    "\n"
   ]
  },
  {
   "cell_type": "code",
   "execution_count": 24,
   "metadata": {},
   "outputs": [
    {
     "name": "stderr",
     "output_type": "stream",
     "text": [
      "INFO:root:[EXTRACTING DIAGNOSIS DATA]\n",
      "INFO:root:[SUCCESSFULLY SAVED DIAGNOSES DATA]\n",
      "INFO:root:[EXTRACTING PROCEDURES DATA]\n",
      "INFO:root: # Unique ICD9 Procedures:42\n",
      "INFO:root: # Unique ICD10 Procedures:70\n",
      "INFO:root:\n",
      "Value counts of each ICD version:\n",
      " icd_version\n",
      "10    103\n",
      "9      79\n",
      "Name: count, dtype: int64\n",
      "INFO:root:# Admissions:50\n",
      "INFO:root:Total number of rows: 182\n",
      "INFO:root:[SUCCESSFULLY SAVED PROCEDURES DATA]\n",
      "INFO:root:[EXTRACTING MEDICATIONS DATA]\n",
      "INFO:root:Number of unique type of drug: 275\n",
      "INFO:root:Number of unique type of drug (after grouping to use Non propietary names): 236\n",
      "INFO:root:[SUCCESSFULLY SAVED MEDICATIONS DATA]\n",
      "INFO:root:[EXTRACTING LABS DATA]\n"
     ]
    },
    {
     "name": "stdout",
     "output_type": "stream",
     "text": [
      "# Admissions:   72\n",
      "Total number of rows:  3648\n"
     ]
    },
    {
     "name": "stderr",
     "output_type": "stream",
     "text": [
      "1it [00:01,  1.36s/it]\n",
      "INFO:root:[SUCCESSFULLY SAVED LABS DATA]\n"
     ]
    }
   ],
   "source": [
    "features = feature_extractor.save_features()"
   ]
  },
  {
   "cell_type": "markdown",
   "metadata": {},
   "source": [
    "## 3. CLINICAL GROUPING\n",
    "Grouping medical codes will reduce dimensional space of features.\n",
    "\n",
    "Default options selected below will group medical codes to reduce feature dimension space.\n"
   ]
  },
  {
   "cell_type": "code",
   "execution_count": 25,
   "metadata": {},
   "outputs": [
    {
     "name": "stdout",
     "output_type": "stream",
     "text": [
      "Do you want to group ICD 10 DIAG codes ?\n"
     ]
    },
    {
     "data": {
      "application/vnd.jupyter.widget-view+json": {
       "model_id": "81a21f760b12462c8ca795cc92363652",
       "version_major": 2,
       "version_minor": 0
      },
      "text/plain": [
       "RadioButtons(index=2, layout=Layout(width='100%'), options=('Keep both ICD-9 and ICD-10 codes', 'Convert ICD-9…"
      ]
     },
     "metadata": {},
     "output_type": "display_data"
    },
    {
     "name": "stdout",
     "output_type": "stream",
     "text": [
      "Do you want to group Medication codes to use Non propietary names?\n"
     ]
    },
    {
     "data": {
      "application/vnd.jupyter.widget-view+json": {
       "model_id": "e6eb73bb8fd540dca9d004ebf1abe7a2",
       "version_major": 2,
       "version_minor": 0
      },
      "text/plain": [
       "RadioButtons(layout=Layout(width='100%'), options=('Yes', 'No'), value='Yes')"
      ]
     },
     "metadata": {},
     "output_type": "display_data"
    },
    {
     "name": "stdout",
     "output_type": "stream",
     "text": [
      "Which ICD codes for Procedures you want to keep in data?\n"
     ]
    },
    {
     "data": {
      "application/vnd.jupyter.widget-view+json": {
       "model_id": "629976014c5348fc8603587d96c5d7b9",
       "version_major": 2,
       "version_minor": 0
      },
      "text/plain": [
       "RadioButtons(index=1, layout=Layout(width='100%'), options=('ICD-9 and ICD-10', 'ICD-10'), value='ICD-10')"
      ]
     },
     "metadata": {},
     "output_type": "display_data"
    },
    {
     "name": "stdout",
     "output_type": "stream",
     "text": [
      "**Please run below cell to perform feature preprocessing**\n"
     ]
    }
   ],
   "source": [
    "if feature_extractor.for_diagnoses:\n",
    "    print(\"Do you want to group ICD 10 DIAG codes ?\")\n",
    "    group_dia_icd_input = widgets.RadioButtons(options=['Keep both ICD-9 and ICD-10 codes','Convert ICD-9 to ICD-10 codes','Convert ICD-9 to ICD-10 and group ICD-10 codes'],value='Convert ICD-9 to ICD-10 and group ICD-10 codes',layout={'width': '100%'})\n",
    "    display(group_dia_icd_input)   \n",
    "\n",
    "if not prediction_task.use_icu:\n",
    "    if feature_extractor.for_medications:\n",
    "        print(\"Do you want to group Medication codes to use Non propietary names?\")\n",
    "        group_med_code_input = widgets.RadioButtons(options=['Yes','No'],value='Yes',layout={'width': '100%'})\n",
    "        display(group_med_code_input)\n",
    "    if feature_extractor.for_procedures:\n",
    "        print(\"Which ICD codes for Procedures you want to keep in data?\")\n",
    "        group_proc_icd_input = widgets.RadioButtons(options=['ICD-9 and ICD-10','ICD-10'],value='ICD-10',layout={'width': '100%'})\n",
    "        display(group_proc_icd_input)\n",
    "print(\"**Please run below cell to perform feature preprocessing**\")"
   ]
  },
  {
   "cell_type": "code",
   "execution_count": null,
   "metadata": {},
   "outputs": [],
   "source": [
    "from my_preprocessing.features_preprocessor import FeaturePreprocesor\n",
    "feature_preprocessor = FeaturePreprocessor()"
   ]
  }
 ],
 "metadata": {
  "kernelspec": {
   "display_name": "venv",
   "language": "python",
   "name": "python3"
  },
  "language_info": {
   "codemirror_mode": {
    "name": "ipython",
    "version": 3
   },
   "file_extension": ".py",
   "mimetype": "text/x-python",
   "name": "python",
   "nbconvert_exporter": "python",
   "pygments_lexer": "ipython3",
   "version": "3.11.6"
  }
 },
 "nbformat": 4,
 "nbformat_minor": 2
}
