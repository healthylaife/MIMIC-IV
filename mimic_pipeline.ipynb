{
 "cells": [
  {
   "cell_type": "code",
   "execution_count": 1,
   "metadata": {},
   "outputs": [],
   "source": [
    "import ipywidgets as widgets\n",
    "from pathlib import Path\n",
    "\n",
    "from pipeline.cohort_extractor import CohortExtractor\n",
    "from pipeline.prediction_task import TargetType, PredictionTask, DiseaseCode\n",
    "from pipeline.features_extractor import FeatureExtractor"
   ]
  },
  {
   "cell_type": "markdown",
   "metadata": {},
   "source": [
    "# Welcome to MIMIC-IV Project"
   ]
  },
  {
   "cell_type": "code",
   "execution_count": 2,
   "metadata": {},
   "outputs": [],
   "source": [
    "Path(\"raw_data\").mkdir(parents=True, exist_ok=True)"
   ]
  },
  {
   "cell_type": "markdown",
   "metadata": {},
   "source": [
    "This repository explains the steps to download and clean MIMIC-IV dataset for analysis.\n",
    "The repository is compatible with MIMIC-IV v2.0\n",
    "\n",
    "Please go to:\n",
    "- https://physionet.org/content/mimiciv/2.0/ \n",
    "\n",
    "Follow instructions to get access to MIMIC-IV dataset.\n",
    "\n",
    "\n",
    "Save downloaded files in the fikder raw_data\n",
    "\n",
    "The structure should look like below\n",
    "- raw_data/mimiciv_2_0/hosp\n",
    "- raw_data/mimiciv_2_0/icu"
   ]
  },
  {
   "cell_type": "markdown",
   "metadata": {},
   "source": [
    "## 1. DATA EXTRACTION"
   ]
  },
  {
   "cell_type": "code",
   "execution_count": 3,
   "metadata": {},
   "outputs": [
    {
     "name": "stdout",
     "output_type": "stream",
     "text": [
      "Please select what prediction task you want to perform ?\n"
     ]
    },
    {
     "data": {
      "application/vnd.jupyter.widget-view+json": {
       "model_id": "9301d0f07bb44aa19100ca657914ce5d",
       "version_major": 2,
       "version_minor": 0
      },
      "text/plain": [
       "RadioButtons(options=('Mortality', 'Length of Stay', 'Readmission', 'Phenotype'), value='Mortality')"
      ]
     },
     "metadata": {},
     "output_type": "display_data"
    },
    {
     "name": "stderr",
     "output_type": "stream",
     "text": [
      "DEBUG:Comm:handle_msg[9301d0f07bb44aa19100ca657914ce5d]({'header': {'date': datetime.datetime(2023, 12, 9, 13, 30, 20, 821000, tzinfo=tzutc()), 'msg_id': 'db99dafc-defd-4577-9723-e1e11c64ffe1', 'msg_type': 'comm_msg', 'session': 'e8845a06-cb7d-41e1-bf48-372172e275ed', 'username': '6b58c396-60d8-4f33-b913-49b4b6a7dd8b', 'version': '5.2'}, 'msg_id': 'db99dafc-defd-4577-9723-e1e11c64ffe1', 'msg_type': 'comm_msg', 'parent_header': {}, 'metadata': {}, 'content': {'comm_id': '9301d0f07bb44aa19100ca657914ce5d', 'data': {'method': 'update', 'state': {'index': 1}, 'buffer_paths': []}}, 'buffers': []})\n"
     ]
    }
   ],
   "source": [
    "print(\"Please select what prediction task you want to perform ?\")\n",
    "task_ratio = widgets.RadioButtons(options=['Mortality','Length of Stay','Readmission','Phenotype'],value='Mortality')\n",
    "display(task_ratio)"
   ]
  },
  {
   "cell_type": "markdown",
   "metadata": {},
   "source": [
    "### Refining Cohort and Prediction Task Definition\n",
    "\n",
    "Based on your current selection following block will provide option to further refine prediction task and cohort associated with it:\n",
    "\n",
    "- First you will refine the prediction task choosing from following options -\n",
    "    - **Length of Stay** - You can select from two predefined options or enter custom number of days to predict length os stay greater than number of days.\n",
    "\n",
    "    - **Readmission** - You can select from two predefined options or enter custom number of days to predict readmission after \"number of days\" after previous admission.\n",
    "\n",
    "    - **Phenotype Prediction** - You can select from four major chronic diseases to predict its future outcome\n",
    "\n",
    "        - Heart failure\n",
    "        - CAD (Coronary Artery Disease)\n",
    "        - CKD (Chronic Kidney Disease)\n",
    "        - COPD (Chronic obstructive pulmonary disease)\n",
    "\n",
    "- Second, you will choode whether to perfom above task using ICU or non-ICU admissions data\n",
    "\n",
    "- Third, you can refine the refine the cohort selection for any of the above choosen prediction tasks by including the admission samples admitted with particular chronic disease - \n",
    "    - Heart failure\n",
    "    - CAD (Coronary Artery Disease)\n",
    "    - CKD (Chronic Kidney Disease)\n",
    "    - COPD (Chronic obstructive pulmonary disease)\n",
    "    "
   ]
  },
  {
   "cell_type": "code",
   "execution_count": 4,
   "metadata": {},
   "outputs": [],
   "source": [
    "def create_length_of_stay_widgets():\n",
    "    radio_options = ['Length of Stay ≥ 3', 'Length of Stay ≥ 7', 'Custom']\n",
    "    radio_input = widgets.RadioButtons(options=radio_options, value='Length of Stay ≥ 3')\n",
    "    slider = widgets.IntSlider(value=3, min=1, max=10, step=1, continuous_update=False)\n",
    "    display(radio_input, widgets.HBox([widgets.Label('Length of stay ≥ (days):', layout={'width': '180px'}), slider]))\n",
    "    return radio_input, slider\n",
    "\n",
    "def create_readmission_widgets():\n",
    "    radio_options = ['30 Day Readmission', '60 Day Readmission', '90 Day Readmission', '120 Day Readmission', 'Custom']\n",
    "    radio_input = widgets.RadioButtons(options=radio_options, value='30 Day Readmission')\n",
    "    slider = widgets.IntSlider(value=30, min=10, max=150, step=10)\n",
    "    display(radio_input, widgets.HBox([widgets.Label('Readmission after (days):', layout={'width': '180px'}), slider]))\n",
    "    return radio_input, slider\n",
    "\n",
    "def create_phenotype_widgets():\n",
    "    radio_options = ['Heart Failure in 30 days', 'CAD in 30 days', 'CKD in 30 days', 'COPD in 30 days']\n",
    "    radio_input = widgets.RadioButtons(options=radio_options, value='Heart Failure in 30 days')\n",
    "    display(radio_input)\n",
    "    return radio_input\n",
    "\n",
    "def create_mortality_widgets():\n",
    "    radio_input = widgets.RadioButtons(options=['Mortality'], value='Mortality')\n",
    "    return radio_input\n"
   ]
  },
  {
   "cell_type": "code",
   "execution_count": 5,
   "metadata": {},
   "outputs": [
    {
     "name": "stdout",
     "output_type": "stream",
     "text": [
      "Please select to precise the prediction task \n"
     ]
    },
    {
     "data": {
      "application/vnd.jupyter.widget-view+json": {
       "model_id": "154776ab8dcb4780a08d64b29b8ed89e",
       "version_major": 2,
       "version_minor": 0
      },
      "text/plain": [
       "RadioButtons(options=('Length of Stay ≥ 3', 'Length of Stay ≥ 7', 'Custom'), value='Length of Stay ≥ 3')"
      ]
     },
     "metadata": {},
     "output_type": "display_data"
    },
    {
     "data": {
      "application/vnd.jupyter.widget-view+json": {
       "model_id": "a86bf8e75b354d758415ca1e69370bc3",
       "version_major": 2,
       "version_minor": 0
      },
      "text/plain": [
       "HBox(children=(Label(value='Length of stay ≥ (days):', layout=Layout(width='180px')), IntSlider(value=3, conti…"
      ]
     },
     "metadata": {},
     "output_type": "display_data"
    },
    {
     "name": "stdout",
     "output_type": "stream",
     "text": [
      "Please select below if you want to work with ICU or Non-ICU data:\n"
     ]
    },
    {
     "data": {
      "application/vnd.jupyter.widget-view+json": {
       "model_id": "187e9ad49a204c7cba56f2954d933694",
       "version_major": 2,
       "version_minor": 0
      },
      "text/plain": [
       "RadioButtons(options=('ICU', 'Non-ICU'), value='ICU')"
      ]
     },
     "metadata": {},
     "output_type": "display_data"
    },
    {
     "name": "stdout",
     "output_type": "stream",
     "text": [
      "Please select if you want to perform the chosen prediction task for a specific disease.\n"
     ]
    },
    {
     "data": {
      "application/vnd.jupyter.widget-view+json": {
       "model_id": "97240b1894ed4aea82afb4b1afb4cc52",
       "version_major": 2,
       "version_minor": 0
      },
      "text/plain": [
       "RadioButtons(options=('No Disease Filter', 'Heart Failure', 'CKD', 'CAD', 'COPD'), value='No Disease Filter')"
      ]
     },
     "metadata": {},
     "output_type": "display_data"
    },
    {
     "name": "stderr",
     "output_type": "stream",
     "text": [
      "DEBUG:Comm:handle_msg[187e9ad49a204c7cba56f2954d933694]({'header': {'date': datetime.datetime(2023, 12, 9, 13, 30, 32, 969000, tzinfo=tzutc()), 'msg_id': '147f923f-6f57-41df-ba67-ae6f7c0f1150', 'msg_type': 'comm_msg', 'session': 'e8845a06-cb7d-41e1-bf48-372172e275ed', 'username': '6b58c396-60d8-4f33-b913-49b4b6a7dd8b', 'version': '5.2'}, 'msg_id': '147f923f-6f57-41df-ba67-ae6f7c0f1150', 'msg_type': 'comm_msg', 'parent_header': {}, 'metadata': {}, 'content': {'comm_id': '187e9ad49a204c7cba56f2954d933694', 'data': {'method': 'update', 'state': {'index': 1}, 'buffer_paths': []}}, 'buffers': []})\n",
      "DEBUG:Comm:handle_msg[97240b1894ed4aea82afb4b1afb4cc52]({'header': {'date': datetime.datetime(2023, 12, 9, 13, 30, 34, 271000, tzinfo=tzutc()), 'msg_id': 'dd1758d0-fca0-4fd9-9a69-c6f1c863e592', 'msg_type': 'comm_msg', 'session': 'e8845a06-cb7d-41e1-bf48-372172e275ed', 'username': '6b58c396-60d8-4f33-b913-49b4b6a7dd8b', 'version': '5.2'}, 'msg_id': 'dd1758d0-fca0-4fd9-9a69-c6f1c863e592', 'msg_type': 'comm_msg', 'parent_header': {}, 'metadata': {}, 'content': {'comm_id': '97240b1894ed4aea82afb4b1afb4cc52', 'data': {'method': 'update', 'state': {'index': 2}, 'buffer_paths': []}}, 'buffers': []})\n"
     ]
    }
   ],
   "source": [
    "if task_ratio.value != 'Mortality':\n",
    "    print(\"Please select to precise the prediction task \")\n",
    "if task_ratio.value == 'Length of Stay':\n",
    "    los_radio, los_slider = create_length_of_stay_widgets()\n",
    "elif task_ratio.value == 'Readmission':\n",
    "    readmission_radio, readmission_slider = create_readmission_widgets()\n",
    "elif task_ratio.value == 'Phenotype':\n",
    "    phenotype_radio = create_phenotype_widgets()\n",
    "elif task_ratio.value == 'Mortality':\n",
    "    mortality_radio = create_mortality_widgets()\n",
    "\n",
    "print(\"Please select below if you want to work with ICU or Non-ICU data:\")\n",
    "icu_type_input = widgets.RadioButtons(options=['ICU', 'Non-ICU'], value='ICU')\n",
    "display(icu_type_input)\n",
    "\n",
    "print(\"Please select if you want to perform the chosen prediction task for a specific disease.\")\n",
    "disease_filter_input = widgets.RadioButtons(options=['No Disease Filter', 'Heart Failure', 'CKD', 'CAD', 'COPD'], value='No Disease Filter')\n",
    "display(disease_filter_input)\n",
    "\n"
   ]
  },
  {
   "cell_type": "code",
   "execution_count": 6,
   "metadata": {},
   "outputs": [],
   "source": [
    "def get_time_from_input():\n",
    "    task_type = task_ratio.value\n",
    "    if task_type == 'Length of Stay' and los_radio.value == 'Custom':\n",
    "        return los_slider.value\n",
    "    elif task_type == 'Readmission' and readmission_radio.value == 'Custom':\n",
    "        return readmission_slider.value\n",
    "    elif task_type == 'Readmission':\n",
    "        return int(readmission_radio.value.split()[0])\n",
    "    elif task_type == 'Length of Stay':\n",
    "        return int(los_radio.value.split()[4])\n",
    "    elif task_type == 'Phenotype':\n",
    "        return 30\n",
    "    return 0\n",
    "\n",
    "def get_disease_label():\n",
    "    if task_ratio.value != 'Phenotype':\n",
    "        return None\n",
    "    task_type = phenotype_radio.value\n",
    "    disease_mapping = {\n",
    "        'Heart Failure in 30 days': DiseaseCode.HEARTH_FAILURE,\n",
    "        'CAD in 30 days': DiseaseCode.CAD,\n",
    "        'CKD in 30 days': DiseaseCode.CKD,\n",
    "        'COPD in 30 days': DiseaseCode.COPD\n",
    "    }\n",
    "    return disease_mapping.get(task_type, \"\")\n",
    "\n",
    "def convert_to_icd_code(disease):\n",
    "    if (disease==\"Heart Failure\"):\n",
    "        icd_code=DiseaseCode.HEARTH_FAILURE\n",
    "    elif (disease==\"CKD\"):\n",
    "        icd_code=DiseaseCode.CKD\n",
    "    elif (disease==\"COPD\"):\n",
    "        icd_code=DiseaseCode.COPD\n",
    "    elif (disease==\"CAD\"):\n",
    "        icd_code=DiseaseCode.CAD\n",
    "    else:\n",
    "        icd_code=None\n",
    "    return icd_code \n",
    "\n",
    "def convert_to_prediction_task(task_text):\n",
    "    if task_text == 'Length of Stay':\n",
    "        return TargetType.LOS\n",
    "    elif task_text == 'Mortality':  \n",
    "        return TargetType.MORTALITY\n",
    "    else:\n",
    "        return TargetType.READMISSION"
   ]
  },
  {
   "cell_type": "code",
   "execution_count": 7,
   "metadata": {},
   "outputs": [
    {
     "data": {
      "text/plain": [
       "(<TargetType.LOS: 'Lenghth of stay'>, None, <DiseaseCode.CKD: 'N18'>, 3, False)"
      ]
     },
     "execution_count": 7,
     "metadata": {},
     "output_type": "execute_result"
    }
   ],
   "source": [
    "# DEBUG\n",
    "(convert_to_prediction_task(task_ratio.value), \n",
    "get_disease_label() if task_ratio.value == 'Phenotype' else None, \n",
    "convert_to_icd_code(disease_filter_input.value) ,\n",
    "get_time_from_input(), \n",
    "(icu_type_input.value==\"ICU\"))"
   ]
  },
  {
   "cell_type": "code",
   "execution_count": null,
   "metadata": {},
   "outputs": [],
   "source": [
    "# cohort_output = day_intervals_cohort_v2.extract_data(radio_input1.value,label,time,icd_code, root_dir,disease_label)"
   ]
  },
  {
   "cell_type": "code",
   "execution_count": 8,
   "metadata": {},
   "outputs": [
    {
     "name": "stderr",
     "output_type": "stream",
     "text": [
      "INFO:root:===========MIMIC-IV v2.0============\n",
      "INFO:root:EXTRACTING FOR: NON-ICU | LENGHTH OF STAY ADMITTED DUE TO N18 | 3 |\n",
      "INFO:root:[ LOS LABELS FINISHED: 48 LOS Cases ]\n",
      "INFO:root:[ COHORT cohort_Non-ICU_lenghth_of_stay_3__N18 SAVED ]\n",
      "INFO:root:[ SUMMARY summary_cohort_Non-ICU_lenghth_of_stay_3__N18 SAVED ]\n"
     ]
    }
   ],
   "source": [
    "prediction_task = PredictionTask(\n",
    "    target_type = convert_to_prediction_task(task_ratio.value), \n",
    "    disease_readmission= get_disease_label() if task_ratio.value == 'Phenotype' else None, \n",
    "    disease_selection=convert_to_icd_code(disease_filter_input.value) ,\n",
    "    nb_days=get_time_from_input(), \n",
    "    use_icu=(icu_type_input.value==\"ICU\")\n",
    ")\n",
    "cohort_extractor = CohortExtractor(prediction_task=prediction_task)\n",
    "cohort = cohort_extractor.extract()"
   ]
  },
  {
   "cell_type": "markdown",
   "metadata": {},
   "source": [
    "## 2. FEATURE EXTRACTION\n",
    "Features available for ICU data -\n",
    "- Diagnosis (https://mimic.mit.edu/docs/iv/modules/hosp/diagnoses_icd/)\n",
    "- Procedures (https://mimic.mit.edu/docs/iv/modules/icu/procedureevents/)\n",
    "- Medications (https://mimic.mit.edu/docs/iv/modules/icu/inputevents/)\n",
    "- Output Events (https://mimic.mit.edu/docs/iv/modules/icu/outputevents/)\n",
    "- Chart Events (https://mimic.mit.edu/docs/iv/modules/icu/chartevents/)\n",
    "\n",
    "Features available for ICU data -\n",
    "- Diagnosis (https://mimic.mit.edu/docs/iv/modules/hosp/diagnoses_icd/)\n",
    "- Procedures (https://mimic.mit.edu/docs/iv/modules/hosp/procedures_icd/)\n",
    "- Medications (https://mimic.mit.edu/docs/iv/modules/hosp/prescriptions/)\n",
    "- Lab Events (https://mimic.mit.edu/docs/iv/modules/hosp/labevents/)\n",
    "\n",
    "All features will be saved in **./preproc_data/features/**"
   ]
  },
  {
   "cell_type": "code",
   "execution_count": 9,
   "metadata": {},
   "outputs": [
    {
     "name": "stdout",
     "output_type": "stream",
     "text": [
      "Feature Selection\n",
      "Which Features you want to include for cohort?\n"
     ]
    },
    {
     "data": {
      "application/vnd.jupyter.widget-view+json": {
       "model_id": "0987b395a22c46f099b26a05d3e4765f",
       "version_major": 2,
       "version_minor": 0
      },
      "text/plain": [
       "Checkbox(value=False, description='Diagnosis')"
      ]
     },
     "metadata": {},
     "output_type": "display_data"
    },
    {
     "data": {
      "application/vnd.jupyter.widget-view+json": {
       "model_id": "79456e1676a24a448d50bcd584c735c9",
       "version_major": 2,
       "version_minor": 0
      },
      "text/plain": [
       "Checkbox(value=False, description='Labs')"
      ]
     },
     "metadata": {},
     "output_type": "display_data"
    },
    {
     "data": {
      "application/vnd.jupyter.widget-view+json": {
       "model_id": "3f87ce24a0f245649f5c5b88bf4b55e9",
       "version_major": 2,
       "version_minor": 0
      },
      "text/plain": [
       "Checkbox(value=False, description='Procedures')"
      ]
     },
     "metadata": {},
     "output_type": "display_data"
    },
    {
     "data": {
      "application/vnd.jupyter.widget-view+json": {
       "model_id": "48574ec14cea411a8521f93da1875fdd",
       "version_major": 2,
       "version_minor": 0
      },
      "text/plain": [
       "Checkbox(value=False, description='Medications')"
      ]
     },
     "metadata": {},
     "output_type": "display_data"
    },
    {
     "name": "stdout",
     "output_type": "stream",
     "text": [
      "**Please run below cell to extract selected features**\n"
     ]
    },
    {
     "name": "stderr",
     "output_type": "stream",
     "text": [
      "DEBUG:Comm:handle_msg[0987b395a22c46f099b26a05d3e4765f]({'header': {'date': datetime.datetime(2023, 12, 9, 13, 33, 55, 462000, tzinfo=tzutc()), 'msg_id': 'e9fa7f05-354c-4aa1-991a-23e4822d1f35', 'msg_type': 'comm_msg', 'session': 'e8845a06-cb7d-41e1-bf48-372172e275ed', 'username': '6b58c396-60d8-4f33-b913-49b4b6a7dd8b', 'version': '5.2'}, 'msg_id': 'e9fa7f05-354c-4aa1-991a-23e4822d1f35', 'msg_type': 'comm_msg', 'parent_header': {}, 'metadata': {}, 'content': {'comm_id': '0987b395a22c46f099b26a05d3e4765f', 'data': {'method': 'update', 'state': {'value': True}, 'buffer_paths': []}}, 'buffers': []})\n",
      "DEBUG:Comm:handle_msg[79456e1676a24a448d50bcd584c735c9]({'header': {'date': datetime.datetime(2023, 12, 9, 13, 33, 56, 209000, tzinfo=tzutc()), 'msg_id': 'ee98eccd-6527-45eb-892d-e4a9ce1a252a', 'msg_type': 'comm_msg', 'session': 'e8845a06-cb7d-41e1-bf48-372172e275ed', 'username': '6b58c396-60d8-4f33-b913-49b4b6a7dd8b', 'version': '5.2'}, 'msg_id': 'ee98eccd-6527-45eb-892d-e4a9ce1a252a', 'msg_type': 'comm_msg', 'parent_header': {}, 'metadata': {}, 'content': {'comm_id': '79456e1676a24a448d50bcd584c735c9', 'data': {'method': 'update', 'state': {'value': True}, 'buffer_paths': []}}, 'buffers': []})\n",
      "DEBUG:Comm:handle_msg[3f87ce24a0f245649f5c5b88bf4b55e9]({'header': {'date': datetime.datetime(2023, 12, 9, 13, 33, 57, 233000, tzinfo=tzutc()), 'msg_id': 'c69fc5a6-2980-4771-8f1c-cee91e970e55', 'msg_type': 'comm_msg', 'session': 'e8845a06-cb7d-41e1-bf48-372172e275ed', 'username': '6b58c396-60d8-4f33-b913-49b4b6a7dd8b', 'version': '5.2'}, 'msg_id': 'c69fc5a6-2980-4771-8f1c-cee91e970e55', 'msg_type': 'comm_msg', 'parent_header': {}, 'metadata': {}, 'content': {'comm_id': '3f87ce24a0f245649f5c5b88bf4b55e9', 'data': {'method': 'update', 'state': {'value': True}, 'buffer_paths': []}}, 'buffers': []})\n",
      "DEBUG:Comm:handle_msg[48574ec14cea411a8521f93da1875fdd]({'header': {'date': datetime.datetime(2023, 12, 9, 13, 33, 57, 759000, tzinfo=tzutc()), 'msg_id': 'f97db92c-53a8-47a4-8cf5-fbac1f0e0609', 'msg_type': 'comm_msg', 'session': 'e8845a06-cb7d-41e1-bf48-372172e275ed', 'username': '6b58c396-60d8-4f33-b913-49b4b6a7dd8b', 'version': '5.2'}, 'msg_id': 'f97db92c-53a8-47a4-8cf5-fbac1f0e0609', 'msg_type': 'comm_msg', 'parent_header': {}, 'metadata': {}, 'content': {'comm_id': '48574ec14cea411a8521f93da1875fdd', 'data': {'method': 'update', 'state': {'value': True}, 'buffer_paths': []}}, 'buffers': []})\n"
     ]
    }
   ],
   "source": [
    "print(\"Feature Selection\")\n",
    "if cohort_extractor.prediction_task.use_icu:\n",
    "    print(\"Which Features you want to include for cohort?\")\n",
    "    dia_input = widgets.Checkbox(description='Diagnosis')\n",
    "    display(dia_input)\n",
    "    out_input = widgets.Checkbox(description='Output Events')\n",
    "    display(out_input)\n",
    "    chart_input = widgets.Checkbox(description='Chart Events(Labs and Vitals)')\n",
    "    display(chart_input)\n",
    "    proc_input = widgets.Checkbox(description='Procedures')\n",
    "    display(proc_input)\n",
    "    med_input = widgets.Checkbox(description='Medications')\n",
    "    display(med_input)\n",
    "else:\n",
    "    print(\"Which Features you want to include for cohort?\")\n",
    "    dia_input = widgets.Checkbox(description='Diagnosis')\n",
    "    display(dia_input)\n",
    "    lab_input = widgets.Checkbox(description='Labs')\n",
    "    display(lab_input)\n",
    "    proc_input = widgets.Checkbox(description='Procedures')\n",
    "    display(proc_input)\n",
    "    med_input = widgets.Checkbox(description='Medications')\n",
    "    display(med_input)\n",
    "print(\"**Please run below cell to extract selected features**\")"
   ]
  },
  {
   "cell_type": "code",
   "execution_count": 10,
   "metadata": {},
   "outputs": [
    {
     "data": {
      "text/plain": [
       "('cohort_Non-ICU_lenghth_of_stay_3__N18',\n",
       " False,\n",
       " True,\n",
       " True,\n",
       " False,\n",
       " True,\n",
       " False,\n",
       " True)"
      ]
     },
     "execution_count": 10,
     "metadata": {},
     "output_type": "execute_result"
    }
   ],
   "source": [
    "(\n",
    "    cohort_extractor.cohort_output,\n",
    "    prediction_task.use_icu,\n",
    "    dia_input.value,\n",
    "    not prediction_task.use_icu and lab_input.value,\n",
    "    prediction_task.use_icu and chart_input.value,\n",
    "    med_input.value,\n",
    "\n",
    "    prediction_task.use_icu and out_input.value,\n",
    "    proc_input.value,\n",
    ")"
   ]
  },
  {
   "cell_type": "code",
   "execution_count": 12,
   "metadata": {},
   "outputs": [
    {
     "name": "stderr",
     "output_type": "stream",
     "text": [
      "INFO:root:[EXTRACTING DIAGNOSIS DATA]\n",
      "INFO:root:[SUCCESSFULLY SAVED DIAGNOSES DATA]\n",
      "INFO:root:[EXTRACTING PROCEDURES DATA]\n",
      "INFO:root: # Unique ICD9 Procedures:40\n",
      "INFO:root: # Unique ICD10 Procedures:77\n",
      "INFO:root:\n",
      "Value counts of each ICD version:\n",
      " icd_version\n",
      "10    132\n",
      "9      64\n",
      "Name: count, dtype: int64\n",
      "INFO:root:# Admissions:47\n",
      "INFO:root:Total number of rows: 196\n",
      "INFO:root:[SUCCESSFULLY SAVED PROCEDURES DATA]\n",
      "INFO:root:[EXTRACTING MEDICATIONS DATA]\n",
      "INFO:root:Number of unique types of drugs: 384\n",
      "INFO:root:Number of unique type of drug after grouping: 235\n",
      "INFO:root:Number of admissions: 68\n",
      "INFO:root:Total number of rows: 5612\n",
      "INFO:root:[SUCCESSFULLY SAVED MEDICATIONS DATA]\n",
      "INFO:root:[EXTRACTING LABS DATA]\n",
      "1it [00:01,  1.39s/it]\n",
      "INFO:root:[SUCCESSFULLY SAVED LABS DATA]\n"
     ]
    }
   ],
   "source": [
    "feature_extractor= FeatureExtractor(\n",
    "    cohort_output=cohort_extractor.cohort_output,\n",
    "    use_icu=prediction_task.use_icu,\n",
    "    for_diagnoses=dia_input.value,\n",
    "    for_labs= not prediction_task.use_icu and lab_input.value,\n",
    "    for_output_events= prediction_task.use_icu and out_input.value,\n",
    "    for_chart_events=prediction_task.use_icu and chart_input.value,\n",
    "    for_procedures=proc_input.value,\n",
    "    for_medications= med_input.value,\n",
    ")\n",
    "\n",
    "features = feature_extractor.save_features()"
   ]
  },
  {
   "cell_type": "markdown",
   "metadata": {},
   "source": [
    "## 3. CLINICAL GROUPING\n",
    "Grouping medical codes will reduce dimensional space of features.\n",
    "\n",
    "Default options selected below will group medical codes to reduce feature dimension space.\n"
   ]
  },
  {
   "cell_type": "code",
   "execution_count": 13,
   "metadata": {},
   "outputs": [
    {
     "name": "stdout",
     "output_type": "stream",
     "text": [
      "Do you want to group ICD 10 DIAG codes ?\n"
     ]
    },
    {
     "data": {
      "application/vnd.jupyter.widget-view+json": {
       "model_id": "2fcb0eb56a85420bb8e4de68e5fa9e89",
       "version_major": 2,
       "version_minor": 0
      },
      "text/plain": [
       "RadioButtons(index=2, layout=Layout(width='100%'), options=('Keep both ICD-9 and ICD-10 codes', 'Convert ICD-9…"
      ]
     },
     "metadata": {},
     "output_type": "display_data"
    },
    {
     "name": "stdout",
     "output_type": "stream",
     "text": [
      "Do you want to group Medication codes to use Non propietary names?\n"
     ]
    },
    {
     "data": {
      "application/vnd.jupyter.widget-view+json": {
       "model_id": "f32dd685dc4b45d2855bfc3640a0a4c0",
       "version_major": 2,
       "version_minor": 0
      },
      "text/plain": [
       "RadioButtons(layout=Layout(width='100%'), options=('Yes', 'No'), value='Yes')"
      ]
     },
     "metadata": {},
     "output_type": "display_data"
    },
    {
     "name": "stdout",
     "output_type": "stream",
     "text": [
      "Which ICD codes for Procedures you want to keep in data?\n"
     ]
    },
    {
     "data": {
      "application/vnd.jupyter.widget-view+json": {
       "model_id": "e466e666a91445dc90abde9e833a7926",
       "version_major": 2,
       "version_minor": 0
      },
      "text/plain": [
       "RadioButtons(index=1, layout=Layout(width='100%'), options=('ICD-9 and ICD-10', 'ICD-10'), value='ICD-10')"
      ]
     },
     "metadata": {},
     "output_type": "display_data"
    },
    {
     "name": "stdout",
     "output_type": "stream",
     "text": [
      "**Please run below cell to perform feature preprocessing**\n"
     ]
    },
    {
     "name": "stderr",
     "output_type": "stream",
     "text": [
      "DEBUG:Comm:handle_msg[2fcb0eb56a85420bb8e4de68e5fa9e89]({'header': {'date': datetime.datetime(2023, 12, 9, 13, 34, 22, 972000, tzinfo=tzutc()), 'msg_id': 'e9e4fe3e-034f-483b-a117-87a52d72749a', 'msg_type': 'comm_msg', 'session': 'e8845a06-cb7d-41e1-bf48-372172e275ed', 'username': '6b58c396-60d8-4f33-b913-49b4b6a7dd8b', 'version': '5.2'}, 'msg_id': 'e9e4fe3e-034f-483b-a117-87a52d72749a', 'msg_type': 'comm_msg', 'parent_header': {}, 'metadata': {}, 'content': {'comm_id': '2fcb0eb56a85420bb8e4de68e5fa9e89', 'data': {'method': 'update', 'state': {'index': 1}, 'buffer_paths': []}}, 'buffers': []})\n",
      "DEBUG:Comm:handle_msg[f32dd685dc4b45d2855bfc3640a0a4c0]({'header': {'date': datetime.datetime(2023, 12, 9, 13, 34, 28, 107000, tzinfo=tzutc()), 'msg_id': '48a3b1d0-ce9e-4cab-9f18-ae3e7c29904d', 'msg_type': 'comm_msg', 'session': 'e8845a06-cb7d-41e1-bf48-372172e275ed', 'username': '6b58c396-60d8-4f33-b913-49b4b6a7dd8b', 'version': '5.2'}, 'msg_id': '48a3b1d0-ce9e-4cab-9f18-ae3e7c29904d', 'msg_type': 'comm_msg', 'parent_header': {}, 'metadata': {}, 'content': {'comm_id': 'f32dd685dc4b45d2855bfc3640a0a4c0', 'data': {'method': 'update', 'state': {'index': 1}, 'buffer_paths': []}}, 'buffers': []})\n",
      "DEBUG:Comm:handle_msg[f32dd685dc4b45d2855bfc3640a0a4c0]({'header': {'date': datetime.datetime(2023, 12, 9, 13, 34, 30, 63000, tzinfo=tzutc()), 'msg_id': '158f1df8-6934-4722-8832-844bb0898568', 'msg_type': 'comm_msg', 'session': 'e8845a06-cb7d-41e1-bf48-372172e275ed', 'username': '6b58c396-60d8-4f33-b913-49b4b6a7dd8b', 'version': '5.2'}, 'msg_id': '158f1df8-6934-4722-8832-844bb0898568', 'msg_type': 'comm_msg', 'parent_header': {}, 'metadata': {}, 'content': {'comm_id': 'f32dd685dc4b45d2855bfc3640a0a4c0', 'data': {'method': 'update', 'state': {'index': 0}, 'buffer_paths': []}}, 'buffers': []})\n",
      "DEBUG:Comm:handle_msg[e466e666a91445dc90abde9e833a7926]({'header': {'date': datetime.datetime(2023, 12, 9, 13, 34, 30, 956000, tzinfo=tzutc()), 'msg_id': '4ec7af24-095e-451c-bf4e-68676b962e5b', 'msg_type': 'comm_msg', 'session': 'e8845a06-cb7d-41e1-bf48-372172e275ed', 'username': '6b58c396-60d8-4f33-b913-49b4b6a7dd8b', 'version': '5.2'}, 'msg_id': '4ec7af24-095e-451c-bf4e-68676b962e5b', 'msg_type': 'comm_msg', 'parent_header': {}, 'metadata': {}, 'content': {'comm_id': 'e466e666a91445dc90abde9e833a7926', 'data': {'method': 'update', 'state': {'index': 0}, 'buffer_paths': []}}, 'buffers': []})\n"
     ]
    }
   ],
   "source": [
    "if feature_extractor.for_diagnoses:\n",
    "    print(\"Do you want to group ICD 10 DIAG codes ?\")\n",
    "    group_dia_icd_input = widgets.RadioButtons(options=['Keep both ICD-9 and ICD-10 codes','Convert ICD-9 to ICD-10 codes','Convert ICD-9 to ICD-10 and group ICD-10 codes'],value='Convert ICD-9 to ICD-10 and group ICD-10 codes',layout={'width': '100%'})\n",
    "    display(group_dia_icd_input)   \n",
    "\n",
    "if not prediction_task.use_icu:\n",
    "    if feature_extractor.for_medications:\n",
    "        print(\"Do you want to group Medication codes to use Non propietary names?\")\n",
    "        group_med_code_input = widgets.RadioButtons(options=['Yes','No'],value='Yes',layout={'width': '100%'})\n",
    "        display(group_med_code_input)\n",
    "    if feature_extractor.for_procedures:\n",
    "        print(\"Which ICD codes for Procedures you want to keep in data?\")\n",
    "        group_proc_icd_input = widgets.RadioButtons(options=['ICD-9 and ICD-10','ICD-10'],value='ICD-10',layout={'width': '100%'})\n",
    "        display(group_proc_icd_input)\n",
    "print(\"**Please run below cell to perform feature preprocessing**\")"
   ]
  },
  {
   "cell_type": "code",
   "execution_count": 14,
   "metadata": {},
   "outputs": [],
   "source": [
    "from pipeline.feature.diagnoses import IcdGroupOption\n",
    "\n",
    "group_diag_icd = IcdGroupOption.KEEP\n",
    "if feature_extractor.for_diagnoses:\n",
    "    if group_dia_icd_input.value == \"Keep both ICD-9 and ICD-10 codes\":\n",
    "        group_dia_icd_input = IcdGroupOption.KEEP\n",
    "    elif group_dia_icd_input.value == \"Convert ICD-9 to ICD-10 codes\":\n",
    "        group_dia_icd_input = IcdGroupOption.CONVERT\n",
    "    elif group_dia_icd_input.value == \"Convert ICD-9 to ICD-10 and group ICD-10 codes\":\n",
    "        group_dia_icd_input = IcdGroupOption.GROUP\n",
    "\n",
    "\n",
    "group_med_code = feature_extractor.for_medications and (not prediction_task.use_icu) and (group_med_code_input.value==\"Yes\")\n",
    "keep_proc_icd9 =  prediction_task.use_icu or not(feature_extractor.for_procedures and (group_proc_icd_input.value==\"ICD-10\"))"
   ]
  },
  {
   "cell_type": "code",
   "execution_count": 15,
   "metadata": {},
   "outputs": [
    {
     "data": {
      "text/plain": [
       "(<IcdGroupOption.KEEP: 'Keep both ICD-9 and ICD-10 codes'>,\n",
       " True,\n",
       " True,\n",
       " False,\n",
       " False,\n",
       " False,\n",
       " False)"
      ]
     },
     "execution_count": 15,
     "metadata": {},
     "output_type": "execute_result"
    }
   ],
   "source": [
    "(group_diag_icd, \n",
    "group_med_code,\n",
    "keep_proc_icd9,\n",
    "False,\n",
    "False,\n",
    "False,\n",
    "False,\n",
    ")"
   ]
  },
  {
   "cell_type": "code",
   "execution_count": 16,
   "metadata": {},
   "outputs": [
    {
     "name": "stderr",
     "output_type": "stream",
     "text": [
      "INFO:root:[PROCESSING DIAGNOSIS DATA]\n",
      "INFO:root:Total number of rows: 1650\n",
      "INFO:root:[SUCCESSFULLY SAVED DIAGNOSES DATA]\n",
      "INFO:root:[PROCESSING MEDICATIONS DATA]\n",
      "INFO:root:Total number of rows: 5612\n",
      "INFO:root:[SUCCESSFULLY SAVED MEDICATIONS DATA]\n",
      "INFO:root:[PROCESSING PROCEDURES DATA]\n",
      "INFO:root:Total number of rows: 196\n",
      "INFO:root:[SUCCESSFULLY SAVED PROCEDURES DATA]\n"
     ]
    }
   ],
   "source": [
    "from pipeline.features_preprocessor import FeaturePreprocessor\n",
    "feat_preproc = FeaturePreprocessor(feature_extractor=feature_extractor, \n",
    "                                   group_diag_icd=group_diag_icd, \n",
    "                                   group_med_code=group_med_code,\n",
    "                                   keep_proc_icd9=keep_proc_icd9,\n",
    "                                   clean_chart=False,\n",
    "                                   impute_outlier_chart=False,\n",
    "                                   clean_labs=False,\n",
    "                                   impute_labs=False,\n",
    "                                   )\n",
    "preproc = feat_preproc.preprocess_no_event_features()"
   ]
  },
  {
   "cell_type": "code",
   "execution_count": 23,
   "metadata": {},
   "outputs": [
    {
     "data": {
      "text/plain": [
       "(<IcdGroupOption.KEEP: 'Keep both ICD-9 and ICD-10 codes'>,\n",
       " True,\n",
       " True,\n",
       " False,\n",
       " False,\n",
       " False,\n",
       " False)"
      ]
     },
     "execution_count": 23,
     "metadata": {},
     "output_type": "execute_result"
    }
   ],
   "source": [
    "(group_diag_icd, group_med_code,keep_proc_icd9,False,False,False,False,\n",
    "                                   )"
   ]
  },
  {
   "cell_type": "markdown",
   "metadata": {},
   "source": [
    "### 4. SUMMARY OF FEATURES\n",
    "\n",
    "This step will generate summary of all features extracted so far.<br>\n",
    "It will save summary files in **./preproc_data/summary/**<br>\n",
    "- These files provide summary about **mean frequency** of medical codes per admission.<br>\n",
    "- It also provides **total occurrence count** of each medical code.<br>\n",
    "- For labs and chart events it will also provide <br>**missing %** which tells how many rows for a certain medical code has missing value.\n",
    "\n",
    "Please use this information to further refine your cohort by selecting <br>which medical codes in each feature you want to keep and <br>which codes you would like to remove for downstream analysis tasks.\n",
    "\n",
    "**Please run below cell to generate summary files**"
   ]
  },
  {
   "cell_type": "code",
   "execution_count": 13,
   "metadata": {},
   "outputs": [],
   "source": [
    "summaries = feat_preproc.save_summaries()"
   ]
  },
  {
   "cell_type": "markdown",
   "metadata": {},
   "source": [
    "## 5. Feature Selection\n",
    "\n",
    "based on the files generated in previous step and other infromation gathered by you,<br>\n",
    "Please select which medical codes you want to include in this study.\n",
    "\n",
    "Please run below cell to to select options for which features you want to perform feature selection.\n",
    "\n",
    "- Select **Yes** if you want to select a subset of medical codes for that feature and<br> **edit** the corresponding feature file for it.\n",
    "- Select **No** if you want to keep all the codes in a feature."
   ]
  },
  {
   "cell_type": "code",
   "execution_count": 14,
   "metadata": {},
   "outputs": [
    {
     "name": "stdout",
     "output_type": "stream",
     "text": [
      "Do you want to do Feature Selection for Diagnoses \n",
      " (If yes, please edit list of codes in ./data/summary/diag_features.csv)\n"
     ]
    },
    {
     "data": {
      "application/vnd.jupyter.widget-view+json": {
       "model_id": "3b05d90979a04ba3a889214bcb75ff17",
       "version_major": 2,
       "version_minor": 0
      },
      "text/plain": [
       "RadioButtons(index=1, options=('Yes', 'No'), value='No')"
      ]
     },
     "metadata": {},
     "output_type": "display_data"
    },
    {
     "name": "stdout",
     "output_type": "stream",
     "text": [
      "Do you want to do Feature Selection for Medications \n",
      " (If yes, please edit list of codes in ./data/summary/med_features.csv)\n"
     ]
    },
    {
     "data": {
      "application/vnd.jupyter.widget-view+json": {
       "model_id": "d979a2de7cc847d5b12c73bc655e705c",
       "version_major": 2,
       "version_minor": 0
      },
      "text/plain": [
       "RadioButtons(index=1, options=('Yes', 'No'), value='No')"
      ]
     },
     "metadata": {},
     "output_type": "display_data"
    },
    {
     "name": "stdout",
     "output_type": "stream",
     "text": [
      "Do you want to do Feature Selection for Procedures \n",
      " (If yes, please edit list of codes in ./data/summary/proc_features.csv)\n"
     ]
    },
    {
     "data": {
      "application/vnd.jupyter.widget-view+json": {
       "model_id": "8ae23ac597e14fd7b5e6ca8fc2ba4ae1",
       "version_major": 2,
       "version_minor": 0
      },
      "text/plain": [
       "RadioButtons(index=1, options=('Yes', 'No'), value='No')"
      ]
     },
     "metadata": {},
     "output_type": "display_data"
    },
    {
     "name": "stdout",
     "output_type": "stream",
     "text": [
      "Do you want to do Feature Selection for Labs \n",
      " (If yes, please edit list of codes in ./data/summary/lab_features.csv)\n"
     ]
    },
    {
     "data": {
      "application/vnd.jupyter.widget-view+json": {
       "model_id": "68bad8e0f7e74842bda4cb0b1af136b1",
       "version_major": 2,
       "version_minor": 0
      },
      "text/plain": [
       "RadioButtons(index=1, options=('Yes', 'No'), value='No')"
      ]
     },
     "metadata": {},
     "output_type": "display_data"
    },
    {
     "name": "stderr",
     "output_type": "stream",
     "text": [
      "DEBUG:Comm:handle_msg[3b05d90979a04ba3a889214bcb75ff17]({'header': {'date': datetime.datetime(2023, 12, 7, 15, 6, 50, 639000, tzinfo=tzutc()), 'msg_id': 'f4d4c84e-a92f-4fb7-a6ae-88708b951874', 'msg_type': 'comm_msg', 'session': 'e8845a06-cb7d-41e1-bf48-372172e275ed', 'username': '6b58c396-60d8-4f33-b913-49b4b6a7dd8b', 'version': '5.2'}, 'msg_id': 'f4d4c84e-a92f-4fb7-a6ae-88708b951874', 'msg_type': 'comm_msg', 'parent_header': {}, 'metadata': {}, 'content': {'comm_id': '3b05d90979a04ba3a889214bcb75ff17', 'data': {'method': 'update', 'state': {'index': 0}, 'buffer_paths': []}}, 'buffers': []})\n",
      "DEBUG:Comm:handle_msg[d979a2de7cc847d5b12c73bc655e705c]({'header': {'date': datetime.datetime(2023, 12, 7, 15, 6, 51, 345000, tzinfo=tzutc()), 'msg_id': '9032e0bc-6662-4d25-bb27-c3e76ebcaf26', 'msg_type': 'comm_msg', 'session': 'e8845a06-cb7d-41e1-bf48-372172e275ed', 'username': '6b58c396-60d8-4f33-b913-49b4b6a7dd8b', 'version': '5.2'}, 'msg_id': '9032e0bc-6662-4d25-bb27-c3e76ebcaf26', 'msg_type': 'comm_msg', 'parent_header': {}, 'metadata': {}, 'content': {'comm_id': 'd979a2de7cc847d5b12c73bc655e705c', 'data': {'method': 'update', 'state': {'index': 0}, 'buffer_paths': []}}, 'buffers': []})\n",
      "DEBUG:Comm:handle_msg[8ae23ac597e14fd7b5e6ca8fc2ba4ae1]({'header': {'date': datetime.datetime(2023, 12, 7, 15, 6, 52, 589000, tzinfo=tzutc()), 'msg_id': '60903767-8504-4046-816e-181fb6d858b9', 'msg_type': 'comm_msg', 'session': 'e8845a06-cb7d-41e1-bf48-372172e275ed', 'username': '6b58c396-60d8-4f33-b913-49b4b6a7dd8b', 'version': '5.2'}, 'msg_id': '60903767-8504-4046-816e-181fb6d858b9', 'msg_type': 'comm_msg', 'parent_header': {}, 'metadata': {}, 'content': {'comm_id': '8ae23ac597e14fd7b5e6ca8fc2ba4ae1', 'data': {'method': 'update', 'state': {'index': 0}, 'buffer_paths': []}}, 'buffers': []})\n",
      "DEBUG:Comm:handle_msg[68bad8e0f7e74842bda4cb0b1af136b1]({'header': {'date': datetime.datetime(2023, 12, 7, 15, 6, 53, 225000, tzinfo=tzutc()), 'msg_id': 'c6bbabb3-a0b2-47cd-b0b8-d0840815d2b4', 'msg_type': 'comm_msg', 'session': 'e8845a06-cb7d-41e1-bf48-372172e275ed', 'username': '6b58c396-60d8-4f33-b913-49b4b6a7dd8b', 'version': '5.2'}, 'msg_id': 'c6bbabb3-a0b2-47cd-b0b8-d0840815d2b4', 'msg_type': 'comm_msg', 'parent_header': {}, 'metadata': {}, 'content': {'comm_id': '68bad8e0f7e74842bda4cb0b1af136b1', 'data': {'method': 'update', 'state': {'index': 0}, 'buffer_paths': []}}, 'buffers': []})\n"
     ]
    }
   ],
   "source": [
    "if feature_extractor.for_diagnoses:\n",
    "    print(\"Do you want to do Feature Selection for Diagnoses \\n (If yes, please edit list of codes in ./data/summary/diag_features.csv)\")\n",
    "    select_dia_input = widgets.RadioButtons(options=['Yes','No'],value='No')\n",
    "    display(select_dia_input)   \n",
    "if feature_extractor.for_medications:\n",
    "    print(\"Do you want to do Feature Selection for Medications \\n (If yes, please edit list of codes in ./data/summary/med_features.csv)\")\n",
    "    select_med_input = widgets.RadioButtons(options=['Yes','No'],value='No')\n",
    "    display(select_med_input)   \n",
    "if feature_extractor.for_procedures:\n",
    "    print(\"Do you want to do Feature Selection for Procedures \\n (If yes, please edit list of codes in ./data/summary/proc_features.csv)\")\n",
    "    select_proc_input = widgets.RadioButtons(options=['Yes','No'],value='No')\n",
    "    display(select_proc_input)   \n",
    "if prediction_task.use_icu and feature_extractor.for_output_events:\n",
    "    print(\"Do you want to do Feature Selection for Output event \\n (If yes, please edit list of codes in ./data/summary/out_features.csv)\")\n",
    "    select_out_input = widgets.RadioButtons(options=['Yes','No'],value='No')\n",
    "    display(select_out_input)  \n",
    "if prediction_task.use_icu and feature_extractor.for_chart_events:\n",
    "    print(\"Do you want to do Feature Selection for Chart events \\n (If yes, please edit list of codes in ./data/summary/chart_features.csv)\")\n",
    "    select_chart_input = widgets.RadioButtons(options=['Yes','No'],value='No')\n",
    "    display(select_chart_input)  \n",
    "if not(prediction_task.use_icu) and feature_extractor.for_labs:\n",
    "    print(\"Do you want to do Feature Selection for Labs \\n (If yes, please edit list of codes in ./data/summary/lab_features.csv)\")\n",
    "    select_lab_input = widgets.RadioButtons(options=['Yes','No'],value='No')\n",
    "    display(select_lab_input)  "
   ]
  },
  {
   "cell_type": "code",
   "execution_count": 24,
   "metadata": {},
   "outputs": [
    {
     "data": {
      "text/plain": [
       "(False, True, True, True, True, False, False)"
      ]
     },
     "execution_count": 24,
     "metadata": {},
     "output_type": "execute_result"
    }
   ],
   "source": [
    "(prediction_task.use_icu, select_diag, select_med,select_proc, select_lab,select_chart, select_out)"
   ]
  },
  {
   "cell_type": "code",
   "execution_count": 15,
   "metadata": {},
   "outputs": [],
   "source": [
    "from pipeline.feature_selector import FeatureSelector\n",
    "\n",
    "\n",
    "select_diag=select_dia_input.value == 'Yes' if feature_extractor.for_diagnoses else False\n",
    "select_med=select_med_input.value == 'Yes' if feature_extractor.for_medications else False\n",
    "select_proc=select_proc_input.value == 'Yes' if feature_extractor.for_procedures else False\n",
    "select_out=select_out_input.value == 'Yes' if prediction_task.use_icu and feature_extractor.for_output_events else False\n",
    "select_chart=select_chart_input.value == 'Yes' if prediction_task.use_icu and feature_extractor.for_chart_events else False\n",
    "select_lab=select_lab_input.value == 'Yes' if not (prediction_task.use_icu) and feature_extractor.for_labs else False\n",
    "\n",
    "feature_selector = FeatureSelector(prediction_task.use_icu, select_diag, select_med,select_proc, select_lab,select_chart, select_out)"
   ]
  },
  {
   "cell_type": "markdown",
   "metadata": {},
   "source": [
    "## 6. CLEANING OF FEATURES\n",
    "Below you will have option to to clean lab and chart events by performing outlier removal and unit conversion.\n",
    "\n",
    "Outlier removal is performed to remove values higher than selected **right threshold** percentile and lower than selected **left threshold** percentile among all values for each itemid. \n",
    "\n",
    "**Please run below cell to select preprocessing for diferent features**"
   ]
  },
  {
   "cell_type": "code",
   "execution_count": 39,
   "metadata": {},
   "outputs": [
    {
     "name": "stdout",
     "output_type": "stream",
     "text": [
      "Outlier removal in values of lab events ?\n"
     ]
    },
    {
     "data": {
      "application/vnd.jupyter.widget-view+json": {
       "model_id": "b0d193498fca46aabf1cec770710fdef",
       "version_major": 2,
       "version_minor": 0
      },
      "text/plain": [
       "RadioButtons(layout=Layout(height='40px', width='100%'), options=('No outlier detection', 'Impute Outlier (def…"
      ]
     },
     "metadata": {},
     "output_type": "display_data"
    },
    {
     "data": {
      "application/vnd.jupyter.widget-view+json": {
       "model_id": "3d7e7e48ee3f46da806715936a68fd10",
       "version_major": 2,
       "version_minor": 0
      },
      "text/plain": [
       "HBox(children=(Label(value='Right Outlier Threshold', layout=Layout(width='150px')), IntSlider(value=98, layou…"
      ]
     },
     "metadata": {},
     "output_type": "display_data"
    },
    {
     "data": {
      "application/vnd.jupyter.widget-view+json": {
       "model_id": "4b40e98f9f6a4bea92c2271212559098",
       "version_major": 2,
       "version_minor": 0
      },
      "text/plain": [
       "HBox(children=(Label(value='Left Outlier Threshold', layout=Layout(width='150px')), IntSlider(value=0, layout=…"
      ]
     },
     "metadata": {},
     "output_type": "display_data"
    },
    {
     "name": "stderr",
     "output_type": "stream",
     "text": [
      "DEBUG:Comm:handle_msg[b0d193498fca46aabf1cec770710fdef]({'header': {'date': datetime.datetime(2023, 12, 7, 15, 37, 40, 186000, tzinfo=tzutc()), 'msg_id': '09b69f4b-6c49-437e-8a8d-217dab90e30f', 'msg_type': 'comm_msg', 'session': 'e8845a06-cb7d-41e1-bf48-372172e275ed', 'username': '6b58c396-60d8-4f33-b913-49b4b6a7dd8b', 'version': '5.2'}, 'msg_id': '09b69f4b-6c49-437e-8a8d-217dab90e30f', 'msg_type': 'comm_msg', 'parent_header': {}, 'metadata': {}, 'content': {'comm_id': 'b0d193498fca46aabf1cec770710fdef', 'data': {'method': 'update', 'state': {'index': 1}, 'buffer_paths': []}}, 'buffers': []})\n"
     ]
    }
   ],
   "source": [
    "if (prediction_task.use_icu and select_chart) or (not(prediction_task.use_icu) and select_lab):\n",
    "    event_name = \"chart\" if prediction_task.use_icu else \"lab\"\n",
    "    print(f\"Outlier removal in values of {event_name} events ?\")\n",
    "    layout = widgets.Layout(width='100%', height='40px') #set width and height\n",
    "\n",
    "    outlier_input = widgets.RadioButtons(options=['No outlier detection','Impute Outlier (default:98)','Remove outliers (default:98)'],value='No outlier detection',layout=layout)\n",
    "    display(outlier_input)\n",
    "    right_outlier=widgets.IntSlider(\n",
    "    value=98,\n",
    "    min=90,\n",
    "    max=99,\n",
    "    step=1,\n",
    "    disabled=False,layout={'width': '100%'}\n",
    "    )\n",
    "    left_outlier=widgets.IntSlider(\n",
    "    value=0,\n",
    "    min=0,\n",
    "    max=10,\n",
    "    step=1,\n",
    "    disabled=False,layout={'width': '100%'}\n",
    "    )\n",
    "    display(widgets.HBox([widgets.Label('Right Outlier Threshold',layout={'width': '150px'}), right_outlier]))\n",
    "    display(widgets.HBox([widgets.Label('Left Outlier Threshold',layout={'width': '150px'}), left_outlier]))\n"
   ]
  },
  {
   "cell_type": "code",
   "execution_count": 27,
   "metadata": {},
   "outputs": [
    {
     "data": {
      "text/plain": [
       "True"
      ]
     },
     "execution_count": 27,
     "metadata": {},
     "output_type": "execute_result"
    }
   ],
   "source": [
    "not(prediction_task.use_icu) and select_lab"
   ]
  },
  {
   "cell_type": "code",
   "execution_count": 63,
   "metadata": {},
   "outputs": [
    {
     "data": {
      "text/plain": [
       "98"
      ]
     },
     "execution_count": 63,
     "metadata": {},
     "output_type": "execute_result"
    }
   ],
   "source": [
    "right_outlier.value"
   ]
  },
  {
   "cell_type": "code",
   "execution_count": 40,
   "metadata": {},
   "outputs": [],
   "source": [
    "right_thresh=100\n",
    "left_thresh = 0\n",
    "clean_chart = False\n",
    "clean_lab = False\n",
    "if (prediction_task.use_icu and select_chart):\n",
    "    clean_chart=outlier_input.value!='No outlier detection'\n",
    "    right_thresh = right_outlier.value\n",
    "    left_thresh = left_outlier.value\n",
    "if (not(prediction_task.use_icu) and select_lab):\n",
    "    clean_lab=outlier_input.value!='No outlier detection'\n",
    "    right_thresh = right_outlier.value\n",
    "    left_thresh = left_outlier.value\n",
    "\n"
   ]
  },
  {
   "cell_type": "code",
   "execution_count": 41,
   "metadata": {},
   "outputs": [
    {
     "data": {
      "text/plain": [
       "(None, False, False, False, False, True, True, 98, 0)"
      ]
     },
     "execution_count": 41,
     "metadata": {},
     "output_type": "execute_result"
    }
   ],
   "source": [
    "(None,False,False,clean_chart,clean_chart,clean_lab, clean_lab,right_thresh,left_thresh)"
   ]
  },
  {
   "cell_type": "code",
   "execution_count": 42,
   "metadata": {},
   "outputs": [
    {
     "name": "stdout",
     "output_type": "stream",
     "text": [
      "[PROCESSING LABS DATA]\n",
      "Total number of rows 22029\n",
      "[SUCCESSFULLY SAVED LABS DATA]\n"
     ]
    }
   ],
   "source": [
    "feat_preproc = FeaturePreprocessor(feature_extractor=feature_extractor, \n",
    "                                   group_diag_icd=None,\n",
    "                                   group_med_code=False,\n",
    "                                   keep_proc_icd9=False,\n",
    "                            \n",
    "\n",
    "                                   clean_chart=clean_chart,\n",
    "                                   impute_outlier_chart = clean_chart,\n",
    "                                   clean_labs=clean_lab,\n",
    "                                   impute_labs = clean_lab,\n",
    "\n",
    "                                   thresh = right_thresh,\n",
    "                                   left_thresh=left_thresh\n",
    "                                   )\n",
    "preproc = feat_preproc.preproc_events_features()"
   ]
  },
  {
   "cell_type": "markdown",
   "metadata": {},
   "source": [
    "## 7. Time-Series Representation\n",
    "In this section, please choose how you want to process and represent time-series data.\n",
    "\n",
    "- First option is to select the length of time-series data you want to include for this study. (Default is 72 hours)\n",
    "\n",
    "- Second option is to select bucket size which tells in what size time windows you want to divide your time-series.<br>\n",
    "For example, if you select **2** bucket size, it wil aggregate data for every 2 hours and <br>a time-series of length 24 hours will be represented as time-series with 12 time-windows <br>where data for every 2 hours is agggregated from original raw time-series.\n",
    "\n",
    "During this step, we will also save the time-series data in data dictionaries in the format that can be directly used for following deep learning analysis.\n",
    "\n",
    "### Imputation\n",
    "You can also choose if you want to impute lab/chart values. The imputation will be done by froward fill and mean or median imputation.<br>\n",
    "Values will be forward fill first and if no value exists for that admission we will use mean or median value for the patient.\n",
    "\n",
    "The data dictionaries will be saved in **./data/dict/**\n",
    "\n",
    "Please refer the readme to know the structure of data dictionaries.\n"
   ]
  },
  {
   "cell_type": "code",
   "execution_count": 44,
   "metadata": {},
   "outputs": [
    {
     "data": {
      "text/plain": [
       "<TargetType.READMISSION: 'Readmission'>"
      ]
     },
     "execution_count": 44,
     "metadata": {},
     "output_type": "execute_result"
    }
   ],
   "source": [
    "prediction_task.target_type"
   ]
  },
  {
   "cell_type": "code",
   "execution_count": 46,
   "metadata": {},
   "outputs": [
    {
     "name": "stdout",
     "output_type": "stream",
     "text": [
      "=======Time-series Data Represenation=======\n",
      "Length of data to be included for time-series prediction ?\n"
     ]
    },
    {
     "data": {
      "application/vnd.jupyter.widget-view+json": {
       "model_id": "8677d905aedd4b2e8bdf4efa957fff87",
       "version_major": 2,
       "version_minor": 0
      },
      "text/plain": [
       "RadioButtons(options=('Last 72 hours', 'Last 48 hours', 'Last 24 hours', 'Custom'), value='Last 72 hours')"
      ]
     },
     "metadata": {},
     "output_type": "display_data"
    },
    {
     "data": {
      "application/vnd.jupyter.widget-view+json": {
       "model_id": "4fc93ffe8b764c4c91f0b5cbbb8db96e",
       "version_major": 2,
       "version_minor": 0
      },
      "text/plain": [
       "HBox(children=(Label(value='Last (in hours):', layout=Layout(width='150px')), IntSlider(value=72, description=…"
      ]
     },
     "metadata": {},
     "output_type": "display_data"
    },
    {
     "name": "stdout",
     "output_type": "stream",
     "text": [
      "What time bucket size you want to choose ?\n"
     ]
    },
    {
     "data": {
      "application/vnd.jupyter.widget-view+json": {
       "model_id": "9a3229d4f81c4ffbb85e7f57957988c8",
       "version_major": 2,
       "version_minor": 0
      },
      "text/plain": [
       "RadioButtons(options=('1 hour', '2 hour', '3 hour', '4 hour', '5 hour', 'Custom'), value='1 hour')"
      ]
     },
     "metadata": {},
     "output_type": "display_data"
    },
    {
     "data": {
      "application/vnd.jupyter.widget-view+json": {
       "model_id": "4a6a416ca8f2442ea67a62e2fabc0252",
       "version_major": 2,
       "version_minor": 0
      },
      "text/plain": [
       "HBox(children=(Label(value='Bucket Size (in hours):', layout=Layout(width='150px')), IntSlider(value=1, max=6,…"
      ]
     },
     "metadata": {},
     "output_type": "display_data"
    },
    {
     "name": "stdout",
     "output_type": "stream",
     "text": [
      "Do you want to forward fill and mean or median impute lab/chart values to form continuous data signal?\n"
     ]
    },
    {
     "data": {
      "application/vnd.jupyter.widget-view+json": {
       "model_id": "2ff3d4f2538f40ebaf7949184d7fc845",
       "version_major": 2,
       "version_minor": 0
      },
      "text/plain": [
       "RadioButtons(options=('No Imputation', 'forward fill and mean', 'forward fill and median'), value='No Imputati…"
      ]
     },
     "metadata": {},
     "output_type": "display_data"
    },
    {
     "name": "stdout",
     "output_type": "stream",
     "text": [
      "**Please run below cell to perform time-series represenation and save in data dictionaries**\n"
     ]
    }
   ],
   "source": [
    "print(\"=======Time-series Data Represenation=======\")\n",
    "\n",
    "print(\"Length of data to be included for time-series prediction ?\")\n",
    "if(prediction_task.target_type== TargetType.MORTALITY):\n",
    "    radio_input8 = widgets.RadioButtons(options=['First 72 hours','First 48 hours','First 24 hours','Custom'],value='First 72 hours')\n",
    "    display(radio_input8)\n",
    "    text2=widgets.IntSlider(\n",
    "    value=72,\n",
    "    min=24,\n",
    "    max=72,\n",
    "    step=1,\n",
    "    description='Fisrt',\n",
    "    disabled=False\n",
    "    )\n",
    "    display(widgets.HBox([widgets.Label('Fisrt (in hours):',layout={'width': '150px'}), text2]))\n",
    "elif(prediction_task.target_type== TargetType.READMISSION):\n",
    "    radio_input8 = widgets.RadioButtons(options=['Last 72 hours','Last 48 hours','Last 24 hours','Custom'],value='Last 72 hours')\n",
    "    display(radio_input8)\n",
    "    text2=widgets.IntSlider(\n",
    "    value=72,\n",
    "    min=24,\n",
    "    max=72,\n",
    "    step=1,\n",
    "    description='Last',\n",
    "    disabled=False\n",
    "    )\n",
    "    display(widgets.HBox([widgets.Label('Last (in hours):',layout={'width': '150px'}), text2]))\n",
    "elif(prediction_task.target_type== TargetType.LOS):\n",
    "    radio_input8 = widgets.RadioButtons(options=['First 12 hours','First 24 hours','Custom'],value='First 24 hours')\n",
    "    display(radio_input8)\n",
    "    text2=widgets.IntSlider(\n",
    "    value=72,\n",
    "    min=12,\n",
    "    max=72,\n",
    "    step=1,\n",
    "    description='First',\n",
    "    disabled=False\n",
    "    )\n",
    "    display(widgets.HBox([widgets.Label('Fisrt (in hours):',layout={'width': '150px'}), text2]))\n",
    "    \n",
    "    \n",
    "print(\"What time bucket size you want to choose ?\")\n",
    "radio_input7 = widgets.RadioButtons(options=['1 hour','2 hour','3 hour','4 hour','5 hour','Custom'],value='1 hour')\n",
    "display(radio_input7)\n",
    "text1=widgets.IntSlider(\n",
    "    value=1,\n",
    "    min=1,\n",
    "    max=6,\n",
    "    step=1,\n",
    "    disabled=False\n",
    "    )\n",
    "#display(text1)\n",
    "display(widgets.HBox([widgets.Label('Bucket Size (in hours):',layout={'width': '150px'}), text1]))\n",
    "print(\"Do you want to forward fill and mean or median impute lab/chart values to form continuous data signal?\")\n",
    "radio_impute = widgets.RadioButtons(options=['No Imputation', 'forward fill and mean','forward fill and median'],value='No Imputation')\n",
    "display(radio_impute)   \n",
    "\n",
    "radio_input6 = widgets.RadioButtons(options=['0 hours','2 hours','4 hours','6 hours'],value='0 hours')\n",
    "if(prediction_task.target_type== TargetType.MORTALITY):\n",
    "    print(\"If you have choosen mortality prediction task, then what prediction window length you want to keep?\")\n",
    "    radio_input6 = widgets.RadioButtons(options=['2 hours','4 hours','6 hours','8 hours','Custom'],value='2 hours')\n",
    "    display(radio_input6)\n",
    "    text3=widgets.IntSlider(\n",
    "    value=2,\n",
    "    min=2,\n",
    "    max=8,\n",
    "    step=1,\n",
    "    disabled=False\n",
    "    )\n",
    "    display(widgets.HBox([widgets.Label('Prediction window (in hours)',layout={'width': '180px'}), text3]))\n",
    "print(\"**Please run below cell to perform time-series represenation and save in data dictionaries**\")"
   ]
  },
  {
   "cell_type": "code",
   "execution_count": null,
   "metadata": {},
   "outputs": [],
   "source": [
    "if (radio_input6.value=='Custom'):\n",
    "    predW=int(text3.value)\n",
    "else:\n",
    "    predW=int(radio_input6.value[0].strip())\n",
    "if (radio_input7.value=='Custom'):\n",
    "    bucket=int(text1.value)\n",
    "else:\n",
    "    bucket=int(radio_input7.value[0].strip())\n",
    "if (radio_input8.value=='Custom'):\n",
    "    include=int(text2.value)\n",
    "else:\n",
    "    include=int(radio_input8.value.split()[1])\n",
    "if (radio_impute.value=='forward fill and mean'):\n",
    "    impute='Mean'\n",
    "elif (radio_impute.value=='forward fill and median'):\n",
    "    impute='Median'\n",
    "else:\n",
    "    impute=False\n",
    "\n",
    "# if data_icu:\n",
    "#     gen=data_generation_icu.Generator(cohort_output,data_mort,data_admn,data_los,diag_flag,proc_flag,out_flag,chart_flag,med_flag,impute,include,bucket,predW)\n",
    "#     #gen=data_generation_icu.Generator(cohort_output,data_mort,diag_flag,False,False,chart_flag,False,impute,include,bucket,predW)\n",
    "#     #if chart_flag:\n",
    "#     #    gen=data_generation_icu.Generator(cohort_output,data_mort,False,False,False,chart_flag,False,impute,include,bucket,predW)\n",
    "# else:\n",
    "#     gen=data_generation.Generator(cohort_output,data_mort,data_admn,data_los,diag_flag,lab_flag,proc_flag,med_flag,impute,include,bucket,predW)"
   ]
  },
  {
   "cell_type": "code",
   "execution_count": 50,
   "metadata": {},
   "outputs": [
    {
     "data": {
      "text/plain": [
       "'cohort_Non-ICU_readmission_30_I25'"
      ]
     },
     "execution_count": 50,
     "metadata": {},
     "output_type": "execute_result"
    }
   ],
   "source": [
    "cohort_extractor.cohort_output"
   ]
  },
  {
   "cell_type": "code",
   "execution_count": 51,
   "metadata": {},
   "outputs": [
    {
     "ename": "TypeError",
     "evalue": "cannot convert the series to <class 'int'>",
     "output_type": "error",
     "traceback": [
      "\u001b[1;31m---------------------------------------------------------------------------\u001b[0m",
      "\u001b[1;31mTypeError\u001b[0m                                 Traceback (most recent call last)",
      "\u001b[1;32md:\\Work\\Repos\\MIMIC-IV-Data-Pipeline\\mimic_pipeline.ipynb Cell 42\u001b[0m line \u001b[0;36m4\n\u001b[0;32m      <a href='vscode-notebook-cell:/d%3A/Work/Repos/MIMIC-IV-Data-Pipeline/mimic_pipeline.ipynb#Y102sZmlsZQ%3D%3D?line=0'>1</a>\u001b[0m \u001b[39mfrom\u001b[39;00m \u001b[39mpipeline\u001b[39;00m\u001b[39m.\u001b[39;00m\u001b[39mpreprocessing\u001b[39;00m\u001b[39m.\u001b[39;00m\u001b[39mdata_gen\u001b[39;00m \u001b[39mimport\u001b[39;00m generate_admission_cohort\n\u001b[1;32m----> <a href='vscode-notebook-cell:/d%3A/Work/Repos/MIMIC-IV-Data-Pipeline/mimic_pipeline.ipynb#Y102sZmlsZQ%3D%3D?line=3'>4</a>\u001b[0m cohort \u001b[39m=\u001b[39m generate_admission_cohort(cohort_extractor\u001b[39m.\u001b[39;49mcohort_output)\n",
      "File \u001b[1;32md:\\Work\\Repos\\MIMIC-IV-Data-Pipeline\\pipeline\\preprocessing\\data_gen.py:16\u001b[0m, in \u001b[0;36mgenerate_admission_cohort\u001b[1;34m(cohort_output)\u001b[0m\n\u001b[0;32m     13\u001b[0m \u001b[39mfor\u001b[39;00m col \u001b[39min\u001b[39;00m [CohortHeader\u001b[39m.\u001b[39mADMIT_TIME, CohortHeader\u001b[39m.\u001b[39mDISCH_TIME]:\n\u001b[0;32m     14\u001b[0m     data[col] \u001b[39m=\u001b[39m pd\u001b[39m.\u001b[39mto_datetime(data[col])\n\u001b[0;32m     15\u001b[0m data[CohortHeader\u001b[39m.\u001b[39mLOS] \u001b[39m=\u001b[39m (\n\u001b[1;32m---> 16\u001b[0m     \u001b[39mint\u001b[39;49m(\n\u001b[0;32m     17\u001b[0m         data[CohortHeader\u001b[39m.\u001b[39;49mDISCH_TIME] \u001b[39m-\u001b[39;49m data[CohortHeader\u001b[39m.\u001b[39;49mADMIT_TIME]\n\u001b[0;32m     18\u001b[0m     )\u001b[39m.\u001b[39mdt\u001b[39m.\u001b[39mtotal_seconds()\n\u001b[0;32m     19\u001b[0m     \u001b[39m/\u001b[39m \u001b[39m3600\u001b[39m\n\u001b[0;32m     20\u001b[0m )\n\u001b[0;32m     21\u001b[0m data \u001b[39m=\u001b[39m data[data[CohortHeader\u001b[39m.\u001b[39mLOS] \u001b[39m>\u001b[39m \u001b[39m0\u001b[39m]\n\u001b[0;32m     22\u001b[0m data[CohortHeader\u001b[39m.\u001b[39mAGE] \u001b[39m=\u001b[39m data[CohortHeader\u001b[39m.\u001b[39mAGE]\u001b[39m.\u001b[39mastype(\u001b[39mint\u001b[39m)\n",
      "File \u001b[1;32md:\\Work\\Repos\\MIMIC-IV-Data-Pipeline\\venv\\Lib\\site-packages\\pandas\\core\\series.py:230\u001b[0m, in \u001b[0;36m_coerce_method.<locals>.wrapper\u001b[1;34m(self)\u001b[0m\n\u001b[0;32m    222\u001b[0m     warnings\u001b[39m.\u001b[39mwarn(\n\u001b[0;32m    223\u001b[0m         \u001b[39mf\u001b[39m\u001b[39m\"\u001b[39m\u001b[39mCalling \u001b[39m\u001b[39m{\u001b[39;00mconverter\u001b[39m.\u001b[39m\u001b[39m__name__\u001b[39m\u001b[39m}\u001b[39;00m\u001b[39m on a single element Series is \u001b[39m\u001b[39m\"\u001b[39m\n\u001b[0;32m    224\u001b[0m         \u001b[39m\"\u001b[39m\u001b[39mdeprecated and will raise a TypeError in the future. \u001b[39m\u001b[39m\"\u001b[39m\n\u001b[1;32m   (...)\u001b[0m\n\u001b[0;32m    227\u001b[0m         stacklevel\u001b[39m=\u001b[39mfind_stack_level(),\n\u001b[0;32m    228\u001b[0m     )\n\u001b[0;32m    229\u001b[0m     \u001b[39mreturn\u001b[39;00m converter(\u001b[39mself\u001b[39m\u001b[39m.\u001b[39miloc[\u001b[39m0\u001b[39m])\n\u001b[1;32m--> 230\u001b[0m \u001b[39mraise\u001b[39;00m \u001b[39mTypeError\u001b[39;00m(\u001b[39mf\u001b[39m\u001b[39m\"\u001b[39m\u001b[39mcannot convert the series to \u001b[39m\u001b[39m{\u001b[39;00mconverter\u001b[39m}\u001b[39;00m\u001b[39m\"\u001b[39m)\n",
      "\u001b[1;31mTypeError\u001b[0m: cannot convert the series to <class 'int'>"
     ]
    }
   ],
   "source": [
    "from pipeline.preprocessing.data_gen import generate_admission_cohort\n",
    "\n",
    "\n",
    "cohort = generate_admission_cohort(cohort_extractor.cohort_output)"
   ]
  },
  {
   "cell_type": "code",
   "execution_count": 52,
   "metadata": {},
   "outputs": [],
   "source": [
    "import pandas as pd\n",
    "\n",
    "from pipeline.file_info.preproc.cohort import COHORT_PATH, CohortHeader, NonIcuCohortHeader\n",
    "data = pd.read_csv(\n",
    "    COHORT_PATH / f\"{cohort_extractor.cohort_output}.csv.gz\",\n",
    "    compression=\"gzip\",\n",
    ")\n",
    "\n",
    "\n"
   ]
  },
  {
   "cell_type": "code",
   "execution_count": 53,
   "metadata": {},
   "outputs": [],
   "source": [
    "for col in [NonIcuCohortHeader.ADMIT_TIME, NonIcuCohortHeader.DISCH_TIME]:\n",
    "    data[col] = pd.to_datetime(data[col])"
   ]
  },
  {
   "cell_type": "code",
   "execution_count": 65,
   "metadata": {},
   "outputs": [
    {
     "data": {
      "text/plain": [
       "0     165\n",
       "1     240\n",
       "3      25\n",
       "4     100\n",
       "5      24\n",
       "6      64\n",
       "8     176\n",
       "10    166\n",
       "11    205\n",
       "12    188\n",
       "13     49\n",
       "14    102\n",
       "15    188\n",
       "16    185\n",
       "17     70\n",
       "20     40\n",
       "21    112\n",
       "22    231\n",
       "23     94\n",
       "24    330\n",
       "25     63\n",
       "26     94\n",
       "27    404\n",
       "28     89\n",
       "29    135\n",
       "30    161\n",
       "32    124\n",
       "33     68\n",
       "34    594\n",
       "35    137\n",
       "36    287\n",
       "37    183\n",
       "38     86\n",
       "39    233\n",
       "40     65\n",
       "41    229\n",
       "42     29\n",
       "44    548\n",
       "45    181\n",
       "46    187\n",
       "47    255\n",
       "48    159\n",
       "49     59\n",
       "50     90\n",
       "51    127\n",
       "52    232\n",
       "53    258\n",
       "54     79\n",
       "55    282\n",
       "56    123\n",
       "57    212\n",
       "59     38\n",
       "60    163\n",
       "61    110\n",
       "62    138\n",
       "63     85\n",
       "64    130\n",
       "65    331\n",
       "66    262\n",
       "67    296\n",
       "dtype: int32"
      ]
     },
     "execution_count": 65,
     "metadata": {},
     "output_type": "execute_result"
    }
   ],
   "source": [
    "((data[CohortHeader.DISCH_TIME] - data[CohortHeader.ADMIT_TIME]).dt.total_seconds()/ 3600).astype(int)"
   ]
  },
  {
   "cell_type": "code",
   "execution_count": 66,
   "metadata": {},
   "outputs": [],
   "source": [
    "data[CohortHeader.LOS] = (\n",
    "    (data[CohortHeader.DISCH_TIME] - data[CohortHeader.ADMIT_TIME]).dt.total_seconds()/ 3600\n",
    "    ).astype(int)\n",
    "data = data[data[CohortHeader.LOS] > 0]\n",
    "data[CohortHeader.AGE] = data[CohortHeader.AGE].astype(int)"
   ]
  },
  {
   "cell_type": "markdown",
   "metadata": {},
   "source": [
    "## 8. Machine Learning Models\n",
    "\n",
    "Below we provide options to select -\n",
    "- Type of machine learning model\n",
    "- Wheteher to concatenate or aggregate time-series features.\n",
    "    For example, if the EHR data has collected value for Blood Pressure for one year over 4 time windows of 3 months each then,\n",
    "    - **Conactenate** will concatenate all four values resulting in 4 different features for blood pressure,\n",
    "    - **Aggregate** will aggreagte(mean) over four tiem windows resulting in one feature for blood pressure."
   ]
  },
  {
   "cell_type": "code",
   "execution_count": 47,
   "metadata": {},
   "outputs": [
    {
     "name": "stdout",
     "output_type": "stream",
     "text": [
      "=======Machine :earning Models=======\n"
     ]
    },
    {
     "data": {
      "application/vnd.jupyter.widget-view+json": {
       "model_id": "dd967624cad24063913264116696f534",
       "version_major": 2,
       "version_minor": 0
      },
      "text/plain": [
       "RadioButtons(index=2, options=('Logistic Regression', 'Random Forest', 'Gradient Bossting', 'Xgboost'), value=…"
      ]
     },
     "metadata": {},
     "output_type": "display_data"
    },
    {
     "name": "stdout",
     "output_type": "stream",
     "text": [
      "Do you wnat to conactenate the time-series feature\n"
     ]
    },
    {
     "data": {
      "application/vnd.jupyter.widget-view+json": {
       "model_id": "b246493882164e79acdd545e94a40342",
       "version_major": 2,
       "version_minor": 0
      },
      "text/plain": [
       "RadioButtons(options=('Conactenate', 'Aggregate'), value='Conactenate')"
      ]
     },
     "metadata": {},
     "output_type": "display_data"
    },
    {
     "name": "stdout",
     "output_type": "stream",
     "text": [
      "Please select below option for cross-validation\n"
     ]
    },
    {
     "data": {
      "application/vnd.jupyter.widget-view+json": {
       "model_id": "71e68d480e9742deacce186515771a75",
       "version_major": 2,
       "version_minor": 0
      },
      "text/plain": [
       "RadioButtons(index=1, options=('No CV', '5-fold CV', '10-fold CV'), value='5-fold CV')"
      ]
     },
     "metadata": {},
     "output_type": "display_data"
    },
    {
     "name": "stdout",
     "output_type": "stream",
     "text": [
      "Do you want to do oversampling for minority calss ?\n"
     ]
    },
    {
     "data": {
      "application/vnd.jupyter.widget-view+json": {
       "model_id": "545a474ddd31435392b099cfb0420b17",
       "version_major": 2,
       "version_minor": 0
      },
      "text/plain": [
       "RadioButtons(options=('True', 'False'), value='True')"
      ]
     },
     "metadata": {},
     "output_type": "display_data"
    }
   ],
   "source": [
    "print(\"=======Machine :earning Models=======\")\n",
    "radio_input5 = widgets.RadioButtons(options=['Logistic Regression','Random Forest','Gradient Bossting','Xgboost'],value='Gradient Bossting')\n",
    "display(radio_input5)\n",
    "print(\"Do you wnat to conactenate the time-series feature\")\n",
    "radio_input6 = widgets.RadioButtons(options=['Conactenate','Aggregate'],value='Conactenate')\n",
    "display(radio_input6)\n",
    "print(\"Please select below option for cross-validation\")\n",
    "radio_input7 = widgets.RadioButtons(options=['No CV','5-fold CV','10-fold CV'],value='5-fold CV')\n",
    "display(radio_input7)\n",
    "print(\"Do you want to do oversampling for minority calss ?\")\n",
    "radio_input8 = widgets.RadioButtons(options=['True','False'],value='True')\n",
    "display(radio_input8)"
   ]
  }
 ],
 "metadata": {
  "kernelspec": {
   "display_name": "venv",
   "language": "python",
   "name": "python3"
  },
  "language_info": {
   "codemirror_mode": {
    "name": "ipython",
    "version": 3
   },
   "file_extension": ".py",
   "mimetype": "text/x-python",
   "name": "python",
   "nbconvert_exporter": "python",
   "pygments_lexer": "ipython3",
   "version": "3.11.7"
  }
 },
 "nbformat": 4,
 "nbformat_minor": 2
}
