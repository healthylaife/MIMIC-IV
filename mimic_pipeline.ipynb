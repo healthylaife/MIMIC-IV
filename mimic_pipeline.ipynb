{
 "cells": [
  {
   "cell_type": "code",
   "execution_count": 18,
   "metadata": {},
   "outputs": [],
   "source": [
    "import ipywidgets as widgets\n",
    "from pathlib import Path"
   ]
  },
  {
   "cell_type": "code",
   "execution_count": 19,
   "metadata": {},
   "outputs": [],
   "source": [
    "from pipeline.cohort_extractor import CohortExtractor\n",
    "from pipeline.prediction_task import TargetType, PredictionTask, DiseaseCode"
   ]
  },
  {
   "cell_type": "markdown",
   "metadata": {},
   "source": [
    "# Welcome to MIMIC-IV Project"
   ]
  },
  {
   "cell_type": "code",
   "execution_count": 20,
   "metadata": {},
   "outputs": [],
   "source": [
    "Path(\"raw_data\").mkdir(parents=True, exist_ok=True)"
   ]
  },
  {
   "cell_type": "markdown",
   "metadata": {},
   "source": [
    "This repository explains the steps to download and clean MIMIC-IV dataset for analysis.\n",
    "The repository is compatible with MIMIC-IV v2.0\n",
    "\n",
    "Please go to:\n",
    "- https://physionet.org/content/mimiciv/2.0/ \n",
    "\n",
    "Follow instructions to get access to MIMIC-IV dataset.\n",
    "\n",
    "\n",
    "Save downloaded files in the fikder raw_data\n",
    "\n",
    "The structure should look like below\n",
    "- raw_data/mimiciv_2_0/hosp\n",
    "- raw_data/mimiciv_2_0/icu"
   ]
  },
  {
   "cell_type": "markdown",
   "metadata": {},
   "source": [
    "## 1. DATA EXTRACTION"
   ]
  },
  {
   "cell_type": "code",
   "execution_count": 21,
   "metadata": {},
   "outputs": [
    {
     "name": "stdout",
     "output_type": "stream",
     "text": [
      "Please select what prediction task you want to perform ?\n"
     ]
    },
    {
     "data": {
      "application/vnd.jupyter.widget-view+json": {
       "model_id": "3bcfcd62849c4bad8e7dd439cb0868b0",
       "version_major": 2,
       "version_minor": 0
      },
      "text/plain": [
       "RadioButtons(options=('Mortality', 'Length of Stay', 'Readmission', 'Phenotype'), value='Mortality')"
      ]
     },
     "metadata": {},
     "output_type": "display_data"
    },
    {
     "name": "stderr",
     "output_type": "stream",
     "text": [
      "DEBUG:Comm:handle_msg[3bcfcd62849c4bad8e7dd439cb0868b0]({'header': {'date': datetime.datetime(2023, 12, 6, 16, 50, 16, 538000, tzinfo=tzutc()), 'msg_id': '7a682193-033a-424e-ac5a-b9a57ff09609', 'msg_type': 'comm_msg', 'session': '4a4e8d02-4780-424c-ac50-4a755bdddb91', 'username': 'c1719500-6c9e-4e19-a197-19c14a569555', 'version': '5.2'}, 'msg_id': '7a682193-033a-424e-ac5a-b9a57ff09609', 'msg_type': 'comm_msg', 'parent_header': {}, 'metadata': {}, 'content': {'comm_id': '3bcfcd62849c4bad8e7dd439cb0868b0', 'data': {'method': 'update', 'state': {'index': 3}, 'buffer_paths': []}}, 'buffers': []})\n"
     ]
    }
   ],
   "source": [
    "print(\"Please select what prediction task you want to perform ?\")\n",
    "task_ratio = widgets.RadioButtons(options=['Mortality','Length of Stay','Readmission','Phenotype'],value='Mortality')\n",
    "display(task_ratio)"
   ]
  },
  {
   "cell_type": "markdown",
   "metadata": {},
   "source": [
    "### Refining Cohort and Prediction Task Definition\n",
    "\n",
    "Based on your current selection following block will provide option to further refine prediction task and cohort associated with it:\n",
    "\n",
    "- First you will refine the prediction task choosing from following options -\n",
    "    - **Length of Stay** - You can select from two predefined options or enter custom number of days to predict length os stay greater than number of days.\n",
    "\n",
    "    - **Readmission** - You can select from two predefined options or enter custom number of days to predict readmission after \"number of days\" after previous admission.\n",
    "\n",
    "    - **Phenotype Prediction** - You can select from four major chronic diseases to predict its future outcome\n",
    "\n",
    "        - Heart failure\n",
    "        - CAD (Coronary Artery Disease)\n",
    "        - CKD (Chronic Kidney Disease)\n",
    "        - COPD (Chronic obstructive pulmonary disease)\n",
    "\n",
    "- Second, you will choode whether to perfom above task using ICU or non-ICU admissions data\n",
    "\n",
    "- Third, you can refine the refine the cohort selection for any of the above choosen prediction tasks by including the admission samples admitted with particular chronic disease - \n",
    "    - Heart failure\n",
    "    - CAD (Coronary Artery Disease)\n",
    "    - CKD (Chronic Kidney Disease)\n",
    "    - COPD (Chronic obstructive pulmonary disease)\n",
    "    "
   ]
  },
  {
   "cell_type": "code",
   "execution_count": 22,
   "metadata": {},
   "outputs": [],
   "source": [
    "def create_length_of_stay_widgets():\n",
    "    radio_options = ['Length of Stay ≥ 3', 'Length of Stay ≥ 7', 'Custom']\n",
    "    radio_input = widgets.RadioButtons(options=radio_options, value='Length of Stay ≥ 3')\n",
    "    slider = widgets.IntSlider(value=3, min=1, max=10, step=1, continuous_update=False)\n",
    "    display(radio_input, widgets.HBox([widgets.Label('Length of stay ≥ (days):', layout={'width': '180px'}), slider]))\n",
    "    return radio_input, slider\n",
    "\n",
    "def create_readmission_widgets():\n",
    "    radio_options = ['30 Day Readmission', '60 Day Readmission', '90 Day Readmission', '120 Day Readmission', 'Custom']\n",
    "    radio_input = widgets.RadioButtons(options=radio_options, value='30 Day Readmission')\n",
    "    slider = widgets.IntSlider(value=30, min=10, max=150, step=10)\n",
    "    display(radio_input, widgets.HBox([widgets.Label('Readmission after (days):', layout={'width': '180px'}), slider]))\n",
    "    return radio_input, slider\n",
    "\n",
    "def create_phenotype_widgets():\n",
    "    radio_options = ['Heart Failure in 30 days', 'CAD in 30 days', 'CKD in 30 days', 'COPD in 30 days']\n",
    "    radio_input = widgets.RadioButtons(options=radio_options, value='Heart Failure in 30 days')\n",
    "    display(radio_input)\n",
    "    return radio_input\n",
    "\n",
    "def create_mortality_widgets():\n",
    "    radio_input = widgets.RadioButtons(options=['Mortality'], value='Mortality')\n",
    "    return radio_input\n"
   ]
  },
  {
   "cell_type": "code",
   "execution_count": 23,
   "metadata": {},
   "outputs": [
    {
     "name": "stdout",
     "output_type": "stream",
     "text": [
      "Please select to precise the prediction task \n"
     ]
    },
    {
     "data": {
      "application/vnd.jupyter.widget-view+json": {
       "model_id": "c36fbf0d84594a92991f0e4f16fada95",
       "version_major": 2,
       "version_minor": 0
      },
      "text/plain": [
       "RadioButtons(options=('Heart Failure in 30 days', 'CAD in 30 days', 'CKD in 30 days', 'COPD in 30 days'), valu…"
      ]
     },
     "metadata": {},
     "output_type": "display_data"
    },
    {
     "name": "stdout",
     "output_type": "stream",
     "text": [
      "Please select below if you want to work with ICU or Non-ICU data:\n"
     ]
    },
    {
     "data": {
      "application/vnd.jupyter.widget-view+json": {
       "model_id": "67529df9b9a74905988156ebb1ce5591",
       "version_major": 2,
       "version_minor": 0
      },
      "text/plain": [
       "RadioButtons(options=('ICU', 'Non-ICU'), value='ICU')"
      ]
     },
     "metadata": {},
     "output_type": "display_data"
    },
    {
     "name": "stdout",
     "output_type": "stream",
     "text": [
      "Please select if you want to perform the chosen prediction task for a specific disease.\n"
     ]
    },
    {
     "data": {
      "application/vnd.jupyter.widget-view+json": {
       "model_id": "05c26f7e287f4a108bc2bc8dbe0c091d",
       "version_major": 2,
       "version_minor": 0
      },
      "text/plain": [
       "RadioButtons(options=('No Disease Filter', 'Heart Failure', 'CKD', 'CAD', 'COPD'), value='No Disease Filter')"
      ]
     },
     "metadata": {},
     "output_type": "display_data"
    },
    {
     "name": "stderr",
     "output_type": "stream",
     "text": [
      "DEBUG:Comm:handle_msg[c36fbf0d84594a92991f0e4f16fada95]({'header': {'date': datetime.datetime(2023, 12, 6, 16, 50, 24, 870000, tzinfo=tzutc()), 'msg_id': 'cc4c1a57-67bc-41aa-bb71-661789887b61', 'msg_type': 'comm_msg', 'session': '4a4e8d02-4780-424c-ac50-4a755bdddb91', 'username': 'c1719500-6c9e-4e19-a197-19c14a569555', 'version': '5.2'}, 'msg_id': 'cc4c1a57-67bc-41aa-bb71-661789887b61', 'msg_type': 'comm_msg', 'parent_header': {}, 'metadata': {}, 'content': {'comm_id': 'c36fbf0d84594a92991f0e4f16fada95', 'data': {'method': 'update', 'state': {'index': 2}, 'buffer_paths': []}}, 'buffers': []})\n",
      "DEBUG:Comm:handle_msg[67529df9b9a74905988156ebb1ce5591]({'header': {'date': datetime.datetime(2023, 12, 6, 16, 50, 26, 251000, tzinfo=tzutc()), 'msg_id': 'f6a411f2-52fd-4b55-a230-b350dd0bc4e8', 'msg_type': 'comm_msg', 'session': '4a4e8d02-4780-424c-ac50-4a755bdddb91', 'username': 'c1719500-6c9e-4e19-a197-19c14a569555', 'version': '5.2'}, 'msg_id': 'f6a411f2-52fd-4b55-a230-b350dd0bc4e8', 'msg_type': 'comm_msg', 'parent_header': {}, 'metadata': {}, 'content': {'comm_id': '67529df9b9a74905988156ebb1ce5591', 'data': {'method': 'update', 'state': {'index': 1}, 'buffer_paths': []}}, 'buffers': []})\n",
      "DEBUG:Comm:handle_msg[05c26f7e287f4a108bc2bc8dbe0c091d]({'header': {'date': datetime.datetime(2023, 12, 6, 16, 50, 27, 99000, tzinfo=tzutc()), 'msg_id': '8d45dd6c-7e24-4d6f-9817-534b55700971', 'msg_type': 'comm_msg', 'session': '4a4e8d02-4780-424c-ac50-4a755bdddb91', 'username': 'c1719500-6c9e-4e19-a197-19c14a569555', 'version': '5.2'}, 'msg_id': '8d45dd6c-7e24-4d6f-9817-534b55700971', 'msg_type': 'comm_msg', 'parent_header': {}, 'metadata': {}, 'content': {'comm_id': '05c26f7e287f4a108bc2bc8dbe0c091d', 'data': {'method': 'update', 'state': {'index': 3}, 'buffer_paths': []}}, 'buffers': []})\n",
      "DEBUG:Comm:handle_msg[05c26f7e287f4a108bc2bc8dbe0c091d]({'header': {'date': datetime.datetime(2023, 12, 6, 16, 50, 28, 520000, tzinfo=tzutc()), 'msg_id': '3954d111-46e2-4d44-b580-47cba54868bc', 'msg_type': 'comm_msg', 'session': '4a4e8d02-4780-424c-ac50-4a755bdddb91', 'username': 'c1719500-6c9e-4e19-a197-19c14a569555', 'version': '5.2'}, 'msg_id': '3954d111-46e2-4d44-b580-47cba54868bc', 'msg_type': 'comm_msg', 'parent_header': {}, 'metadata': {}, 'content': {'comm_id': '05c26f7e287f4a108bc2bc8dbe0c091d', 'data': {'method': 'update', 'state': {'index': 0}, 'buffer_paths': []}}, 'buffers': []})\n"
     ]
    }
   ],
   "source": [
    "if task_ratio.value != 'Mortality':\n",
    "    print(\"Please select to precise the prediction task \")\n",
    "if task_ratio.value == 'Length of Stay':\n",
    "    los_radio, los_slider = create_length_of_stay_widgets()\n",
    "elif task_ratio.value == 'Readmission':\n",
    "    readmission_radio, readmission_slider = create_readmission_widgets()\n",
    "elif task_ratio.value == 'Phenotype':\n",
    "    phenotype_radio = create_phenotype_widgets()\n",
    "elif task_ratio.value == 'Mortality':\n",
    "    mortality_radio = create_mortality_widgets()\n",
    "\n",
    "print(\"Please select below if you want to work with ICU or Non-ICU data:\")\n",
    "icu_type_input = widgets.RadioButtons(options=['ICU', 'Non-ICU'], value='ICU')\n",
    "display(icu_type_input)\n",
    "\n",
    "print(\"Please select if you want to perform the chosen prediction task for a specific disease.\")\n",
    "disease_filter_input = widgets.RadioButtons(options=['No Disease Filter', 'Heart Failure', 'CKD', 'CAD', 'COPD'], value='No Disease Filter')\n",
    "display(disease_filter_input)\n",
    "\n"
   ]
  },
  {
   "cell_type": "code",
   "execution_count": 24,
   "metadata": {},
   "outputs": [],
   "source": [
    "def get_time_from_input():\n",
    "    task_type = task_ratio.value\n",
    "    if task_type == 'Length of Stay' and los_radio.value == 'Custom':\n",
    "        return los_slider.value\n",
    "    elif task_type == 'Readmission' and readmission_radio.value == 'Custom':\n",
    "        return readmission_slider.value\n",
    "    elif task_type == 'Readmission':\n",
    "        return int(readmission_radio.value.split()[0])\n",
    "    elif task_type == 'Length of Stay':\n",
    "        return int(los_radio.value.split()[4])\n",
    "    elif task_type == 'Phenotype':\n",
    "        return 30\n",
    "    return 0\n",
    "\n",
    "def get_disease_label():\n",
    "    if task_ratio.value != 'Phenotype':\n",
    "        return None\n",
    "    task_type = phenotype_radio.value\n",
    "    disease_mapping = {\n",
    "        'Heart Failure in 30 days': DiseaseCode.HEARTH_FAILURE,\n",
    "        'CAD in 30 days': DiseaseCode.CAD,\n",
    "        'CKD in 30 days': DiseaseCode.CKD,\n",
    "        'COPD in 30 days': DiseaseCode.COPD\n",
    "    }\n",
    "    return disease_mapping.get(task_type, \"\")\n",
    "\n",
    "def convert_to_icd_code(disease):\n",
    "    if (disease==\"Heart Failure\"):\n",
    "        icd_code=DiseaseCode.HEARTH_FAILURE\n",
    "    elif (disease==\"CKD\"):\n",
    "        icd_code=DiseaseCode.CKD\n",
    "    elif (disease==\"COPD\"):\n",
    "        icd_code=DiseaseCode.COPD\n",
    "    elif (disease==\"CAD\"):\n",
    "        icd_code=DiseaseCode.CAD\n",
    "    else:\n",
    "        icd_code=None\n",
    "    return icd_code \n",
    "\n",
    "def convert_to_prediction_task(task_text):\n",
    "    if task_text == 'Length of Stay':\n",
    "        return TargetType.LOS\n",
    "    elif task_text == 'Mortality':  \n",
    "        return TargetType.MORTALITY\n",
    "    else:\n",
    "        return TargetType.READMISSION"
   ]
  },
  {
   "cell_type": "code",
   "execution_count": 25,
   "metadata": {},
   "outputs": [
    {
     "name": "stderr",
     "output_type": "stream",
     "text": [
      "INFO:root:===========MIMIC-IV v2.0============\n",
      "INFO:root:EXTRACTING FOR: NON-ICU | READMISSION DUE TO N18 | 30 |\n",
      "INFO:root:[ READMISSION DUE TO N18 ]\n",
      "INFO:root:[ READMISSION LABELS FINISHED: 10 Readmission Cases ]\n",
      "INFO:root:[ COHORT cohort_Non-ICU_readmission_30_N18 SAVED ]\n",
      "INFO:root:[ COHORT SUCCESSFULLY SAVED ]\n",
      "INFO:root:cohort_Non-ICU_readmission_30_N18\n",
      "INFO:root:[ SUMMARY SUCCESSFULLY SAVED ]\n"
     ]
    }
   ],
   "source": [
    "prediction_task = PredictionTask(\n",
    "    target_type = convert_to_prediction_task(task_ratio.value), \n",
    "    disease_readmission= get_disease_label() if task_ratio.value == 'Phenotype' else None, \n",
    "    disease_selection=convert_to_icd_code(disease_filter_input.value) ,\n",
    "    nb_days=get_time_from_input(), \n",
    "    use_icu=(icu_type_input.value==\"ICU\")\n",
    ")\n",
    "cohort_extractor = CohortExtractor(prediction_task=prediction_task)\n",
    "cohort = cohort_extractor.extract()"
   ]
  },
  {
   "cell_type": "markdown",
   "metadata": {},
   "source": [
    "## 2. FEATURE SELECTION\n",
    "Features available for ICU data -\n",
    "- Diagnosis (https://mimic.mit.edu/docs/iv/modules/hosp/diagnoses_icd/)\n",
    "- Procedures (https://mimic.mit.edu/docs/iv/modules/icu/procedureevents/)\n",
    "- Medications (https://mimic.mit.edu/docs/iv/modules/icu/inputevents/)\n",
    "- Output Events (https://mimic.mit.edu/docs/iv/modules/icu/outputevents/)\n",
    "- Chart Events (https://mimic.mit.edu/docs/iv/modules/icu/chartevents/)\n",
    "\n",
    "Features available for ICU data -\n",
    "- Diagnosis (https://mimic.mit.edu/docs/iv/modules/hosp/diagnoses_icd/)\n",
    "- Procedures (https://mimic.mit.edu/docs/iv/modules/hosp/procedures_icd/)\n",
    "- Medications (https://mimic.mit.edu/docs/iv/modules/hosp/prescriptions/)\n",
    "- Lab Events (https://mimic.mit.edu/docs/iv/modules/hosp/labevents/)\n",
    "\n",
    "All features will be saved in **./preproc_data/features/**"
   ]
  },
  {
   "cell_type": "code",
   "execution_count": 26,
   "metadata": {},
   "outputs": [
    {
     "name": "stdout",
     "output_type": "stream",
     "text": [
      "Feature Selection\n",
      "Which Features you want to include for cohort?\n"
     ]
    },
    {
     "data": {
      "application/vnd.jupyter.widget-view+json": {
       "model_id": "54ac504c8f9344798bd17c4626ca761a",
       "version_major": 2,
       "version_minor": 0
      },
      "text/plain": [
       "Checkbox(value=False, description='Diagnosis')"
      ]
     },
     "metadata": {},
     "output_type": "display_data"
    },
    {
     "data": {
      "application/vnd.jupyter.widget-view+json": {
       "model_id": "b1363cc496c64745985b61fde3969653",
       "version_major": 2,
       "version_minor": 0
      },
      "text/plain": [
       "Checkbox(value=False, description='Labs')"
      ]
     },
     "metadata": {},
     "output_type": "display_data"
    },
    {
     "data": {
      "application/vnd.jupyter.widget-view+json": {
       "model_id": "0764cf5970e24d60843fdd620e1dbc7d",
       "version_major": 2,
       "version_minor": 0
      },
      "text/plain": [
       "Checkbox(value=False, description='Procedures')"
      ]
     },
     "metadata": {},
     "output_type": "display_data"
    },
    {
     "data": {
      "application/vnd.jupyter.widget-view+json": {
       "model_id": "d7dc637e60e648a88871058b8dba15dc",
       "version_major": 2,
       "version_minor": 0
      },
      "text/plain": [
       "Checkbox(value=False, description='Medications')"
      ]
     },
     "metadata": {},
     "output_type": "display_data"
    },
    {
     "name": "stdout",
     "output_type": "stream",
     "text": [
      "**Please run below cell to extract selected features**\n"
     ]
    },
    {
     "name": "stderr",
     "output_type": "stream",
     "text": [
      "DEBUG:Comm:handle_msg[54ac504c8f9344798bd17c4626ca761a]({'header': {'date': datetime.datetime(2023, 12, 6, 16, 50, 38, 405000, tzinfo=tzutc()), 'msg_id': 'a626bb10-fe7b-4dbb-a19a-b3d6f4f3ac84', 'msg_type': 'comm_msg', 'session': '4a4e8d02-4780-424c-ac50-4a755bdddb91', 'username': 'c1719500-6c9e-4e19-a197-19c14a569555', 'version': '5.2'}, 'msg_id': 'a626bb10-fe7b-4dbb-a19a-b3d6f4f3ac84', 'msg_type': 'comm_msg', 'parent_header': {}, 'metadata': {}, 'content': {'comm_id': '54ac504c8f9344798bd17c4626ca761a', 'data': {'method': 'update', 'state': {'value': True}, 'buffer_paths': []}}, 'buffers': []})\n",
      "DEBUG:Comm:handle_msg[b1363cc496c64745985b61fde3969653]({'header': {'date': datetime.datetime(2023, 12, 6, 16, 50, 38, 910000, tzinfo=tzutc()), 'msg_id': 'fe702424-011d-4b7a-84ab-d1b147a018db', 'msg_type': 'comm_msg', 'session': '4a4e8d02-4780-424c-ac50-4a755bdddb91', 'username': 'c1719500-6c9e-4e19-a197-19c14a569555', 'version': '5.2'}, 'msg_id': 'fe702424-011d-4b7a-84ab-d1b147a018db', 'msg_type': 'comm_msg', 'parent_header': {}, 'metadata': {}, 'content': {'comm_id': 'b1363cc496c64745985b61fde3969653', 'data': {'method': 'update', 'state': {'value': True}, 'buffer_paths': []}}, 'buffers': []})\n",
      "DEBUG:Comm:handle_msg[0764cf5970e24d60843fdd620e1dbc7d]({'header': {'date': datetime.datetime(2023, 12, 6, 16, 50, 39, 416000, tzinfo=tzutc()), 'msg_id': '18ab5612-f2fd-4c38-ae69-650b7c435e01', 'msg_type': 'comm_msg', 'session': '4a4e8d02-4780-424c-ac50-4a755bdddb91', 'username': 'c1719500-6c9e-4e19-a197-19c14a569555', 'version': '5.2'}, 'msg_id': '18ab5612-f2fd-4c38-ae69-650b7c435e01', 'msg_type': 'comm_msg', 'parent_header': {}, 'metadata': {}, 'content': {'comm_id': '0764cf5970e24d60843fdd620e1dbc7d', 'data': {'method': 'update', 'state': {'value': True}, 'buffer_paths': []}}, 'buffers': []})\n",
      "DEBUG:Comm:handle_msg[d7dc637e60e648a88871058b8dba15dc]({'header': {'date': datetime.datetime(2023, 12, 6, 16, 50, 39, 847000, tzinfo=tzutc()), 'msg_id': 'b7a1b114-3340-44a8-a26b-0dd801bb6910', 'msg_type': 'comm_msg', 'session': '4a4e8d02-4780-424c-ac50-4a755bdddb91', 'username': 'c1719500-6c9e-4e19-a197-19c14a569555', 'version': '5.2'}, 'msg_id': 'b7a1b114-3340-44a8-a26b-0dd801bb6910', 'msg_type': 'comm_msg', 'parent_header': {}, 'metadata': {}, 'content': {'comm_id': 'd7dc637e60e648a88871058b8dba15dc', 'data': {'method': 'update', 'state': {'value': True}, 'buffer_paths': []}}, 'buffers': []})\n"
     ]
    }
   ],
   "source": [
    "print(\"Feature Selection\")\n",
    "if cohort_extractor.prediction_task.use_icu:\n",
    "    print(\"Which Features you want to include for cohort?\")\n",
    "    dia_input = widgets.Checkbox(description='Diagnosis')\n",
    "    display(dia_input)\n",
    "    out_input = widgets.Checkbox(description='Output Events')\n",
    "    display(out_input)\n",
    "    chart_input = widgets.Checkbox(description='Chart Events(Labs and Vitals)')\n",
    "    display(chart_input)\n",
    "    proc_input = widgets.Checkbox(description='Procedures')\n",
    "    display(proc_input)\n",
    "    med_input = widgets.Checkbox(description='Medications')\n",
    "    display(med_input)\n",
    "else:\n",
    "    print(\"Which Features you want to include for cohort?\")\n",
    "    dia_input = widgets.Checkbox(description='Diagnosis')\n",
    "    display(dia_input)\n",
    "    lab_input = widgets.Checkbox(description='Labs')\n",
    "    display(lab_input)\n",
    "    proc_input = widgets.Checkbox(description='Procedures')\n",
    "    display(proc_input)\n",
    "    med_input = widgets.Checkbox(description='Medications')\n",
    "    display(med_input)\n",
    "print(\"**Please run below cell to extract selected features**\")"
   ]
  },
  {
   "cell_type": "code",
   "execution_count": 27,
   "metadata": {},
   "outputs": [
    {
     "name": "stderr",
     "output_type": "stream",
     "text": [
      "INFO:root:[EXTRACTING DIAGNOSIS DATA]\n"
     ]
    },
    {
     "name": "stderr",
     "output_type": "stream",
     "text": [
      "INFO:root:[SUCCESSFULLY SAVED DIAGNOSES DATA]\n",
      "INFO:root:[EXTRACTING PROCEDURES DATA]\n",
      "INFO:root: # Unique ICD9 Procedures:36\n",
      "INFO:root: # Unique ICD10 Procedures:48\n",
      "INFO:root:\n",
      "Value counts of each ICD version:\n",
      " icd_version\n",
      "10    70\n",
      "9     52\n",
      "Name: count, dtype: int64\n",
      "INFO:root:# Admissions:38\n",
      "INFO:root:Total number of rows: 122\n",
      "INFO:root:[SUCCESSFULLY SAVED PROCEDURES DATA]\n",
      "INFO:root:[EXTRACTING MEDICATIONS DATA]\n",
      "INFO:root:Number of unique type of drug: 236\n",
      "INFO:root:Number of unique type of drug after grouping: 205\n",
      "INFO:root:# Admissions: 59\n",
      "INFO:root:Total number of rows: 2301\n",
      "INFO:root:[SUCCESSFULLY SAVED MEDICATIONS DATA]\n",
      "INFO:root:[EXTRACTING LABS DATA]\n",
      "1it [00:01,  1.44s/it]\n",
      "INFO:root:[SUCCESSFULLY SAVED LABS DATA]\n"
     ]
    }
   ],
   "source": [
    "from pipeline.features_extractor import FeatureExtractor\n",
    "feature_extractor= FeatureExtractor(\n",
    "    cohort_output=cohort_extractor.cohort_output,\n",
    "    use_icu=prediction_task.use_icu,\n",
    "    for_diagnoses=dia_input.value,\n",
    "    for_output_events= prediction_task.use_icu and out_input.value,\n",
    "    for_chart_events=prediction_task.use_icu and chart_input.value,\n",
    "    for_procedures=proc_input.value,\n",
    "    for_medications= med_input.value,\n",
    "    for_labs= not prediction_task.use_icu and lab_input.value\n",
    ")\n",
    "\n",
    "features = feature_extractor.save_features()"
   ]
  },
  {
   "cell_type": "markdown",
   "metadata": {},
   "source": [
    "## 3. CLINICAL GROUPING\n",
    "Grouping medical codes will reduce dimensional space of features.\n",
    "\n",
    "Default options selected below will group medical codes to reduce feature dimension space.\n"
   ]
  },
  {
   "cell_type": "code",
   "execution_count": 28,
   "metadata": {},
   "outputs": [
    {
     "name": "stdout",
     "output_type": "stream",
     "text": [
      "Do you want to group ICD 10 DIAG codes ?\n"
     ]
    },
    {
     "data": {
      "application/vnd.jupyter.widget-view+json": {
       "model_id": "13acbd87149041f8a818333d89773ae8",
       "version_major": 2,
       "version_minor": 0
      },
      "text/plain": [
       "RadioButtons(index=2, layout=Layout(width='100%'), options=('Keep both ICD-9 and ICD-10 codes', 'Convert ICD-9…"
      ]
     },
     "metadata": {},
     "output_type": "display_data"
    },
    {
     "name": "stdout",
     "output_type": "stream",
     "text": [
      "Do you want to group Medication codes to use Non propietary names?\n"
     ]
    },
    {
     "data": {
      "application/vnd.jupyter.widget-view+json": {
       "model_id": "bfc5d829d7cd403fb2091b74047b2c4a",
       "version_major": 2,
       "version_minor": 0
      },
      "text/plain": [
       "RadioButtons(layout=Layout(width='100%'), options=('Yes', 'No'), value='Yes')"
      ]
     },
     "metadata": {},
     "output_type": "display_data"
    },
    {
     "name": "stdout",
     "output_type": "stream",
     "text": [
      "Which ICD codes for Procedures you want to keep in data?\n"
     ]
    },
    {
     "data": {
      "application/vnd.jupyter.widget-view+json": {
       "model_id": "e6590552f5f8444bb24167c3075be6af",
       "version_major": 2,
       "version_minor": 0
      },
      "text/plain": [
       "RadioButtons(index=1, layout=Layout(width='100%'), options=('ICD-9 and ICD-10', 'ICD-10'), value='ICD-10')"
      ]
     },
     "metadata": {},
     "output_type": "display_data"
    },
    {
     "name": "stdout",
     "output_type": "stream",
     "text": [
      "**Please run below cell to perform feature preprocessing**\n"
     ]
    },
    {
     "name": "stderr",
     "output_type": "stream",
     "text": [
      "DEBUG:Comm:handle_msg[13acbd87149041f8a818333d89773ae8]({'header': {'date': datetime.datetime(2023, 12, 6, 16, 50, 54, 785000, tzinfo=tzutc()), 'msg_id': '5efdca73-a1cc-4b37-914a-1077ec60e0bd', 'msg_type': 'comm_msg', 'session': '4a4e8d02-4780-424c-ac50-4a755bdddb91', 'username': 'c1719500-6c9e-4e19-a197-19c14a569555', 'version': '5.2'}, 'msg_id': '5efdca73-a1cc-4b37-914a-1077ec60e0bd', 'msg_type': 'comm_msg', 'parent_header': {}, 'metadata': {}, 'content': {'comm_id': '13acbd87149041f8a818333d89773ae8', 'data': {'method': 'update', 'state': {'index': 1}, 'buffer_paths': []}}, 'buffers': []})\n",
      "DEBUG:Comm:handle_msg[bfc5d829d7cd403fb2091b74047b2c4a]({'header': {'date': datetime.datetime(2023, 12, 6, 16, 50, 55, 571000, tzinfo=tzutc()), 'msg_id': '318406c2-dc7c-4745-8987-3c0b43f34a9a', 'msg_type': 'comm_msg', 'session': '4a4e8d02-4780-424c-ac50-4a755bdddb91', 'username': 'c1719500-6c9e-4e19-a197-19c14a569555', 'version': '5.2'}, 'msg_id': '318406c2-dc7c-4745-8987-3c0b43f34a9a', 'msg_type': 'comm_msg', 'parent_header': {}, 'metadata': {}, 'content': {'comm_id': 'bfc5d829d7cd403fb2091b74047b2c4a', 'data': {'method': 'update', 'state': {'index': 1}, 'buffer_paths': []}}, 'buffers': []})\n",
      "DEBUG:Comm:handle_msg[e6590552f5f8444bb24167c3075be6af]({'header': {'date': datetime.datetime(2023, 12, 6, 16, 50, 56, 118000, tzinfo=tzutc()), 'msg_id': '82ebdd80-a631-4696-900b-629eba15c1c2', 'msg_type': 'comm_msg', 'session': '4a4e8d02-4780-424c-ac50-4a755bdddb91', 'username': 'c1719500-6c9e-4e19-a197-19c14a569555', 'version': '5.2'}, 'msg_id': '82ebdd80-a631-4696-900b-629eba15c1c2', 'msg_type': 'comm_msg', 'parent_header': {}, 'metadata': {}, 'content': {'comm_id': 'e6590552f5f8444bb24167c3075be6af', 'data': {'method': 'update', 'state': {'index': 0}, 'buffer_paths': []}}, 'buffers': []})\n"
     ]
    }
   ],
   "source": [
    "if feature_extractor.for_diagnoses:\n",
    "    print(\"Do you want to group ICD 10 DIAG codes ?\")\n",
    "    group_dia_icd_input = widgets.RadioButtons(options=['Keep both ICD-9 and ICD-10 codes','Convert ICD-9 to ICD-10 codes','Convert ICD-9 to ICD-10 and group ICD-10 codes'],value='Convert ICD-9 to ICD-10 and group ICD-10 codes',layout={'width': '100%'})\n",
    "    display(group_dia_icd_input)   \n",
    "\n",
    "if not prediction_task.use_icu:\n",
    "    if feature_extractor.for_medications:\n",
    "        print(\"Do you want to group Medication codes to use Non propietary names?\")\n",
    "        group_med_code_input = widgets.RadioButtons(options=['Yes','No'],value='Yes',layout={'width': '100%'})\n",
    "        display(group_med_code_input)\n",
    "    if feature_extractor.for_procedures:\n",
    "        print(\"Which ICD codes for Procedures you want to keep in data?\")\n",
    "        group_proc_icd_input = widgets.RadioButtons(options=['ICD-9 and ICD-10','ICD-10'],value='ICD-10',layout={'width': '100%'})\n",
    "        display(group_proc_icd_input)\n",
    "print(\"**Please run below cell to perform feature preprocessing**\")"
   ]
  },
  {
   "cell_type": "code",
   "execution_count": 29,
   "metadata": {},
   "outputs": [],
   "source": [
    "from pipeline.feature.diagnoses import IcdGroupOption\n",
    "\n",
    "group_diag_icd = IcdGroupOption.KEEP\n",
    "if feature_extractor.for_diagnoses:\n",
    "    if group_dia_icd_input.value == \"Keep both ICD-9 and ICD-10 codes\":\n",
    "        group_dia_icd_input = IcdGroupOption.KEEP\n",
    "    elif group_dia_icd_input.value == \"Convert ICD-9 to ICD-10 codes\":\n",
    "        group_dia_icd_input = IcdGroupOption.CONVERT\n",
    "    elif group_dia_icd_input.value == \"Convert ICD-9 to ICD-10 and group ICD-10 codes\":\n",
    "        group_dia_icd_input = IcdGroupOption.GROUP\n",
    "\n",
    "\n",
    "group_med_code = feature_extractor.for_medications and (not prediction_task.use_icu) and (group_med_code_input.value==\"Yes\")\n",
    "keep_proc_icd9 =  prediction_task.use_icu or not(feature_extractor.for_procedures and (group_proc_icd_input.value==\"ICD-10\"))"
   ]
  },
  {
   "cell_type": "code",
   "execution_count": 31,
   "metadata": {},
   "outputs": [
    {
     "name": "stderr",
     "output_type": "stream",
     "text": [
      "INFO:root:[PROCESSING DIAGNOSIS DATA]\n"
     ]
    },
    {
     "ename": "KeyError",
     "evalue": "<DiagnosesHeader.ICD_CODE: 'icd_code'>",
     "output_type": "error",
     "traceback": [
      "\u001b[1;31m---------------------------------------------------------------------------\u001b[0m",
      "\u001b[1;31mKeyError\u001b[0m                                  Traceback (most recent call last)",
      "File \u001b[1;32md:\\Work\\Repos\\MIMIC-IV-Data-Pipeline\\venv\\Lib\\site-packages\\pandas\\core\\indexes\\base.py:3790\u001b[0m, in \u001b[0;36mIndex.get_loc\u001b[1;34m(self, key)\u001b[0m\n\u001b[0;32m   3789\u001b[0m \u001b[39mtry\u001b[39;00m:\n\u001b[1;32m-> 3790\u001b[0m     \u001b[39mreturn\u001b[39;00m \u001b[39mself\u001b[39;49m\u001b[39m.\u001b[39;49m_engine\u001b[39m.\u001b[39;49mget_loc(casted_key)\n\u001b[0;32m   3791\u001b[0m \u001b[39mexcept\u001b[39;00m \u001b[39mKeyError\u001b[39;00m \u001b[39mas\u001b[39;00m err:\n",
      "File \u001b[1;32mindex.pyx:152\u001b[0m, in \u001b[0;36mpandas._libs.index.IndexEngine.get_loc\u001b[1;34m()\u001b[0m\n",
      "File \u001b[1;32mindex.pyx:181\u001b[0m, in \u001b[0;36mpandas._libs.index.IndexEngine.get_loc\u001b[1;34m()\u001b[0m\n",
      "File \u001b[1;32mpandas\\_libs\\hashtable_class_helper.pxi:7080\u001b[0m, in \u001b[0;36mpandas._libs.hashtable.PyObjectHashTable.get_item\u001b[1;34m()\u001b[0m\n",
      "File \u001b[1;32mpandas\\_libs\\hashtable_class_helper.pxi:7088\u001b[0m, in \u001b[0;36mpandas._libs.hashtable.PyObjectHashTable.get_item\u001b[1;34m()\u001b[0m\n",
      "\u001b[1;31mKeyError\u001b[0m: <DiagnosesHeader.ICD_CODE: 'icd_code'>",
      "\nThe above exception was the direct cause of the following exception:\n",
      "\u001b[1;31mKeyError\u001b[0m                                  Traceback (most recent call last)",
      "\u001b[1;32md:\\Work\\Repos\\MIMIC-IV-Data-Pipeline\\mimic_pipeline.ipynb Cell 19\u001b[0m line \u001b[0;36m1\n\u001b[0;32m      <a href='vscode-notebook-cell:/d%3A/Work/Repos/MIMIC-IV-Data-Pipeline/mimic_pipeline.ipynb#X31sZmlsZQ%3D%3D?line=0'>1</a>\u001b[0m \u001b[39mfrom\u001b[39;00m \u001b[39mpipeline\u001b[39;00m\u001b[39m.\u001b[39;00m\u001b[39mfeatures_preprocessor\u001b[39;00m \u001b[39mimport\u001b[39;00m FeaturePreprocessor\n\u001b[0;32m      <a href='vscode-notebook-cell:/d%3A/Work/Repos/MIMIC-IV-Data-Pipeline/mimic_pipeline.ipynb#X31sZmlsZQ%3D%3D?line=1'>2</a>\u001b[0m feat_preproc \u001b[39m=\u001b[39m FeaturePreprocessor(feature_extractor\u001b[39m=\u001b[39mfeature_extractor, \n\u001b[0;32m      <a href='vscode-notebook-cell:/d%3A/Work/Repos/MIMIC-IV-Data-Pipeline/mimic_pipeline.ipynb#X31sZmlsZQ%3D%3D?line=2'>3</a>\u001b[0m                                    group_diag_icd\u001b[39m=\u001b[39mgroup_diag_icd, \n\u001b[0;32m      <a href='vscode-notebook-cell:/d%3A/Work/Repos/MIMIC-IV-Data-Pipeline/mimic_pipeline.ipynb#X31sZmlsZQ%3D%3D?line=3'>4</a>\u001b[0m                                    group_med_code\u001b[39m=\u001b[39mgroup_med_code,\n\u001b[1;32m   (...)\u001b[0m\n\u001b[0;32m      <a href='vscode-notebook-cell:/d%3A/Work/Repos/MIMIC-IV-Data-Pipeline/mimic_pipeline.ipynb#X31sZmlsZQ%3D%3D?line=8'>9</a>\u001b[0m                                    impute_labs\u001b[39m=\u001b[39m\u001b[39mFalse\u001b[39;00m,\n\u001b[0;32m     <a href='vscode-notebook-cell:/d%3A/Work/Repos/MIMIC-IV-Data-Pipeline/mimic_pipeline.ipynb#X31sZmlsZQ%3D%3D?line=9'>10</a>\u001b[0m                                    )\n\u001b[1;32m---> <a href='vscode-notebook-cell:/d%3A/Work/Repos/MIMIC-IV-Data-Pipeline/mimic_pipeline.ipynb#X31sZmlsZQ%3D%3D?line=10'>11</a>\u001b[0m preproc \u001b[39m=\u001b[39m feat_preproc\u001b[39m.\u001b[39;49mpreprocess_no_event_features()\n",
      "File \u001b[1;32md:\\Work\\Repos\\MIMIC-IV-Data-Pipeline\\pipeline\\features_preprocessor.py:82\u001b[0m, in \u001b[0;36mFeaturePreprocessor.preprocess_no_event_features\u001b[1;34m(self)\u001b[0m\n\u001b[0;32m     76\u001b[0m \u001b[39mif\u001b[39;00m \u001b[39mself\u001b[39m\u001b[39m.\u001b[39mfeature_extractor\u001b[39m.\u001b[39mfor_diagnoses:\n\u001b[0;32m     77\u001b[0m     dia \u001b[39m=\u001b[39m Diagnoses(\n\u001b[0;32m     78\u001b[0m         cohort\u001b[39m=\u001b[39mempty_cohort,\n\u001b[0;32m     79\u001b[0m         use_icu\u001b[39m=\u001b[39m\u001b[39mself\u001b[39m\u001b[39m.\u001b[39mfeature_extractor\u001b[39m.\u001b[39muse_icu,\n\u001b[0;32m     80\u001b[0m         icd_group_option\u001b[39m=\u001b[39m\u001b[39mself\u001b[39m\u001b[39m.\u001b[39mgroup_diag_icd,\n\u001b[0;32m     81\u001b[0m     )\n\u001b[1;32m---> 82\u001b[0m     no_event_preproc_features\u001b[39m.\u001b[39mappend(dia\u001b[39m.\u001b[39;49mpreproc())\n\u001b[0;32m     83\u001b[0m \u001b[39mif\u001b[39;00m \u001b[39mnot\u001b[39;00m \u001b[39mself\u001b[39m\u001b[39m.\u001b[39mfeature_extractor\u001b[39m.\u001b[39muse_icu:\n\u001b[0;32m     84\u001b[0m     \u001b[39mif\u001b[39;00m \u001b[39mself\u001b[39m\u001b[39m.\u001b[39mfeature_extractor\u001b[39m.\u001b[39mfor_medications:\n",
      "File \u001b[1;32md:\\Work\\Repos\\MIMIC-IV-Data-Pipeline\\pipeline\\feature\\diagnoses.py:81\u001b[0m, in \u001b[0;36mDiagnoses.preproc\u001b[1;34m(self)\u001b[0m\n\u001b[0;32m     79\u001b[0m diag \u001b[39m=\u001b[39m pd\u001b[39m.\u001b[39mread_csv(path, compression\u001b[39m=\u001b[39m\u001b[39m\"\u001b[39m\u001b[39mgzip\u001b[39m\u001b[39m\"\u001b[39m)\n\u001b[0;32m     80\u001b[0m \u001b[39mif\u001b[39;00m \u001b[39mself\u001b[39m\u001b[39m.\u001b[39micd_group_option \u001b[39m==\u001b[39m IcdGroupOption\u001b[39m.\u001b[39mKEEP:\n\u001b[1;32m---> 81\u001b[0m     diag[PreprocDiagnosesHeader\u001b[39m.\u001b[39mNEW_ICD_CODE] \u001b[39m=\u001b[39m diag[DiagnosesHeader\u001b[39m.\u001b[39;49mICD_CODE]\n\u001b[0;32m     82\u001b[0m \u001b[39mif\u001b[39;00m \u001b[39mself\u001b[39m\u001b[39m.\u001b[39micd_group_option \u001b[39m==\u001b[39m IcdGroupOption\u001b[39m.\u001b[39mCONVERT:\n\u001b[0;32m     83\u001b[0m     diag[PreprocDiagnosesHeader\u001b[39m.\u001b[39mNEW_ICD_CODE] \u001b[39m=\u001b[39m diag[DiagnosesHeader\u001b[39m.\u001b[39mROOT_ICD10]\n",
      "File \u001b[1;32md:\\Work\\Repos\\MIMIC-IV-Data-Pipeline\\venv\\Lib\\site-packages\\pandas\\core\\frame.py:3893\u001b[0m, in \u001b[0;36mDataFrame.__getitem__\u001b[1;34m(self, key)\u001b[0m\n\u001b[0;32m   3891\u001b[0m \u001b[39mif\u001b[39;00m \u001b[39mself\u001b[39m\u001b[39m.\u001b[39mcolumns\u001b[39m.\u001b[39mnlevels \u001b[39m>\u001b[39m \u001b[39m1\u001b[39m:\n\u001b[0;32m   3892\u001b[0m     \u001b[39mreturn\u001b[39;00m \u001b[39mself\u001b[39m\u001b[39m.\u001b[39m_getitem_multilevel(key)\n\u001b[1;32m-> 3893\u001b[0m indexer \u001b[39m=\u001b[39m \u001b[39mself\u001b[39;49m\u001b[39m.\u001b[39;49mcolumns\u001b[39m.\u001b[39;49mget_loc(key)\n\u001b[0;32m   3894\u001b[0m \u001b[39mif\u001b[39;00m is_integer(indexer):\n\u001b[0;32m   3895\u001b[0m     indexer \u001b[39m=\u001b[39m [indexer]\n",
      "File \u001b[1;32md:\\Work\\Repos\\MIMIC-IV-Data-Pipeline\\venv\\Lib\\site-packages\\pandas\\core\\indexes\\base.py:3797\u001b[0m, in \u001b[0;36mIndex.get_loc\u001b[1;34m(self, key)\u001b[0m\n\u001b[0;32m   3792\u001b[0m     \u001b[39mif\u001b[39;00m \u001b[39misinstance\u001b[39m(casted_key, \u001b[39mslice\u001b[39m) \u001b[39mor\u001b[39;00m (\n\u001b[0;32m   3793\u001b[0m         \u001b[39misinstance\u001b[39m(casted_key, abc\u001b[39m.\u001b[39mIterable)\n\u001b[0;32m   3794\u001b[0m         \u001b[39mand\u001b[39;00m \u001b[39many\u001b[39m(\u001b[39misinstance\u001b[39m(x, \u001b[39mslice\u001b[39m) \u001b[39mfor\u001b[39;00m x \u001b[39min\u001b[39;00m casted_key)\n\u001b[0;32m   3795\u001b[0m     ):\n\u001b[0;32m   3796\u001b[0m         \u001b[39mraise\u001b[39;00m InvalidIndexError(key)\n\u001b[1;32m-> 3797\u001b[0m     \u001b[39mraise\u001b[39;00m \u001b[39mKeyError\u001b[39;00m(key) \u001b[39mfrom\u001b[39;00m \u001b[39merr\u001b[39;00m\n\u001b[0;32m   3798\u001b[0m \u001b[39mexcept\u001b[39;00m \u001b[39mTypeError\u001b[39;00m:\n\u001b[0;32m   3799\u001b[0m     \u001b[39m# If we have a listlike key, _check_indexing_error will raise\u001b[39;00m\n\u001b[0;32m   3800\u001b[0m     \u001b[39m#  InvalidIndexError. Otherwise we fall through and re-raise\u001b[39;00m\n\u001b[0;32m   3801\u001b[0m     \u001b[39m#  the TypeError.\u001b[39;00m\n\u001b[0;32m   3802\u001b[0m     \u001b[39mself\u001b[39m\u001b[39m.\u001b[39m_check_indexing_error(key)\n",
      "\u001b[1;31mKeyError\u001b[0m: <DiagnosesHeader.ICD_CODE: 'icd_code'>"
     ]
    }
   ],
   "source": [
    "from pipeline.features_preprocessor import FeaturePreprocessor\n",
    "feat_preproc = FeaturePreprocessor(feature_extractor=feature_extractor, \n",
    "                                   group_diag_icd=group_diag_icd, \n",
    "                                   group_med_code=group_med_code,\n",
    "                                   keep_proc_icd9=keep_proc_icd9,\n",
    "                                   clean_chart=False,\n",
    "                                   impute_outlier_chart=False,\n",
    "                                   clean_labs=False,\n",
    "                                   impute_labs=False,\n",
    "                                   )\n",
    "preproc = feat_preproc.preprocess_no_event_features()"
   ]
  },
  {
   "cell_type": "markdown",
   "metadata": {},
   "source": [
    "### 4. SUMMARY OF FEATURES\n",
    "\n",
    "This step will generate summary of all features extracted so far.<br>\n",
    "It will save summary files in **./preproc_data/summary/**<br>\n",
    "- These files provide summary about **mean frequency** of medical codes per admission.<br>\n",
    "- It also provides **total occurrence count** of each medical code.<br>\n",
    "- For labs and chart events it will also provide <br>**missing %** which tells how many rows for a certain medical code has missing value.\n",
    "\n",
    "Please use this information to further refine your cohort by selecting <br>which medical codes in each feature you want to keep and <br>which codes you would like to remove for downstream analysis tasks.\n",
    "\n",
    "**Please run below cell to generate summary files**"
   ]
  },
  {
   "cell_type": "code",
   "execution_count": 32,
   "metadata": {},
   "outputs": [],
   "source": [
    "summaries = feat_preproc.save_summaries()"
   ]
  },
  {
   "cell_type": "markdown",
   "metadata": {},
   "source": [
    "## 5. Feature Selection\n",
    "\n",
    "based on the files generated in previous step and other infromation gathered by you,<br>\n",
    "Please select which medical codes you want to include in this study.\n",
    "\n",
    "Please run below cell to to select options for which features you want to perform feature selection.\n",
    "\n",
    "- Select **Yes** if you want to select a subset of medical codes for that feature and<br> **edit** the corresponding feature file for it.\n",
    "- Select **No** if you want to keep all the codes in a feature."
   ]
  },
  {
   "cell_type": "code",
   "execution_count": 33,
   "metadata": {},
   "outputs": [
    {
     "name": "stdout",
     "output_type": "stream",
     "text": [
      "Do you want to do Feature Selection for Diagnoses \n",
      " (If yes, please edit list of codes in ./data/summary/diag_features.csv)\n"
     ]
    },
    {
     "data": {
      "application/vnd.jupyter.widget-view+json": {
       "model_id": "b99a2e5fbc6b442dbfd9d9e7418631c7",
       "version_major": 2,
       "version_minor": 0
      },
      "text/plain": [
       "RadioButtons(index=1, options=('Yes', 'No'), value='No')"
      ]
     },
     "metadata": {},
     "output_type": "display_data"
    },
    {
     "name": "stdout",
     "output_type": "stream",
     "text": [
      "Do you want to do Feature Selection for Medications \n",
      " (If yes, please edit list of codes in ./data/summary/med_features.csv)\n"
     ]
    },
    {
     "data": {
      "application/vnd.jupyter.widget-view+json": {
       "model_id": "742b411f803d446c98f413b37326fc91",
       "version_major": 2,
       "version_minor": 0
      },
      "text/plain": [
       "RadioButtons(index=1, options=('Yes', 'No'), value='No')"
      ]
     },
     "metadata": {},
     "output_type": "display_data"
    },
    {
     "name": "stdout",
     "output_type": "stream",
     "text": [
      "Do you want to do Feature Selection for Procedures \n",
      " (If yes, please edit list of codes in ./data/summary/proc_features.csv)\n"
     ]
    },
    {
     "data": {
      "application/vnd.jupyter.widget-view+json": {
       "model_id": "7bba8810670441aaa544f7f4bbccfb55",
       "version_major": 2,
       "version_minor": 0
      },
      "text/plain": [
       "RadioButtons(index=1, options=('Yes', 'No'), value='No')"
      ]
     },
     "metadata": {},
     "output_type": "display_data"
    },
    {
     "name": "stdout",
     "output_type": "stream",
     "text": [
      "Do you want to do Feature Selection for Labs \n",
      " (If yes, please edit list of codes in ./data/summary/lab_features.csv)\n"
     ]
    },
    {
     "data": {
      "application/vnd.jupyter.widget-view+json": {
       "model_id": "05496de007b04236abd1804663a932f0",
       "version_major": 2,
       "version_minor": 0
      },
      "text/plain": [
       "RadioButtons(index=1, options=('Yes', 'No'), value='No')"
      ]
     },
     "metadata": {},
     "output_type": "display_data"
    },
    {
     "name": "stderr",
     "output_type": "stream",
     "text": [
      "DEBUG:Comm:handle_msg[b99a2e5fbc6b442dbfd9d9e7418631c7]({'header': {'date': datetime.datetime(2023, 12, 6, 16, 51, 46, 219000, tzinfo=tzutc()), 'msg_id': '49d64066-c5aa-4e5a-98ae-671b15c31517', 'msg_type': 'comm_msg', 'session': '4a4e8d02-4780-424c-ac50-4a755bdddb91', 'username': 'c1719500-6c9e-4e19-a197-19c14a569555', 'version': '5.2'}, 'msg_id': '49d64066-c5aa-4e5a-98ae-671b15c31517', 'msg_type': 'comm_msg', 'parent_header': {}, 'metadata': {}, 'content': {'comm_id': 'b99a2e5fbc6b442dbfd9d9e7418631c7', 'data': {'method': 'update', 'state': {'index': 0}, 'buffer_paths': []}}, 'buffers': []})\n",
      "DEBUG:Comm:handle_msg[742b411f803d446c98f413b37326fc91]({'header': {'date': datetime.datetime(2023, 12, 6, 16, 51, 47, 572000, tzinfo=tzutc()), 'msg_id': '01895a98-3d5b-436a-a36e-35007d0e7327', 'msg_type': 'comm_msg', 'session': '4a4e8d02-4780-424c-ac50-4a755bdddb91', 'username': 'c1719500-6c9e-4e19-a197-19c14a569555', 'version': '5.2'}, 'msg_id': '01895a98-3d5b-436a-a36e-35007d0e7327', 'msg_type': 'comm_msg', 'parent_header': {}, 'metadata': {}, 'content': {'comm_id': '742b411f803d446c98f413b37326fc91', 'data': {'method': 'update', 'state': {'index': 0}, 'buffer_paths': []}}, 'buffers': []})\n",
      "DEBUG:Comm:handle_msg[7bba8810670441aaa544f7f4bbccfb55]({'header': {'date': datetime.datetime(2023, 12, 6, 16, 51, 48, 960000, tzinfo=tzutc()), 'msg_id': 'c9795512-06a1-4dc2-b915-bd07e2e47ed1', 'msg_type': 'comm_msg', 'session': '4a4e8d02-4780-424c-ac50-4a755bdddb91', 'username': 'c1719500-6c9e-4e19-a197-19c14a569555', 'version': '5.2'}, 'msg_id': 'c9795512-06a1-4dc2-b915-bd07e2e47ed1', 'msg_type': 'comm_msg', 'parent_header': {}, 'metadata': {}, 'content': {'comm_id': '7bba8810670441aaa544f7f4bbccfb55', 'data': {'method': 'update', 'state': {'index': 0}, 'buffer_paths': []}}, 'buffers': []})\n",
      "DEBUG:Comm:handle_msg[05496de007b04236abd1804663a932f0]({'header': {'date': datetime.datetime(2023, 12, 6, 16, 51, 50, 75000, tzinfo=tzutc()), 'msg_id': '1114fb40-4816-41e6-bbc8-9c198445593e', 'msg_type': 'comm_msg', 'session': '4a4e8d02-4780-424c-ac50-4a755bdddb91', 'username': 'c1719500-6c9e-4e19-a197-19c14a569555', 'version': '5.2'}, 'msg_id': '1114fb40-4816-41e6-bbc8-9c198445593e', 'msg_type': 'comm_msg', 'parent_header': {}, 'metadata': {}, 'content': {'comm_id': '05496de007b04236abd1804663a932f0', 'data': {'method': 'update', 'state': {'index': 0}, 'buffer_paths': []}}, 'buffers': []})\n"
     ]
    }
   ],
   "source": [
    "if feature_extractor.for_diagnoses:\n",
    "    print(\"Do you want to do Feature Selection for Diagnoses \\n (If yes, please edit list of codes in ./data/summary/diag_features.csv)\")\n",
    "    select_dia_input = widgets.RadioButtons(options=['Yes','No'],value='No')\n",
    "    display(select_dia_input)   \n",
    "if feature_extractor.for_medications:\n",
    "    print(\"Do you want to do Feature Selection for Medications \\n (If yes, please edit list of codes in ./data/summary/med_features.csv)\")\n",
    "    select_med_input = widgets.RadioButtons(options=['Yes','No'],value='No')\n",
    "    display(select_med_input)   \n",
    "if feature_extractor.for_procedures:\n",
    "    print(\"Do you want to do Feature Selection for Procedures \\n (If yes, please edit list of codes in ./data/summary/proc_features.csv)\")\n",
    "    select_proc_input = widgets.RadioButtons(options=['Yes','No'],value='No')\n",
    "    display(select_proc_input)   \n",
    "if prediction_task.use_icu and feature_extractor.for_output_events:\n",
    "    print(\"Do you want to do Feature Selection for Output event \\n (If yes, please edit list of codes in ./data/summary/out_features.csv)\")\n",
    "    select_out_input = widgets.RadioButtons(options=['Yes','No'],value='No')\n",
    "    display(select_out_input)  \n",
    "if prediction_task.use_icu and feature_extractor.for_chart_events:\n",
    "    print(\"Do you want to do Feature Selection for Chart events \\n (If yes, please edit list of codes in ./data/summary/chart_features.csv)\")\n",
    "    select_chart_input = widgets.RadioButtons(options=['Yes','No'],value='No')\n",
    "    display(select_chart_input)  \n",
    "if not(prediction_task.use_icu) and feature_extractor.for_labs:\n",
    "    print(\"Do you want to do Feature Selection for Labs \\n (If yes, please edit list of codes in ./data/summary/lab_features.csv)\")\n",
    "    select_lab_input = widgets.RadioButtons(options=['Yes','No'],value='No')\n",
    "    display(select_lab_input)  "
   ]
  },
  {
   "cell_type": "code",
   "execution_count": 36,
   "metadata": {},
   "outputs": [],
   "source": [
    "from pipeline.feature_selector import FeatureSelector\n",
    "\n",
    "\n",
    "select_diag=select_dia_input.value == 'Yes' if feature_extractor.for_diagnoses else False\n",
    "select_med=select_med_input.value == 'Yes' if feature_extractor.for_medications else False\n",
    "select_proc=select_proc_input.value == 'Yes' if feature_extractor.for_procedures else False\n",
    "select_out=select_out_input.value == 'Yes' if prediction_task.use_icu and feature_extractor.for_output_events else False\n",
    "select_chart=select_chart_input.value == 'Yes' if prediction_task.use_icu and feature_extractor.for_chart_events else False\n",
    "select_lab=select_lab_input.value == 'Yes' if not (prediction_task.use_icu) and feature_extractor.for_labs else False\n",
    "\n",
    "feature_selector = FeatureSelector(prediction_task.use_icu, select_diag, select_med,select_proc, select_lab,select_chart, select_out)"
   ]
  },
  {
   "cell_type": "markdown",
   "metadata": {},
   "source": [
    "## 6. CLEANING OF FEATURES\n",
    "Below you will have option to to clean lab and chart events by performing outlier removal and unit conversion.\n",
    "\n",
    "Outlier removal is performed to remove values higher than selected **right threshold** percentile and lower than selected **left threshold** percentile among all values for each itemid. \n",
    "\n",
    "**Please run below cell to select preprocessing for diferent features**"
   ]
  },
  {
   "cell_type": "code",
   "execution_count": 42,
   "metadata": {},
   "outputs": [
    {
     "name": "stdout",
     "output_type": "stream",
     "text": [
      "Outlier removal in values of lab events ?\n"
     ]
    },
    {
     "data": {
      "application/vnd.jupyter.widget-view+json": {
       "model_id": "f98d1424e2464374b260fb226ca205fb",
       "version_major": 2,
       "version_minor": 0
      },
      "text/plain": [
       "RadioButtons(layout=Layout(height='40px', width='100%'), options=('No outlier detection', 'Impute Outlier (def…"
      ]
     },
     "metadata": {},
     "output_type": "display_data"
    },
    {
     "data": {
      "application/vnd.jupyter.widget-view+json": {
       "model_id": "8ed7d6298e4a4897984911ae307e1eae",
       "version_major": 2,
       "version_minor": 0
      },
      "text/plain": [
       "HBox(children=(Label(value='Right Outlier Threshold', layout=Layout(width='150px')), IntSlider(value=98, layou…"
      ]
     },
     "metadata": {},
     "output_type": "display_data"
    },
    {
     "data": {
      "application/vnd.jupyter.widget-view+json": {
       "model_id": "b2f534632761437e93c0397211b00e3d",
       "version_major": 2,
       "version_minor": 0
      },
      "text/plain": [
       "HBox(children=(Label(value='Left Outlier Threshold', layout=Layout(width='150px')), IntSlider(value=0, layout=…"
      ]
     },
     "metadata": {},
     "output_type": "display_data"
    }
   ],
   "source": [
    "if (prediction_task.use_icu and select_chart) or (not(prediction_task.use_icu) and select_lab):\n",
    "    event_name = \"chart\" if prediction_task.use_icu else \"lab\"\n",
    "    print(f\"Outlier removal in values of {event_name} events ?\")\n",
    "    layout = widgets.Layout(width='100%', height='40px') #set width and height\n",
    "\n",
    "    outlier_input = widgets.RadioButtons(options=['No outlier detection','Impute Outlier (default:98)','Remove outliers (default:98)'],value='No outlier detection',layout=layout)\n",
    "    display(outlier_input)\n",
    "    right_outlier=widgets.IntSlider(\n",
    "    value=98,\n",
    "    min=90,\n",
    "    max=99,\n",
    "    step=1,\n",
    "    disabled=False,layout={'width': '100%'}\n",
    "    )\n",
    "    left_outlier=widgets.IntSlider(\n",
    "    value=0,\n",
    "    min=0,\n",
    "    max=10,\n",
    "    step=1,\n",
    "    disabled=False,layout={'width': '100%'}\n",
    "    )\n",
    "    display(widgets.HBox([widgets.Label('Right Outlier Threshold',layout={'width': '150px'}), right_outlier]))\n",
    "    display(widgets.HBox([widgets.Label('Left Outlier Threshold',layout={'width': '150px'}), left_outlier]))\n"
   ]
  },
  {
   "cell_type": "code",
   "execution_count": 43,
   "metadata": {},
   "outputs": [
    {
     "data": {
      "text/plain": [
       "98"
      ]
     },
     "execution_count": 43,
     "metadata": {},
     "output_type": "execute_result"
    }
   ],
   "source": [
    "right_outlier.value"
   ]
  },
  {
   "cell_type": "code",
   "execution_count": 51,
   "metadata": {},
   "outputs": [],
   "source": [
    "right_thresh=100\n",
    "left_thresh = 0\n",
    "clean_chart = False\n",
    "clean_lab = False\n",
    "if (prediction_task.use_icu and select_chart):\n",
    "    clean_chart=outlier_input.value!='No outlier detection'\n",
    "    right_thresh = right_outlier\n",
    "    lefty_thresh = left_outlier\n",
    "if (prediction_task.use_icu and select_lab):\n",
    "    clean_lab=outlier_input.value!='No outlier detection'\n",
    "    right_thresh = right_outlier\n",
    "    lefty_thresh = left_outlier\n",
    "\n"
   ]
  },
  {
   "cell_type": "code",
   "execution_count": 52,
   "metadata": {},
   "outputs": [
    {
     "name": "stderr",
     "output_type": "stream",
     "text": [
      "INFO:root:[PROCESSING DIAGNOSIS DATA]\n",
      "INFO:root:Total number of rows: 1369\n",
      "INFO:root:[SUCCESSFULLY SAVED DIAGNOSES DATA]\n",
      "INFO:root:[PROCESSING MEDICATIONS DATA]\n"
     ]
    },
    {
     "ename": "KeyError",
     "evalue": "<NonIcuMedicationHeader.DRUG: 'drug'>",
     "output_type": "error",
     "traceback": [
      "\u001b[1;31m---------------------------------------------------------------------------\u001b[0m",
      "\u001b[1;31mKeyError\u001b[0m                                  Traceback (most recent call last)",
      "File \u001b[1;32md:\\Work\\Repos\\MIMIC-IV-Data-Pipeline\\venv\\Lib\\site-packages\\pandas\\core\\indexes\\base.py:3790\u001b[0m, in \u001b[0;36mIndex.get_loc\u001b[1;34m(self, key)\u001b[0m\n\u001b[0;32m   3789\u001b[0m \u001b[39mtry\u001b[39;00m:\n\u001b[1;32m-> 3790\u001b[0m     \u001b[39mreturn\u001b[39;00m \u001b[39mself\u001b[39;49m\u001b[39m.\u001b[39;49m_engine\u001b[39m.\u001b[39;49mget_loc(casted_key)\n\u001b[0;32m   3791\u001b[0m \u001b[39mexcept\u001b[39;00m \u001b[39mKeyError\u001b[39;00m \u001b[39mas\u001b[39;00m err:\n",
      "File \u001b[1;32mindex.pyx:152\u001b[0m, in \u001b[0;36mpandas._libs.index.IndexEngine.get_loc\u001b[1;34m()\u001b[0m\n",
      "File \u001b[1;32mindex.pyx:181\u001b[0m, in \u001b[0;36mpandas._libs.index.IndexEngine.get_loc\u001b[1;34m()\u001b[0m\n",
      "File \u001b[1;32mpandas\\_libs\\hashtable_class_helper.pxi:7080\u001b[0m, in \u001b[0;36mpandas._libs.hashtable.PyObjectHashTable.get_item\u001b[1;34m()\u001b[0m\n",
      "File \u001b[1;32mpandas\\_libs\\hashtable_class_helper.pxi:7088\u001b[0m, in \u001b[0;36mpandas._libs.hashtable.PyObjectHashTable.get_item\u001b[1;34m()\u001b[0m\n",
      "\u001b[1;31mKeyError\u001b[0m: <NonIcuMedicationHeader.DRUG: 'drug'>",
      "\nThe above exception was the direct cause of the following exception:\n",
      "\u001b[1;31mKeyError\u001b[0m                                  Traceback (most recent call last)",
      "\u001b[1;32md:\\Work\\Repos\\MIMIC-IV-Data-Pipeline\\mimic_pipeline.ipynb Cell 29\u001b[0m line \u001b[0;36m1\n\u001b[0;32m      <a href='vscode-notebook-cell:/d%3A/Work/Repos/MIMIC-IV-Data-Pipeline/mimic_pipeline.ipynb#X54sZmlsZQ%3D%3D?line=0'>1</a>\u001b[0m feat_preproc \u001b[39m=\u001b[39m FeaturePreprocessor(feature_extractor\u001b[39m=\u001b[39mfeature_extractor, \n\u001b[0;32m      <a href='vscode-notebook-cell:/d%3A/Work/Repos/MIMIC-IV-Data-Pipeline/mimic_pipeline.ipynb#X54sZmlsZQ%3D%3D?line=1'>2</a>\u001b[0m                                    group_diag_icd\u001b[39m=\u001b[39m\u001b[39mNone\u001b[39;00m,\n\u001b[0;32m      <a href='vscode-notebook-cell:/d%3A/Work/Repos/MIMIC-IV-Data-Pipeline/mimic_pipeline.ipynb#X54sZmlsZQ%3D%3D?line=2'>3</a>\u001b[0m                                    group_med_code\u001b[39m=\u001b[39m\u001b[39mFalse\u001b[39;00m,\n\u001b[1;32m   (...)\u001b[0m\n\u001b[0;32m     <a href='vscode-notebook-cell:/d%3A/Work/Repos/MIMIC-IV-Data-Pipeline/mimic_pipeline.ipynb#X54sZmlsZQ%3D%3D?line=12'>13</a>\u001b[0m                                    left_thresh\u001b[39m=\u001b[39mleft_thresh\n\u001b[0;32m     <a href='vscode-notebook-cell:/d%3A/Work/Repos/MIMIC-IV-Data-Pipeline/mimic_pipeline.ipynb#X54sZmlsZQ%3D%3D?line=13'>14</a>\u001b[0m                                    )\n\u001b[1;32m---> <a href='vscode-notebook-cell:/d%3A/Work/Repos/MIMIC-IV-Data-Pipeline/mimic_pipeline.ipynb#X54sZmlsZQ%3D%3D?line=14'>15</a>\u001b[0m preproc \u001b[39m=\u001b[39m feat_preproc\u001b[39m.\u001b[39;49mpreprocess_no_event_features()\n",
      "File \u001b[1;32md:\\Work\\Repos\\MIMIC-IV-Data-Pipeline\\pipeline\\features_preprocessor.py:90\u001b[0m, in \u001b[0;36mFeaturePreprocessor.preprocess_no_event_features\u001b[1;34m(self)\u001b[0m\n\u001b[0;32m     84\u001b[0m \u001b[39mif\u001b[39;00m \u001b[39mself\u001b[39m\u001b[39m.\u001b[39mfeature_extractor\u001b[39m.\u001b[39mfor_medications:\n\u001b[0;32m     85\u001b[0m     med \u001b[39m=\u001b[39m Medications(\n\u001b[0;32m     86\u001b[0m         cohort\u001b[39m=\u001b[39mempty_cohort,\n\u001b[0;32m     87\u001b[0m         use_icu\u001b[39m=\u001b[39m\u001b[39mself\u001b[39m\u001b[39m.\u001b[39mfeature_extractor\u001b[39m.\u001b[39muse_icu,\n\u001b[0;32m     88\u001b[0m         group_code\u001b[39m=\u001b[39m\u001b[39mself\u001b[39m\u001b[39m.\u001b[39mgroup_med_code,\n\u001b[0;32m     89\u001b[0m     )\n\u001b[1;32m---> 90\u001b[0m     no_event_preproc_features\u001b[39m.\u001b[39mappend(med\u001b[39m.\u001b[39;49mpreproc())\n\u001b[0;32m     91\u001b[0m \u001b[39mif\u001b[39;00m \u001b[39mself\u001b[39m\u001b[39m.\u001b[39mfeature_extractor\u001b[39m.\u001b[39mfor_procedures:\n\u001b[0;32m     92\u001b[0m     proc \u001b[39m=\u001b[39m Procedures(\n\u001b[0;32m     93\u001b[0m         cohort\u001b[39m=\u001b[39mempty_cohort,\n\u001b[0;32m     94\u001b[0m         use_icu\u001b[39m=\u001b[39m\u001b[39mself\u001b[39m\u001b[39m.\u001b[39mfeature_extractor\u001b[39m.\u001b[39muse_icu,\n\u001b[0;32m     95\u001b[0m         keep_icd9\u001b[39m=\u001b[39m\u001b[39mself\u001b[39m\u001b[39m.\u001b[39mkeep_proc_icd9,\n\u001b[0;32m     96\u001b[0m     )\n",
      "File \u001b[1;32md:\\Work\\Repos\\MIMIC-IV-Data-Pipeline\\pipeline\\feature\\medications.py:143\u001b[0m, in \u001b[0;36mMedications.preproc\u001b[1;34m(self)\u001b[0m\n\u001b[0;32m    138\u001b[0m path \u001b[39m=\u001b[39m \u001b[39mself\u001b[39m\u001b[39m.\u001b[39mfeature_path()\n\u001b[0;32m    139\u001b[0m med \u001b[39m=\u001b[39m pd\u001b[39m.\u001b[39mread_csv(path, compression\u001b[39m=\u001b[39m\u001b[39m\"\u001b[39m\u001b[39mgzip\u001b[39m\u001b[39m\"\u001b[39m)\n\u001b[0;32m    140\u001b[0m med[PreprocMedicationHeader\u001b[39m.\u001b[39mDRUG_NAME] \u001b[39m=\u001b[39m (\n\u001b[0;32m    141\u001b[0m     med[NonIcuMedicationHeader\u001b[39m.\u001b[39mNON_PROPRIEATARY_NAME]\n\u001b[0;32m    142\u001b[0m     \u001b[39mif\u001b[39;00m \u001b[39mself\u001b[39m\u001b[39m.\u001b[39mgroup_code\n\u001b[1;32m--> 143\u001b[0m     \u001b[39melse\u001b[39;00m med[NonIcuMedicationHeader\u001b[39m.\u001b[39;49mDRUG]\n\u001b[0;32m    144\u001b[0m )\n\u001b[0;32m    145\u001b[0m med \u001b[39m=\u001b[39m med\u001b[39m.\u001b[39mdrop(\n\u001b[0;32m    146\u001b[0m     columns\u001b[39m=\u001b[39m[\n\u001b[0;32m    147\u001b[0m         NonIcuMedicationHeader\u001b[39m.\u001b[39mNON_PROPRIEATARY_NAME,\n\u001b[0;32m    148\u001b[0m         NonIcuMedicationHeader\u001b[39m.\u001b[39mDRUG,\n\u001b[0;32m    149\u001b[0m     ]\n\u001b[0;32m    150\u001b[0m )\n\u001b[0;32m    151\u001b[0m med\u001b[39m.\u001b[39mdropna()\n",
      "File \u001b[1;32md:\\Work\\Repos\\MIMIC-IV-Data-Pipeline\\venv\\Lib\\site-packages\\pandas\\core\\frame.py:3893\u001b[0m, in \u001b[0;36mDataFrame.__getitem__\u001b[1;34m(self, key)\u001b[0m\n\u001b[0;32m   3891\u001b[0m \u001b[39mif\u001b[39;00m \u001b[39mself\u001b[39m\u001b[39m.\u001b[39mcolumns\u001b[39m.\u001b[39mnlevels \u001b[39m>\u001b[39m \u001b[39m1\u001b[39m:\n\u001b[0;32m   3892\u001b[0m     \u001b[39mreturn\u001b[39;00m \u001b[39mself\u001b[39m\u001b[39m.\u001b[39m_getitem_multilevel(key)\n\u001b[1;32m-> 3893\u001b[0m indexer \u001b[39m=\u001b[39m \u001b[39mself\u001b[39;49m\u001b[39m.\u001b[39;49mcolumns\u001b[39m.\u001b[39;49mget_loc(key)\n\u001b[0;32m   3894\u001b[0m \u001b[39mif\u001b[39;00m is_integer(indexer):\n\u001b[0;32m   3895\u001b[0m     indexer \u001b[39m=\u001b[39m [indexer]\n",
      "File \u001b[1;32md:\\Work\\Repos\\MIMIC-IV-Data-Pipeline\\venv\\Lib\\site-packages\\pandas\\core\\indexes\\base.py:3797\u001b[0m, in \u001b[0;36mIndex.get_loc\u001b[1;34m(self, key)\u001b[0m\n\u001b[0;32m   3792\u001b[0m     \u001b[39mif\u001b[39;00m \u001b[39misinstance\u001b[39m(casted_key, \u001b[39mslice\u001b[39m) \u001b[39mor\u001b[39;00m (\n\u001b[0;32m   3793\u001b[0m         \u001b[39misinstance\u001b[39m(casted_key, abc\u001b[39m.\u001b[39mIterable)\n\u001b[0;32m   3794\u001b[0m         \u001b[39mand\u001b[39;00m \u001b[39many\u001b[39m(\u001b[39misinstance\u001b[39m(x, \u001b[39mslice\u001b[39m) \u001b[39mfor\u001b[39;00m x \u001b[39min\u001b[39;00m casted_key)\n\u001b[0;32m   3795\u001b[0m     ):\n\u001b[0;32m   3796\u001b[0m         \u001b[39mraise\u001b[39;00m InvalidIndexError(key)\n\u001b[1;32m-> 3797\u001b[0m     \u001b[39mraise\u001b[39;00m \u001b[39mKeyError\u001b[39;00m(key) \u001b[39mfrom\u001b[39;00m \u001b[39merr\u001b[39;00m\n\u001b[0;32m   3798\u001b[0m \u001b[39mexcept\u001b[39;00m \u001b[39mTypeError\u001b[39;00m:\n\u001b[0;32m   3799\u001b[0m     \u001b[39m# If we have a listlike key, _check_indexing_error will raise\u001b[39;00m\n\u001b[0;32m   3800\u001b[0m     \u001b[39m#  InvalidIndexError. Otherwise we fall through and re-raise\u001b[39;00m\n\u001b[0;32m   3801\u001b[0m     \u001b[39m#  the TypeError.\u001b[39;00m\n\u001b[0;32m   3802\u001b[0m     \u001b[39mself\u001b[39m\u001b[39m.\u001b[39m_check_indexing_error(key)\n",
      "\u001b[1;31mKeyError\u001b[0m: <NonIcuMedicationHeader.DRUG: 'drug'>"
     ]
    }
   ],
   "source": [
    "feat_preproc = FeaturePreprocessor(feature_extractor=feature_extractor, \n",
    "                                   group_diag_icd=None,\n",
    "                                   group_med_code=False,\n",
    "                                   keep_proc_icd9=False,\n",
    "                            \n",
    "\n",
    "                                   clean_chart=clean_chart,\n",
    "                                   impute_outlier_chart = clean_chart,\n",
    "                                   clean_labs=clean_lab,\n",
    "                                   impute_labs = clean_lab,\n",
    "\n",
    "                                   thresh = right_thresh,\n",
    "                                   left_thresh=left_thresh\n",
    "                                   )\n",
    "preproc = feat_preproc.preprocess_no_event_features()"
   ]
  }
 ],
 "metadata": {
  "kernelspec": {
   "display_name": "venv",
   "language": "python",
   "name": "python3"
  },
  "language_info": {
   "codemirror_mode": {
    "name": "ipython",
    "version": 3
   },
   "file_extension": ".py",
   "mimetype": "text/x-python",
   "name": "python",
   "nbconvert_exporter": "python",
   "pygments_lexer": "ipython3",
   "version": "3.11.6"
  }
 },
 "nbformat": 4,
 "nbformat_minor": 2
}
