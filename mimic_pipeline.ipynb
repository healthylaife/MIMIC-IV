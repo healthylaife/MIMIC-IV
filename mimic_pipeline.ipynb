{
 "cells": [
  {
   "cell_type": "code",
   "execution_count": 1,
   "metadata": {},
   "outputs": [],
   "source": [
    "import ipywidgets as widgets\n",
    "from pathlib import Path"
   ]
  },
  {
   "cell_type": "code",
   "execution_count": 81,
   "metadata": {},
   "outputs": [],
   "source": [
    "from my_preprocessing.cohort_extractor import CohortExtractor\n",
    "from my_preprocessing.prediction_task import TargetType, PredictionTask, DiseaseCode"
   ]
  },
  {
   "cell_type": "markdown",
   "metadata": {},
   "source": [
    "# Welcome to MIMIC-IV Project"
   ]
  },
  {
   "cell_type": "code",
   "execution_count": 11,
   "metadata": {},
   "outputs": [],
   "source": [
    "\n",
    "Path(\"raw_data\").mkdir(parents=True, exist_ok=True)"
   ]
  },
  {
   "cell_type": "markdown",
   "metadata": {},
   "source": [
    "This repository explains the steps to download and clean MIMIC-IV dataset for analysis.\n",
    "The repository is compatible with MIMIC-IV v2.0\n",
    "\n",
    "Please go to:\n",
    "- https://physionet.org/content/mimiciv/2.0/ \n",
    "\n",
    "Follow instructions to get access to MIMIC-IV dataset.\n",
    "\n",
    "\n",
    "Save downloaded files in the fikder raw_data\n",
    "\n",
    "The structure should look like below\n",
    "- raw_data/mimiciv_2_0/hosp\n",
    "- raw_data/mimiciv_2_0/icu"
   ]
  },
  {
   "cell_type": "markdown",
   "metadata": {},
   "source": [
    "## 1. DATA EXTRACTION"
   ]
  },
  {
   "cell_type": "code",
   "execution_count": 32,
   "metadata": {},
   "outputs": [
    {
     "name": "stdout",
     "output_type": "stream",
     "text": [
      "Please select what prediction task you want to perform ?\n"
     ]
    },
    {
     "data": {
      "application/vnd.jupyter.widget-view+json": {
       "model_id": "ca63c51277164ca2baf2efba47f1f61f",
       "version_major": 2,
       "version_minor": 0
      },
      "text/plain": [
       "RadioButtons(options=('Mortality', 'Length of Stay', 'Readmission', 'Phenotype'), value='Mortality')"
      ]
     },
     "metadata": {},
     "output_type": "display_data"
    }
   ],
   "source": [
    "print(\"Please select what prediction task you want to perform ?\")\n",
    "task_ratio = widgets.RadioButtons(options=['Mortality','Length of Stay','Readmission','Phenotype'],value='Mortality')\n",
    "display(task_ratio)"
   ]
  },
  {
   "cell_type": "markdown",
   "metadata": {},
   "source": [
    "### Refining Cohort and Prediction Task Definition\n",
    "\n",
    "Based on your current selection following block will provide option to further refine prediction task and cohort associated with it:\n",
    "\n",
    "- First you will refine the prediction task choosing from following options -\n",
    "    - **Length of Stay** - You can select from two predefined options or enter custom number of days to predict length os stay greater than number of days.\n",
    "\n",
    "    - **Readmission** - You can select from two predefined options or enter custom number of days to predict readmission after \"number of days\" after previous admission.\n",
    "\n",
    "    - **Phenotype Prediction** - You can select from four major chronic diseases to predict its future outcome\n",
    "\n",
    "        - Heart failure\n",
    "        - CAD (Coronary Artery Disease)\n",
    "        - CKD (Chronic Kidney Disease)\n",
    "        - COPD (Chronic obstructive pulmonary disease)\n",
    "\n",
    "- Second, you will choode whether to perfom above task using ICU or non-ICU admissions data\n",
    "\n",
    "- Third, you can refine the refine the cohort selection for any of the above choosen prediction tasks by including the admission samples admitted with particular chronic disease - \n",
    "    - Heart failure\n",
    "    - CAD (Coronary Artery Disease)\n",
    "    - CKD (Chronic Kidney Disease)\n",
    "    - COPD (Chronic obstructive pulmonary disease)\n",
    "    "
   ]
  },
  {
   "cell_type": "code",
   "execution_count": 85,
   "metadata": {},
   "outputs": [],
   "source": [
    "def create_length_of_stay_widgets():\n",
    "    radio_options = ['Length of Stay ≥ 3', 'Length of Stay ≥ 7', 'Custom']\n",
    "    radio_input = widgets.RadioButtons(options=radio_options, value='Length of Stay ≥ 3')\n",
    "    slider = widgets.IntSlider(value=3, min=1, max=10, step=1, continuous_update=False)\n",
    "    display(radio_input, widgets.HBox([widgets.Label('Length of stay ≥ (days):', layout={'width': '180px'}), slider]))\n",
    "    return radio_input, slider\n",
    "\n",
    "def create_readmission_widgets():\n",
    "    radio_options = ['30 Day Readmission', '60 Day Readmission', '90 Day Readmission', '120 Day Readmission', 'Custom']\n",
    "    radio_input = widgets.RadioButtons(options=radio_options, value='30 Day Readmission')\n",
    "    slider = widgets.IntSlider(value=30, min=10, max=150, step=10)\n",
    "    display(radio_input, widgets.HBox([widgets.Label('Readmission after (days):', layout={'width': '180px'}), slider]))\n",
    "    return radio_input, slider\n",
    "\n",
    "def create_phenotype_widgets():\n",
    "    radio_options = ['Heart Failure in 30 days', 'CAD in 30 days', 'CKD in 30 days', 'COPD in 30 days']\n",
    "    radio_input = widgets.RadioButtons(options=radio_options, value='Heart Failure in 30 days')\n",
    "    display(radio_input)\n",
    "    return radio_input\n",
    "\n",
    "def create_mortality_widgets():\n",
    "    radio_input = widgets.RadioButtons(options=['Mortality'], value='Mortality')\n",
    "    return radio_input\n"
   ]
  },
  {
   "cell_type": "code",
   "execution_count": 86,
   "metadata": {},
   "outputs": [
    {
     "name": "stdout",
     "output_type": "stream",
     "text": [
      "Please select below if you want to work with ICU or Non-ICU data:\n"
     ]
    },
    {
     "data": {
      "application/vnd.jupyter.widget-view+json": {
       "model_id": "4742ef8199954fc6a0b10ab5184bb265",
       "version_major": 2,
       "version_minor": 0
      },
      "text/plain": [
       "RadioButtons(options=('ICU', 'Non-ICU'), value='ICU')"
      ]
     },
     "metadata": {},
     "output_type": "display_data"
    },
    {
     "name": "stdout",
     "output_type": "stream",
     "text": [
      "Please select if you want to perform the chosen prediction task for a specific disease.\n"
     ]
    },
    {
     "data": {
      "application/vnd.jupyter.widget-view+json": {
       "model_id": "a7895861b4b341e3b5ed92f05a8643da",
       "version_major": 2,
       "version_minor": 0
      },
      "text/plain": [
       "RadioButtons(options=('No Disease Filter', 'Heart Failure', 'CKD', 'CAD', 'COPD'), value='No Disease Filter')"
      ]
     },
     "metadata": {},
     "output_type": "display_data"
    }
   ],
   "source": [
    "if task_ratio.value != 'Mortality':\n",
    "    print(\"Please select to precise the prediction task \")\n",
    "if task_ratio.value == 'Length of Stay':\n",
    "    los_radio, los_slider = create_length_of_stay_widgets()\n",
    "elif task_ratio.value == 'Readmission':\n",
    "    readmission_radio, readmission_slider = create_readmission_widgets()\n",
    "elif task_ratio.value == 'Phenotype':\n",
    "    phenotype_radio = create_phenotype_widgets()\n",
    "elif task_ratio.value == 'Mortality':\n",
    "    mortality_radio = create_mortality_widgets()\n",
    "\n",
    "print(\"Please select below if you want to work with ICU or Non-ICU data:\")\n",
    "icu_type_input = widgets.RadioButtons(options=['ICU', 'Non-ICU'], value='ICU')\n",
    "display(icu_type_input)\n",
    "\n",
    "print(\"Please select if you want to perform the chosen prediction task for a specific disease.\")\n",
    "disease_filter_input = widgets.RadioButtons(options=['No Disease Filter', 'Heart Failure', 'CKD', 'CAD', 'COPD'], value='No Disease Filter')\n",
    "display(disease_filter_input)\n",
    "\n"
   ]
  },
  {
   "cell_type": "code",
   "execution_count": 92,
   "metadata": {},
   "outputs": [],
   "source": [
    "def get_time_from_input():\n",
    "    task_type = task_ratio.value\n",
    "    if task_type == 'Length of Stay' and los_radio.value == 'Custom':\n",
    "        return los_slider.value\n",
    "    elif task_type == 'Readmission' and readmission_radio.value == 'Custom':\n",
    "        return readmission_slider.value\n",
    "    elif task_type == 'Readmission':\n",
    "        return int(los_radio.value.split()[0])\n",
    "    elif task_type == 'Length of Stay':\n",
    "        return int(los_radio.value.split()[4])\n",
    "    elif task_type == 'Phenotype':\n",
    "        return 30\n",
    "    return 0\n",
    "\n",
    "def get_disease_label():\n",
    "    if task_ratio.value != 'Phenotype':\n",
    "        return None\n",
    "    task_type = phenotype_radio.value\n",
    "    disease_mapping = {\n",
    "        'Heart Failure in 30 days': DiseaseCode.HEARTH_FAILURE,\n",
    "        'CAD in 30 days': DiseaseCode.CAD,\n",
    "        'CKD in 30 days': DiseaseCode.CKD,\n",
    "        'COPD in 30 days': DiseaseCode.COPD\n",
    "    }\n",
    "    return disease_mapping.get(task_type, \"\")\n",
    "\n",
    "def convert_to_icd_code(disease):\n",
    "    if (disease==\"Heart Failure\"):\n",
    "        icd_code=DiseaseCode.HEARTH_FAILURE\n",
    "    elif (disease==\"CKD\"):\n",
    "        icd_code=DiseaseCode.CKD\n",
    "    elif (disease==\"COPD\"):\n",
    "        icd_code=DiseaseCode.COPD\n",
    "    elif (disease==\"CAD\"):\n",
    "        icd_code=DiseaseCode.CAD\n",
    "    else:\n",
    "        icd_code=None\n",
    "    return icd_code \n",
    "\n",
    "def convert_to_prediction_task(task_text):\n",
    "    if task_text == 'Length of Stay':\n",
    "        return TargetType.LOS\n",
    "    elif task_text == 'Mortality':  \n",
    "        return TargetType.MORTALITY\n",
    "    else:\n",
    "        return TargetType.READMISSION"
   ]
  },
  {
   "cell_type": "code",
   "execution_count": 95,
   "metadata": {},
   "outputs": [],
   "source": [
    "prediction_task = PredictionTask(\n",
    "    target_type = convert_to_prediction_task(task_ratio.value), \n",
    "    disease_readmission= get_disease_label(), \n",
    "    disease_selection=convert_to_icd_code(disease_filter_input.value) if 'in 30 days' in phenotype_radio.value else None,\n",
    "    nb_days=get_time_from_input(), \n",
    "    use_icu=icu_type_input.value\n",
    ")\n",
    "cohort_extractor = CohortExtractor(\n",
    "    prediction_task=prediction_task,\n",
    "    preproc_dir=\"\",\n",
    "    cohort_output=\"\",\n",
    "    summary_output=\"\",\n",
    ")"
   ]
  },
  {
   "cell_type": "code",
   "execution_count": 96,
   "metadata": {},
   "outputs": [],
   "source": [
    "cohort = cohort_extractor.extract()"
   ]
  },
  {
   "cell_type": "markdown",
   "metadata": {},
   "source": [
    "## 2. FEATURE SELECTION\n",
    "Features available for ICU data -\n",
    "- Diagnosis (https://mimic.mit.edu/docs/iv/modules/hosp/diagnoses_icd/)\n",
    "- Procedures (https://mimic.mit.edu/docs/iv/modules/icu/procedureevents/)\n",
    "- Medications (https://mimic.mit.edu/docs/iv/modules/icu/inputevents/)\n",
    "- Output Events (https://mimic.mit.edu/docs/iv/modules/icu/outputevents/)\n",
    "- Chart Events (https://mimic.mit.edu/docs/iv/modules/icu/chartevents/)\n",
    "\n",
    "Features available for ICU data -\n",
    "- Diagnosis (https://mimic.mit.edu/docs/iv/modules/hosp/diagnoses_icd/)\n",
    "- Procedures (https://mimic.mit.edu/docs/iv/modules/hosp/procedures_icd/)\n",
    "- Medications (https://mimic.mit.edu/docs/iv/modules/hosp/prescriptions/)\n",
    "- Lab Events (https://mimic.mit.edu/docs/iv/modules/hosp/labevents/)\n",
    "\n",
    "All features will be saved in **./preproc_data/features/**"
   ]
  },
  {
   "cell_type": "code",
   "execution_count": 98,
   "metadata": {},
   "outputs": [
    {
     "name": "stdout",
     "output_type": "stream",
     "text": [
      "Feature Selection\n",
      "Which Features you want to include for cohort?\n"
     ]
    },
    {
     "data": {
      "application/vnd.jupyter.widget-view+json": {
       "model_id": "3e02ad8373a84c42adb73b59fcd8d388",
       "version_major": 2,
       "version_minor": 0
      },
      "text/plain": [
       "Checkbox(value=False, description='Diagnosis')"
      ]
     },
     "metadata": {},
     "output_type": "display_data"
    },
    {
     "data": {
      "application/vnd.jupyter.widget-view+json": {
       "model_id": "b1300ba8e9364b6bbe778a938f98c98c",
       "version_major": 2,
       "version_minor": 0
      },
      "text/plain": [
       "Checkbox(value=False, description='Output Events')"
      ]
     },
     "metadata": {},
     "output_type": "display_data"
    },
    {
     "data": {
      "application/vnd.jupyter.widget-view+json": {
       "model_id": "b45ccdf397ad47c985aedc7c649700af",
       "version_major": 2,
       "version_minor": 0
      },
      "text/plain": [
       "Checkbox(value=False, description='Chart Events(Labs and Vitals)')"
      ]
     },
     "metadata": {},
     "output_type": "display_data"
    },
    {
     "data": {
      "application/vnd.jupyter.widget-view+json": {
       "model_id": "f9adfd4aee4440a58802587a552087c1",
       "version_major": 2,
       "version_minor": 0
      },
      "text/plain": [
       "Checkbox(value=False, description='Procedures')"
      ]
     },
     "metadata": {},
     "output_type": "display_data"
    },
    {
     "data": {
      "application/vnd.jupyter.widget-view+json": {
       "model_id": "acfadc074543482c9331ba424f78f2b5",
       "version_major": 2,
       "version_minor": 0
      },
      "text/plain": [
       "Checkbox(value=False, description='Medications')"
      ]
     },
     "metadata": {},
     "output_type": "display_data"
    },
    {
     "name": "stdout",
     "output_type": "stream",
     "text": [
      "**Please run below cell to extract selected features**\n"
     ]
    }
   ],
   "source": [
    "print(\"Feature Selection\")\n",
    "if cohort_extractor.prediction_task.use_icu:\n",
    "    print(\"Which Features you want to include for cohort?\")\n",
    "    dia_input = widgets.Checkbox(description='Diagnosis')\n",
    "    display(dia_input)\n",
    "    out_input = widgets.Checkbox(description='Output Events')\n",
    "    display(out_input)\n",
    "    chart_input = widgets.Checkbox(description='Chart Events(Labs and Vitals)')\n",
    "    display(chart_input)\n",
    "    proc_input = widgets.Checkbox(description='Procedures')\n",
    "    display(proc_input)\n",
    "    med_input = widgets.Checkbox(description='Medications')\n",
    "    display(med_input)\n",
    "else:\n",
    "    print(\"Which Features you want to include for cohort?\")\n",
    "    dia_input = widgets.Checkbox(description='Diagnosis')\n",
    "    display(dia_input)\n",
    "    lab_input = widgets.Checkbox(description='Labs')\n",
    "    display(lab_input)\n",
    "    proc_input = widgets.Checkbox(description='Procedures')\n",
    "    display(proc_input)\n",
    "    med_input = widgets.Checkbox(description='Medications')\n",
    "    display(med_input)\n",
    "print(\"**Please run below cell to extract selected features**\")"
   ]
  }
 ],
 "metadata": {
  "kernelspec": {
   "display_name": "venv",
   "language": "python",
   "name": "python3"
  },
  "language_info": {
   "codemirror_mode": {
    "name": "ipython",
    "version": 3
   },
   "file_extension": ".py",
   "mimetype": "text/x-python",
   "name": "python",
   "nbconvert_exporter": "python",
   "pygments_lexer": "ipython3",
   "version": "3.11.6"
  }
 },
 "nbformat": 4,
 "nbformat_minor": 2
}
